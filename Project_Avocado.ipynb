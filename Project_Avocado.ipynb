{
 "cells": [
  {
   "cell_type": "code",
   "execution_count": 1,
   "metadata": {},
   "outputs": [],
   "source": [
    "#importing libraries\n",
    "import pandas as pd\n",
    "import numpy as np\n",
    "import matplotlib.pyplot as plt\n",
    "import seaborn as sns\n",
    "import warnings\n",
    "warnings.filterwarnings('ignore')"
   ]
  },
  {
   "cell_type": "markdown",
   "metadata": {},
   "source": [
    "The dataset here we are going to explore is formed from the Hass Avocado Board(HAB) website.HAB is the only avocado organization that equips the entire global industry for success by collecting, focusing and distributing investments to maintain and expand demand for avocados in the United States.\n",
    " Our task is to perform a complete EDA for the given dataset and visualize the data in two angles:- to find the city or region; find the average price"
   ]
  },
  {
   "cell_type": "code",
   "execution_count": 2,
   "metadata": {},
   "outputs": [
    {
     "data": {
      "text/html": [
       "<div>\n",
       "<style scoped>\n",
       "    .dataframe tbody tr th:only-of-type {\n",
       "        vertical-align: middle;\n",
       "    }\n",
       "\n",
       "    .dataframe tbody tr th {\n",
       "        vertical-align: top;\n",
       "    }\n",
       "\n",
       "    .dataframe thead th {\n",
       "        text-align: right;\n",
       "    }\n",
       "</style>\n",
       "<table border=\"1\" class=\"dataframe\">\n",
       "  <thead>\n",
       "    <tr style=\"text-align: right;\">\n",
       "      <th></th>\n",
       "      <th>Unnamed: 0</th>\n",
       "      <th>Date</th>\n",
       "      <th>AveragePrice</th>\n",
       "      <th>Total Volume</th>\n",
       "      <th>4046</th>\n",
       "      <th>4225</th>\n",
       "      <th>4770</th>\n",
       "      <th>Total Bags</th>\n",
       "      <th>Small Bags</th>\n",
       "      <th>Large Bags</th>\n",
       "      <th>XLarge Bags</th>\n",
       "      <th>type</th>\n",
       "      <th>year</th>\n",
       "      <th>region</th>\n",
       "    </tr>\n",
       "  </thead>\n",
       "  <tbody>\n",
       "    <tr>\n",
       "      <th>0</th>\n",
       "      <td>0</td>\n",
       "      <td>2015-12-27</td>\n",
       "      <td>1.33</td>\n",
       "      <td>64236.62</td>\n",
       "      <td>1036.74</td>\n",
       "      <td>54454.85</td>\n",
       "      <td>48.16</td>\n",
       "      <td>8696.87</td>\n",
       "      <td>8603.62</td>\n",
       "      <td>93.25</td>\n",
       "      <td>0.00</td>\n",
       "      <td>conventional</td>\n",
       "      <td>2015</td>\n",
       "      <td>Albany</td>\n",
       "    </tr>\n",
       "    <tr>\n",
       "      <th>1</th>\n",
       "      <td>1</td>\n",
       "      <td>2015-12-20</td>\n",
       "      <td>1.35</td>\n",
       "      <td>54876.98</td>\n",
       "      <td>674.28</td>\n",
       "      <td>44638.81</td>\n",
       "      <td>58.33</td>\n",
       "      <td>9505.56</td>\n",
       "      <td>9408.07</td>\n",
       "      <td>97.49</td>\n",
       "      <td>0.00</td>\n",
       "      <td>conventional</td>\n",
       "      <td>2015</td>\n",
       "      <td>Albany</td>\n",
       "    </tr>\n",
       "    <tr>\n",
       "      <th>2</th>\n",
       "      <td>2</td>\n",
       "      <td>2015-12-13</td>\n",
       "      <td>0.93</td>\n",
       "      <td>118220.22</td>\n",
       "      <td>794.70</td>\n",
       "      <td>109149.67</td>\n",
       "      <td>130.50</td>\n",
       "      <td>8145.35</td>\n",
       "      <td>8042.21</td>\n",
       "      <td>103.14</td>\n",
       "      <td>0.00</td>\n",
       "      <td>conventional</td>\n",
       "      <td>2015</td>\n",
       "      <td>Albany</td>\n",
       "    </tr>\n",
       "    <tr>\n",
       "      <th>3</th>\n",
       "      <td>3</td>\n",
       "      <td>2015-06-12</td>\n",
       "      <td>1.08</td>\n",
       "      <td>78992.15</td>\n",
       "      <td>1132.00</td>\n",
       "      <td>71976.41</td>\n",
       "      <td>72.58</td>\n",
       "      <td>5811.16</td>\n",
       "      <td>5677.40</td>\n",
       "      <td>133.76</td>\n",
       "      <td>0.00</td>\n",
       "      <td>conventional</td>\n",
       "      <td>2015</td>\n",
       "      <td>Albany</td>\n",
       "    </tr>\n",
       "    <tr>\n",
       "      <th>4</th>\n",
       "      <td>4</td>\n",
       "      <td>2015-11-29</td>\n",
       "      <td>1.28</td>\n",
       "      <td>51039.60</td>\n",
       "      <td>941.48</td>\n",
       "      <td>43838.39</td>\n",
       "      <td>75.78</td>\n",
       "      <td>6183.95</td>\n",
       "      <td>5986.26</td>\n",
       "      <td>197.69</td>\n",
       "      <td>0.00</td>\n",
       "      <td>conventional</td>\n",
       "      <td>2015</td>\n",
       "      <td>Albany</td>\n",
       "    </tr>\n",
       "    <tr>\n",
       "      <th>...</th>\n",
       "      <td>...</td>\n",
       "      <td>...</td>\n",
       "      <td>...</td>\n",
       "      <td>...</td>\n",
       "      <td>...</td>\n",
       "      <td>...</td>\n",
       "      <td>...</td>\n",
       "      <td>...</td>\n",
       "      <td>...</td>\n",
       "      <td>...</td>\n",
       "      <td>...</td>\n",
       "      <td>...</td>\n",
       "      <td>...</td>\n",
       "      <td>...</td>\n",
       "    </tr>\n",
       "    <tr>\n",
       "      <th>1512</th>\n",
       "      <td>10</td>\n",
       "      <td>2016-10-16</td>\n",
       "      <td>1.39</td>\n",
       "      <td>190846.01</td>\n",
       "      <td>57529.11</td>\n",
       "      <td>56366.66</td>\n",
       "      <td>17531.78</td>\n",
       "      <td>59418.46</td>\n",
       "      <td>48823.53</td>\n",
       "      <td>10354.65</td>\n",
       "      <td>240.28</td>\n",
       "      <td>conventional</td>\n",
       "      <td>2016</td>\n",
       "      <td>Charlotte</td>\n",
       "    </tr>\n",
       "    <tr>\n",
       "      <th>1513</th>\n",
       "      <td>11</td>\n",
       "      <td>2016-09-10</td>\n",
       "      <td>1.51</td>\n",
       "      <td>178235.75</td>\n",
       "      <td>43325.87</td>\n",
       "      <td>52189.61</td>\n",
       "      <td>19419.57</td>\n",
       "      <td>63300.70</td>\n",
       "      <td>54704.14</td>\n",
       "      <td>8596.56</td>\n",
       "      <td>0.00</td>\n",
       "      <td>conventional</td>\n",
       "      <td>2016</td>\n",
       "      <td>Charlotte</td>\n",
       "    </tr>\n",
       "    <tr>\n",
       "      <th>1514</th>\n",
       "      <td>12</td>\n",
       "      <td>2016-02-10</td>\n",
       "      <td>1.48</td>\n",
       "      <td>178410.82</td>\n",
       "      <td>46364.75</td>\n",
       "      <td>52893.38</td>\n",
       "      <td>16736.92</td>\n",
       "      <td>62415.77</td>\n",
       "      <td>53332.61</td>\n",
       "      <td>8258.16</td>\n",
       "      <td>825.00</td>\n",
       "      <td>conventional</td>\n",
       "      <td>2016</td>\n",
       "      <td>Charlotte</td>\n",
       "    </tr>\n",
       "    <tr>\n",
       "      <th>1515</th>\n",
       "      <td>13</td>\n",
       "      <td>2016-09-25</td>\n",
       "      <td>1.47</td>\n",
       "      <td>189131.52</td>\n",
       "      <td>54110.79</td>\n",
       "      <td>53593.58</td>\n",
       "      <td>17495.42</td>\n",
       "      <td>63931.73</td>\n",
       "      <td>55653.47</td>\n",
       "      <td>8278.26</td>\n",
       "      <td>0.00</td>\n",
       "      <td>conventional</td>\n",
       "      <td>2016</td>\n",
       "      <td>Charlotte</td>\n",
       "    </tr>\n",
       "    <tr>\n",
       "      <th>1516</th>\n",
       "      <td>14</td>\n",
       "      <td>2016-09-18</td>\n",
       "      <td>1.43</td>\n",
       "      <td>182978.30</td>\n",
       "      <td>43116.41</td>\n",
       "      <td>54193.42</td>\n",
       "      <td>16563.91</td>\n",
       "      <td>69104.56</td>\n",
       "      <td>57456.21</td>\n",
       "      <td>11648.35</td>\n",
       "      <td>0.00</td>\n",
       "      <td>conventional</td>\n",
       "      <td>2016</td>\n",
       "      <td>Charlotte</td>\n",
       "    </tr>\n",
       "  </tbody>\n",
       "</table>\n",
       "<p>1517 rows × 14 columns</p>\n",
       "</div>"
      ],
      "text/plain": [
       "      Unnamed: 0       Date  AveragePrice  Total Volume      4046       4225  \\\n",
       "0              0 2015-12-27          1.33      64236.62   1036.74   54454.85   \n",
       "1              1 2015-12-20          1.35      54876.98    674.28   44638.81   \n",
       "2              2 2015-12-13          0.93     118220.22    794.70  109149.67   \n",
       "3              3 2015-06-12          1.08      78992.15   1132.00   71976.41   \n",
       "4              4 2015-11-29          1.28      51039.60    941.48   43838.39   \n",
       "...          ...        ...           ...           ...       ...        ...   \n",
       "1512          10 2016-10-16          1.39     190846.01  57529.11   56366.66   \n",
       "1513          11 2016-09-10          1.51     178235.75  43325.87   52189.61   \n",
       "1514          12 2016-02-10          1.48     178410.82  46364.75   52893.38   \n",
       "1515          13 2016-09-25          1.47     189131.52  54110.79   53593.58   \n",
       "1516          14 2016-09-18          1.43     182978.30  43116.41   54193.42   \n",
       "\n",
       "          4770  Total Bags  Small Bags  Large Bags  XLarge Bags          type  \\\n",
       "0        48.16     8696.87     8603.62       93.25         0.00  conventional   \n",
       "1        58.33     9505.56     9408.07       97.49         0.00  conventional   \n",
       "2       130.50     8145.35     8042.21      103.14         0.00  conventional   \n",
       "3        72.58     5811.16     5677.40      133.76         0.00  conventional   \n",
       "4        75.78     6183.95     5986.26      197.69         0.00  conventional   \n",
       "...        ...         ...         ...         ...          ...           ...   \n",
       "1512  17531.78    59418.46    48823.53    10354.65       240.28  conventional   \n",
       "1513  19419.57    63300.70    54704.14     8596.56         0.00  conventional   \n",
       "1514  16736.92    62415.77    53332.61     8258.16       825.00  conventional   \n",
       "1515  17495.42    63931.73    55653.47     8278.26         0.00  conventional   \n",
       "1516  16563.91    69104.56    57456.21    11648.35         0.00  conventional   \n",
       "\n",
       "      year     region  \n",
       "0     2015     Albany  \n",
       "1     2015     Albany  \n",
       "2     2015     Albany  \n",
       "3     2015     Albany  \n",
       "4     2015     Albany  \n",
       "...    ...        ...  \n",
       "1512  2016  Charlotte  \n",
       "1513  2016  Charlotte  \n",
       "1514  2016  Charlotte  \n",
       "1515  2016  Charlotte  \n",
       "1516  2016  Charlotte  \n",
       "\n",
       "[1517 rows x 14 columns]"
      ]
     },
     "execution_count": 2,
     "metadata": {},
     "output_type": "execute_result"
    }
   ],
   "source": [
    "#importing dataframe from the csv file\n",
    "ds=pd.read_csv('avocado.csv',parse_dates=['Date'])\n",
    "ds"
   ]
  },
  {
   "cell_type": "code",
   "execution_count": 3,
   "metadata": {},
   "outputs": [
    {
     "data": {
      "text/plain": [
       "Index(['Unnamed: 0', 'Date', 'AveragePrice', 'Total Volume', '4046', '4225',\n",
       "       '4770', 'Total Bags', 'Small Bags', 'Large Bags', 'XLarge Bags', 'type',\n",
       "       'year', 'region'],\n",
       "      dtype='object')"
      ]
     },
     "execution_count": 3,
     "metadata": {},
     "output_type": "execute_result"
    }
   ],
   "source": [
    "ds.columns"
   ]
  },
  {
   "cell_type": "markdown",
   "metadata": {},
   "source": [
    "## Decription of each columns\n",
    "Date - The date of the observation\n",
    "\n",
    "AveragePrice - the average price of a single avocado\n",
    "\n",
    "type - conventional or organic\n",
    "\n",
    "year - the year\n",
    "\n",
    "Region - the city or region of the observation\n",
    "\n",
    "Total Volume - Total number of avocados sold\n",
    "\n",
    "4046 - Total number of avocados with PLU 4046 sold\n",
    "\n",
    "4225 - Total number of avocados with PLU 4225 sold\n",
    "\n",
    "4770 - Total number of avocados with PLU 4770 sold\n",
    "\n",
    "Total Bags - Total number of bags sold\n",
    "\n",
    "Small Bags - Total number of small bags sold\n",
    "\n",
    "Large Bags - Total number of large bags sold\n",
    "\n",
    "XLarge Bags - Total number of XLarge bags sold"
   ]
  },
  {
   "cell_type": "code",
   "execution_count": 4,
   "metadata": {},
   "outputs": [
    {
     "data": {
      "text/plain": [
       "Unnamed: 0               int64\n",
       "Date            datetime64[ns]\n",
       "AveragePrice           float64\n",
       "Total Volume           float64\n",
       "4046                   float64\n",
       "4225                   float64\n",
       "4770                   float64\n",
       "Total Bags             float64\n",
       "Small Bags             float64\n",
       "Large Bags             float64\n",
       "XLarge Bags            float64\n",
       "type                    object\n",
       "year                     int64\n",
       "region                  object\n",
       "dtype: object"
      ]
     },
     "execution_count": 4,
     "metadata": {},
     "output_type": "execute_result"
    }
   ],
   "source": [
    "#lets find the datatypes of each columns\n",
    "ds.dtypes"
   ]
  },
  {
   "cell_type": "code",
   "execution_count": 5,
   "metadata": {},
   "outputs": [
    {
     "data": {
      "text/plain": [
       "Unnamed: 0      0\n",
       "Date            0\n",
       "AveragePrice    0\n",
       "Total Volume    0\n",
       "4046            0\n",
       "4225            0\n",
       "4770            0\n",
       "Total Bags      0\n",
       "Small Bags      0\n",
       "Large Bags      0\n",
       "XLarge Bags     0\n",
       "type            0\n",
       "year            0\n",
       "region          0\n",
       "dtype: int64"
      ]
     },
     "execution_count": 5,
     "metadata": {},
     "output_type": "execute_result"
    }
   ],
   "source": [
    "#let us find whether there are null values in our dataset\n",
    "ds.isnull().sum()"
   ]
  },
  {
   "cell_type": "markdown",
   "metadata": {},
   "source": [
    "there are no null values present in any of the columns.we can aslo graphical visualize this by taking the heatmap"
   ]
  },
  {
   "cell_type": "code",
   "execution_count": 6,
   "metadata": {},
   "outputs": [
    {
     "data": {
      "text/plain": [
       "<matplotlib.axes._subplots.AxesSubplot at 0x29b43f8deb0>"
      ]
     },
     "execution_count": 6,
     "metadata": {},
     "output_type": "execute_result"
    },
    {
     "data": {
      "image/png": "[encoded data removed]",
      "text/plain": [
       "<Figure size 432x288 with 2 Axes>"
      ]
     },
     "metadata": {
      "needs_background": "light"
     },
     "output_type": "display_data"
    }
   ],
   "source": [
    "#finding null values using heatmap\n",
    "sns.heatmap(ds.isnull())"
   ]
  },
  {
   "cell_type": "code",
   "execution_count": 7,
   "metadata": {},
   "outputs": [
    {
     "data": {
      "text/html": [
       "<div>\n",
       "<style scoped>\n",
       "    .dataframe tbody tr th:only-of-type {\n",
       "        vertical-align: middle;\n",
       "    }\n",
       "\n",
       "    .dataframe tbody tr th {\n",
       "        vertical-align: top;\n",
       "    }\n",
       "\n",
       "    .dataframe thead th {\n",
       "        text-align: right;\n",
       "    }\n",
       "</style>\n",
       "<table border=\"1\" class=\"dataframe\">\n",
       "  <thead>\n",
       "    <tr style=\"text-align: right;\">\n",
       "      <th></th>\n",
       "      <th>Date</th>\n",
       "      <th>AveragePrice</th>\n",
       "      <th>Total Volume</th>\n",
       "      <th>4046</th>\n",
       "      <th>4225</th>\n",
       "      <th>4770</th>\n",
       "      <th>Total Bags</th>\n",
       "      <th>Small Bags</th>\n",
       "      <th>Large Bags</th>\n",
       "      <th>XLarge Bags</th>\n",
       "      <th>type</th>\n",
       "      <th>year</th>\n",
       "      <th>region</th>\n",
       "    </tr>\n",
       "  </thead>\n",
       "  <tbody>\n",
       "    <tr>\n",
       "      <th>0</th>\n",
       "      <td>2015-12-27</td>\n",
       "      <td>1.33</td>\n",
       "      <td>64236.62</td>\n",
       "      <td>1036.74</td>\n",
       "      <td>54454.85</td>\n",
       "      <td>48.16</td>\n",
       "      <td>8696.87</td>\n",
       "      <td>8603.62</td>\n",
       "      <td>93.25</td>\n",
       "      <td>0.00</td>\n",
       "      <td>conventional</td>\n",
       "      <td>2015</td>\n",
       "      <td>Albany</td>\n",
       "    </tr>\n",
       "    <tr>\n",
       "      <th>1</th>\n",
       "      <td>2015-12-20</td>\n",
       "      <td>1.35</td>\n",
       "      <td>54876.98</td>\n",
       "      <td>674.28</td>\n",
       "      <td>44638.81</td>\n",
       "      <td>58.33</td>\n",
       "      <td>9505.56</td>\n",
       "      <td>9408.07</td>\n",
       "      <td>97.49</td>\n",
       "      <td>0.00</td>\n",
       "      <td>conventional</td>\n",
       "      <td>2015</td>\n",
       "      <td>Albany</td>\n",
       "    </tr>\n",
       "    <tr>\n",
       "      <th>2</th>\n",
       "      <td>2015-12-13</td>\n",
       "      <td>0.93</td>\n",
       "      <td>118220.22</td>\n",
       "      <td>794.70</td>\n",
       "      <td>109149.67</td>\n",
       "      <td>130.50</td>\n",
       "      <td>8145.35</td>\n",
       "      <td>8042.21</td>\n",
       "      <td>103.14</td>\n",
       "      <td>0.00</td>\n",
       "      <td>conventional</td>\n",
       "      <td>2015</td>\n",
       "      <td>Albany</td>\n",
       "    </tr>\n",
       "    <tr>\n",
       "      <th>3</th>\n",
       "      <td>2015-06-12</td>\n",
       "      <td>1.08</td>\n",
       "      <td>78992.15</td>\n",
       "      <td>1132.00</td>\n",
       "      <td>71976.41</td>\n",
       "      <td>72.58</td>\n",
       "      <td>5811.16</td>\n",
       "      <td>5677.40</td>\n",
       "      <td>133.76</td>\n",
       "      <td>0.00</td>\n",
       "      <td>conventional</td>\n",
       "      <td>2015</td>\n",
       "      <td>Albany</td>\n",
       "    </tr>\n",
       "    <tr>\n",
       "      <th>4</th>\n",
       "      <td>2015-11-29</td>\n",
       "      <td>1.28</td>\n",
       "      <td>51039.60</td>\n",
       "      <td>941.48</td>\n",
       "      <td>43838.39</td>\n",
       "      <td>75.78</td>\n",
       "      <td>6183.95</td>\n",
       "      <td>5986.26</td>\n",
       "      <td>197.69</td>\n",
       "      <td>0.00</td>\n",
       "      <td>conventional</td>\n",
       "      <td>2015</td>\n",
       "      <td>Albany</td>\n",
       "    </tr>\n",
       "    <tr>\n",
       "      <th>...</th>\n",
       "      <td>...</td>\n",
       "      <td>...</td>\n",
       "      <td>...</td>\n",
       "      <td>...</td>\n",
       "      <td>...</td>\n",
       "      <td>...</td>\n",
       "      <td>...</td>\n",
       "      <td>...</td>\n",
       "      <td>...</td>\n",
       "      <td>...</td>\n",
       "      <td>...</td>\n",
       "      <td>...</td>\n",
       "      <td>...</td>\n",
       "    </tr>\n",
       "    <tr>\n",
       "      <th>1512</th>\n",
       "      <td>2016-10-16</td>\n",
       "      <td>1.39</td>\n",
       "      <td>190846.01</td>\n",
       "      <td>57529.11</td>\n",
       "      <td>56366.66</td>\n",
       "      <td>17531.78</td>\n",
       "      <td>59418.46</td>\n",
       "      <td>48823.53</td>\n",
       "      <td>10354.65</td>\n",
       "      <td>240.28</td>\n",
       "      <td>conventional</td>\n",
       "      <td>2016</td>\n",
       "      <td>Charlotte</td>\n",
       "    </tr>\n",
       "    <tr>\n",
       "      <th>1513</th>\n",
       "      <td>2016-09-10</td>\n",
       "      <td>1.51</td>\n",
       "      <td>178235.75</td>\n",
       "      <td>43325.87</td>\n",
       "      <td>52189.61</td>\n",
       "      <td>19419.57</td>\n",
       "      <td>63300.70</td>\n",
       "      <td>54704.14</td>\n",
       "      <td>8596.56</td>\n",
       "      <td>0.00</td>\n",
       "      <td>conventional</td>\n",
       "      <td>2016</td>\n",
       "      <td>Charlotte</td>\n",
       "    </tr>\n",
       "    <tr>\n",
       "      <th>1514</th>\n",
       "      <td>2016-02-10</td>\n",
       "      <td>1.48</td>\n",
       "      <td>178410.82</td>\n",
       "      <td>46364.75</td>\n",
       "      <td>52893.38</td>\n",
       "      <td>16736.92</td>\n",
       "      <td>62415.77</td>\n",
       "      <td>53332.61</td>\n",
       "      <td>8258.16</td>\n",
       "      <td>825.00</td>\n",
       "      <td>conventional</td>\n",
       "      <td>2016</td>\n",
       "      <td>Charlotte</td>\n",
       "    </tr>\n",
       "    <tr>\n",
       "      <th>1515</th>\n",
       "      <td>2016-09-25</td>\n",
       "      <td>1.47</td>\n",
       "      <td>189131.52</td>\n",
       "      <td>54110.79</td>\n",
       "      <td>53593.58</td>\n",
       "      <td>17495.42</td>\n",
       "      <td>63931.73</td>\n",
       "      <td>55653.47</td>\n",
       "      <td>8278.26</td>\n",
       "      <td>0.00</td>\n",
       "      <td>conventional</td>\n",
       "      <td>2016</td>\n",
       "      <td>Charlotte</td>\n",
       "    </tr>\n",
       "    <tr>\n",
       "      <th>1516</th>\n",
       "      <td>2016-09-18</td>\n",
       "      <td>1.43</td>\n",
       "      <td>182978.30</td>\n",
       "      <td>43116.41</td>\n",
       "      <td>54193.42</td>\n",
       "      <td>16563.91</td>\n",
       "      <td>69104.56</td>\n",
       "      <td>57456.21</td>\n",
       "      <td>11648.35</td>\n",
       "      <td>0.00</td>\n",
       "      <td>conventional</td>\n",
       "      <td>2016</td>\n",
       "      <td>Charlotte</td>\n",
       "    </tr>\n",
       "  </tbody>\n",
       "</table>\n",
       "<p>1517 rows × 13 columns</p>\n",
       "</div>"
      ],
      "text/plain": [
       "           Date  AveragePrice  Total Volume      4046       4225      4770  \\\n",
       "0    2015-12-27          1.33      64236.62   1036.74   54454.85     48.16   \n",
       "1    2015-12-20          1.35      54876.98    674.28   44638.81     58.33   \n",
       "2    2015-12-13          0.93     118220.22    794.70  109149.67    130.50   \n",
       "3    2015-06-12          1.08      78992.15   1132.00   71976.41     72.58   \n",
       "4    2015-11-29          1.28      51039.60    941.48   43838.39     75.78   \n",
       "...         ...           ...           ...       ...        ...       ...   \n",
       "1512 2016-10-16          1.39     190846.01  57529.11   56366.66  17531.78   \n",
       "1513 2016-09-10          1.51     178235.75  43325.87   52189.61  19419.57   \n",
       "1514 2016-02-10          1.48     178410.82  46364.75   52893.38  16736.92   \n",
       "1515 2016-09-25          1.47     189131.52  54110.79   53593.58  17495.42   \n",
       "1516 2016-09-18          1.43     182978.30  43116.41   54193.42  16563.91   \n",
       "\n",
       "      Total Bags  Small Bags  Large Bags  XLarge Bags          type  year  \\\n",
       "0        8696.87     8603.62       93.25         0.00  conventional  2015   \n",
       "1        9505.56     9408.07       97.49         0.00  conventional  2015   \n",
       "2        8145.35     8042.21      103.14         0.00  conventional  2015   \n",
       "3        5811.16     5677.40      133.76         0.00  conventional  2015   \n",
       "4        6183.95     5986.26      197.69         0.00  conventional  2015   \n",
       "...          ...         ...         ...          ...           ...   ...   \n",
       "1512    59418.46    48823.53    10354.65       240.28  conventional  2016   \n",
       "1513    63300.70    54704.14     8596.56         0.00  conventional  2016   \n",
       "1514    62415.77    53332.61     8258.16       825.00  conventional  2016   \n",
       "1515    63931.73    55653.47     8278.26         0.00  conventional  2016   \n",
       "1516    69104.56    57456.21    11648.35         0.00  conventional  2016   \n",
       "\n",
       "         region  \n",
       "0        Albany  \n",
       "1        Albany  \n",
       "2        Albany  \n",
       "3        Albany  \n",
       "4        Albany  \n",
       "...         ...  \n",
       "1512  Charlotte  \n",
       "1513  Charlotte  \n",
       "1514  Charlotte  \n",
       "1515  Charlotte  \n",
       "1516  Charlotte  \n",
       "\n",
       "[1517 rows x 13 columns]"
      ]
     },
     "execution_count": 7,
     "metadata": {},
     "output_type": "execute_result"
    }
   ],
   "source": [
    "#we have an additional column regarding the serial number which we can drop it.\n",
    "ds.drop(columns='Unnamed: 0',axis=1,inplace=True)\n",
    "ds"
   ]
  },
  {
   "cell_type": "markdown",
   "metadata": {},
   "source": [
    "let us find the total volume of avocados sold with respective other attributes"
   ]
  },
  {
   "cell_type": "code",
   "execution_count": 8,
   "metadata": {},
   "outputs": [
    {
     "data": {
      "text/plain": [
       "<matplotlib.axes._subplots.AxesSubplot at 0x29b44762580>"
      ]
     },
     "execution_count": 8,
     "metadata": {},
     "output_type": "execute_result"
    },
    {
     "data": {
      "image/png": "[encoded data removed]",
      "text/plain": [
       "<Figure size 432x288 with 1 Axes>"
      ]
     },
     "metadata": {
      "needs_background": "light"
     },
     "output_type": "display_data"
    }
   ],
   "source": [
    "sns.barplot(x='year',y='Total Volume',data=ds)"
   ]
  },
  {
   "cell_type": "markdown",
   "metadata": {},
   "source": [
    "More volume of avocados are sold in the year 2015 than 2016"
   ]
  },
  {
   "cell_type": "code",
   "execution_count": 9,
   "metadata": {},
   "outputs": [
    {
     "data": {
      "image/png": "[encoded data removed]",
      "text/plain": [
       "<Figure size 720x720 with 1 Axes>"
      ]
     },
     "metadata": {
      "needs_background": "light"
     },
     "output_type": "display_data"
    }
   ],
   "source": [
    "plt.figure(figsize=(10,10))\n",
    "sns.barplot(y='region',x='Total Volume',data=ds)\n",
    "plt.show()"
   ]
  },
  {
   "cell_type": "markdown",
   "metadata": {},
   "source": [
    "More volume of avocados are sold in California as compared to other states in US and the Total volume of avocados sold across the entire US is around 3.3"
   ]
  },
  {
   "cell_type": "code",
   "execution_count": 10,
   "metadata": {},
   "outputs": [
    {
     "data": {
      "text/plain": [
       "array(['conventional'], dtype=object)"
      ]
     },
     "execution_count": 10,
     "metadata": {},
     "output_type": "execute_result"
    }
   ],
   "source": [
    "#lets find the types of avocados sold.\n",
    "ds['type'].unique()\n",
    "#The two different categories specified in our problem statement are conventional and organic, where in this dataset we have all the datas of conventional type so there is no relevance of the attribute 'type'.  "
   ]
  },
  {
   "cell_type": "code",
   "execution_count": 11,
   "metadata": {},
   "outputs": [
    {
     "data": {
      "text/plain": [
       "<matplotlib.axes._subplots.AxesSubplot at 0x29b449e4ca0>"
      ]
     },
     "execution_count": 11,
     "metadata": {},
     "output_type": "execute_result"
    },
    {
     "data": {
      "image/png": "[encoded data removed]",
      "text/plain": [
       "<Figure size 432x288 with 1 Axes>"
      ]
     },
     "metadata": {
      "needs_background": "light"
     },
     "output_type": "display_data"
    }
   ],
   "source": [
    "sns.barplot(x='year',y='4046',data=ds)"
   ]
  },
  {
   "cell_type": "markdown",
   "metadata": {},
   "source": [
    "In the year 2015 total number of PLU 4046 avocados sold are around 680000 whereas in the next year the sale was less around 490000."
   ]
  },
  {
   "cell_type": "code",
   "execution_count": 12,
   "metadata": {},
   "outputs": [
    {
     "data": {
      "text/plain": [
       "<matplotlib.axes._subplots.AxesSubplot at 0x29b44e50b20>"
      ]
     },
     "execution_count": 12,
     "metadata": {},
     "output_type": "execute_result"
    },
    {
     "data": {
      "image/png": "[encoded data removed]",
      "text/plain": [
       "<Figure size 432x288 with 1 Axes>"
      ]
     },
     "metadata": {
      "needs_background": "light"
     },
     "output_type": "display_data"
    }
   ],
   "source": [
    "sns.barplot(x='year',y='4225',data=ds)"
   ]
  },
  {
   "cell_type": "markdown",
   "metadata": {},
   "source": [
    "In the year 2015 total number of PLU 4225 avocados sold are around 610000 whereas in the next year the sale was less around 590000."
   ]
  },
  {
   "cell_type": "code",
   "execution_count": 13,
   "metadata": {},
   "outputs": [
    {
     "data": {
      "text/plain": [
       "<matplotlib.axes._subplots.AxesSubplot at 0x29b44e9fe50>"
      ]
     },
     "execution_count": 13,
     "metadata": {},
     "output_type": "execute_result"
    },
    {
     "data": {
      "image/png": "[encoded data removed]",
      "text/plain": [
       "<Figure size 432x288 with 1 Axes>"
      ]
     },
     "metadata": {
      "needs_background": "light"
     },
     "output_type": "display_data"
    }
   ],
   "source": [
    "sns.barplot(x='year',y='4770',data=ds)"
   ]
  },
  {
   "cell_type": "markdown",
   "metadata": {},
   "source": [
    "In the year 2015 total number of PLU 4770 avocados sold are around 490000 whereas in the next year the sale was more around 600000."
   ]
  },
  {
   "cell_type": "markdown",
   "metadata": {},
   "source": [
    "Here we can make an inference that in the year 2015 the sales of PLU 4770,PLU 4225 and PLU 4046 are in an ascending order and in the next year their sales are in a descending order. Only the PLU 4770 has seen an increase in sales in the next year as compared to the others"
   ]
  },
  {
   "cell_type": "code",
   "execution_count": 14,
   "metadata": {},
   "outputs": [
    {
     "data": {
      "text/plain": [
       "<matplotlib.axes._subplots.AxesSubplot at 0x29b44ef2820>"
      ]
     },
     "execution_count": 14,
     "metadata": {},
     "output_type": "execute_result"
    },
    {
     "data": {
      "image/png": "[encoded data removed]",
      "text/plain": [
       "<Figure size 432x288 with 1 Axes>"
      ]
     },
     "metadata": {
      "needs_background": "light"
     },
     "output_type": "display_data"
    }
   ],
   "source": [
    "#total bags sold in respective years\n",
    "sns.barplot(x='year',y='Total Bags',data=ds)"
   ]
  },
  {
   "cell_type": "markdown",
   "metadata": {},
   "source": [
    "In 2015,nearly 270000 total bags were sold and in the next year sale was high around 450000."
   ]
  },
  {
   "cell_type": "code",
   "execution_count": 15,
   "metadata": {},
   "outputs": [
    {
     "data": {
      "text/plain": [
       "<matplotlib.axes._subplots.AxesSubplot at 0x29b44f3c280>"
      ]
     },
     "execution_count": 15,
     "metadata": {},
     "output_type": "execute_result"
    },
    {
     "data": {
      "image/png": "[encoded data removed]",
      "text/plain": [
       "<Figure size 432x288 with 1 Axes>"
      ]
     },
     "metadata": {
      "needs_background": "light"
     },
     "output_type": "display_data"
    }
   ],
   "source": [
    "#number of small bags sold\n",
    "sns.barplot(x='year',y='Small Bags',data=ds)"
   ]
  },
  {
   "cell_type": "markdown",
   "metadata": {},
   "source": [
    "In the year 2015, the number of small bags sold were around 220000 and in the coming year the sales was high around 410000."
   ]
  },
  {
   "cell_type": "code",
   "execution_count": 16,
   "metadata": {},
   "outputs": [
    {
     "data": {
      "text/plain": [
       "<matplotlib.axes._subplots.AxesSubplot at 0x29b44f8f7f0>"
      ]
     },
     "execution_count": 16,
     "metadata": {},
     "output_type": "execute_result"
    },
    {
     "data": {
      "image/png": "[encoded data removed]",
      "text/plain": [
       "<Figure size 432x288 with 1 Axes>"
      ]
     },
     "metadata": {
      "needs_background": "light"
     },
     "output_type": "display_data"
    }
   ],
   "source": [
    "#number of large bags sold\n",
    "sns.barplot(x='year',y='Large Bags',data=ds)"
   ]
  },
  {
   "cell_type": "markdown",
   "metadata": {},
   "source": [
    "The sales of large bags were around 430000 in the year 2015 and was reduced to nearly 380000 in the next year  "
   ]
  },
  {
   "cell_type": "code",
   "execution_count": 17,
   "metadata": {},
   "outputs": [
    {
     "data": {
      "text/plain": [
       "<matplotlib.axes._subplots.AxesSubplot at 0x29b44f4ad60>"
      ]
     },
     "execution_count": 17,
     "metadata": {},
     "output_type": "execute_result"
    },
    {
     "data": {
      "image/png": "[encoded data removed]",
      "text/plain": [
       "<Figure size 432x288 with 1 Axes>"
      ]
     },
     "metadata": {
      "needs_background": "light"
     },
     "output_type": "display_data"
    }
   ],
   "source": [
    "#number of XL bags sold\n",
    "sns.barplot(x='year',y='XLarge Bags',data=ds)"
   ]
  },
  {
   "cell_type": "markdown",
   "metadata": {},
   "source": [
    "In the year 2015, the sales of XL bags were around 1500 and it increased drastically to an approximate of 5900 in the coming year. "
   ]
  },
  {
   "cell_type": "markdown",
   "metadata": {},
   "source": [
    "Only the Large bags saw a reduce in sales in the next year whereas the others have been improved."
   ]
  },
  {
   "cell_type": "code",
   "execution_count": 18,
   "metadata": {},
   "outputs": [
    {
     "data": {
      "image/png": "[encoded data removed]",
      "text/plain": [
       "<Figure size 432x288 with 1 Axes>"
      ]
     },
     "metadata": {
      "needs_background": "light"
     },
     "output_type": "display_data"
    }
   ],
   "source": [
    "ds['AveragePrice'].plot.hist(bins=10)\n",
    "plt.show()"
   ]
  },
  {
   "cell_type": "markdown",
   "metadata": {},
   "source": [
    "The most frequent average price of a single avocado is between 1.0 - 1.1"
   ]
  },
  {
   "cell_type": "code",
   "execution_count": 19,
   "metadata": {},
   "outputs": [
    {
     "data": {
      "image/png": "[encoded data removed]",
      "text/plain": [
       "<Figure size 720x720 with 1 Axes>"
      ]
     },
     "metadata": {
      "needs_background": "light"
     },
     "output_type": "display_data"
    }
   ],
   "source": [
    "#most frequently occuring region\n",
    "plt.figure(figsize=(10,10))\n",
    "sns.countplot(y='region',data=ds)\n",
    "plt.show()"
   ]
  },
  {
   "cell_type": "markdown",
   "metadata": {},
   "source": [
    "This dataset contains more than 70+ datas corresponding to California region which is the highest among all other regions "
   ]
  },
  {
   "cell_type": "code",
   "execution_count": 20,
   "metadata": {},
   "outputs": [
    {
     "data": {
      "text/html": [
       "<div>\n",
       "<style scoped>\n",
       "    .dataframe tbody tr th:only-of-type {\n",
       "        vertical-align: middle;\n",
       "    }\n",
       "\n",
       "    .dataframe tbody tr th {\n",
       "        vertical-align: top;\n",
       "    }\n",
       "\n",
       "    .dataframe thead th {\n",
       "        text-align: right;\n",
       "    }\n",
       "</style>\n",
       "<table border=\"1\" class=\"dataframe\">\n",
       "  <thead>\n",
       "    <tr style=\"text-align: right;\">\n",
       "      <th></th>\n",
       "      <th>month</th>\n",
       "      <th>Date</th>\n",
       "      <th>AveragePrice</th>\n",
       "      <th>Total Volume</th>\n",
       "      <th>4046</th>\n",
       "      <th>4225</th>\n",
       "      <th>4770</th>\n",
       "      <th>Total Bags</th>\n",
       "      <th>Small Bags</th>\n",
       "      <th>Large Bags</th>\n",
       "      <th>XLarge Bags</th>\n",
       "      <th>type</th>\n",
       "      <th>year</th>\n",
       "      <th>region</th>\n",
       "    </tr>\n",
       "  </thead>\n",
       "  <tbody>\n",
       "    <tr>\n",
       "      <th>0</th>\n",
       "      <td>December</td>\n",
       "      <td>2015-12-27</td>\n",
       "      <td>1.33</td>\n",
       "      <td>64236.62</td>\n",
       "      <td>1036.74</td>\n",
       "      <td>54454.85</td>\n",
       "      <td>48.16</td>\n",
       "      <td>8696.87</td>\n",
       "      <td>8603.62</td>\n",
       "      <td>93.25</td>\n",
       "      <td>0.00</td>\n",
       "      <td>conventional</td>\n",
       "      <td>2015</td>\n",
       "      <td>Albany</td>\n",
       "    </tr>\n",
       "    <tr>\n",
       "      <th>1</th>\n",
       "      <td>December</td>\n",
       "      <td>2015-12-20</td>\n",
       "      <td>1.35</td>\n",
       "      <td>54876.98</td>\n",
       "      <td>674.28</td>\n",
       "      <td>44638.81</td>\n",
       "      <td>58.33</td>\n",
       "      <td>9505.56</td>\n",
       "      <td>9408.07</td>\n",
       "      <td>97.49</td>\n",
       "      <td>0.00</td>\n",
       "      <td>conventional</td>\n",
       "      <td>2015</td>\n",
       "      <td>Albany</td>\n",
       "    </tr>\n",
       "    <tr>\n",
       "      <th>2</th>\n",
       "      <td>December</td>\n",
       "      <td>2015-12-13</td>\n",
       "      <td>0.93</td>\n",
       "      <td>118220.22</td>\n",
       "      <td>794.70</td>\n",
       "      <td>109149.67</td>\n",
       "      <td>130.50</td>\n",
       "      <td>8145.35</td>\n",
       "      <td>8042.21</td>\n",
       "      <td>103.14</td>\n",
       "      <td>0.00</td>\n",
       "      <td>conventional</td>\n",
       "      <td>2015</td>\n",
       "      <td>Albany</td>\n",
       "    </tr>\n",
       "    <tr>\n",
       "      <th>3</th>\n",
       "      <td>June</td>\n",
       "      <td>2015-06-12</td>\n",
       "      <td>1.08</td>\n",
       "      <td>78992.15</td>\n",
       "      <td>1132.00</td>\n",
       "      <td>71976.41</td>\n",
       "      <td>72.58</td>\n",
       "      <td>5811.16</td>\n",
       "      <td>5677.40</td>\n",
       "      <td>133.76</td>\n",
       "      <td>0.00</td>\n",
       "      <td>conventional</td>\n",
       "      <td>2015</td>\n",
       "      <td>Albany</td>\n",
       "    </tr>\n",
       "    <tr>\n",
       "      <th>4</th>\n",
       "      <td>November</td>\n",
       "      <td>2015-11-29</td>\n",
       "      <td>1.28</td>\n",
       "      <td>51039.60</td>\n",
       "      <td>941.48</td>\n",
       "      <td>43838.39</td>\n",
       "      <td>75.78</td>\n",
       "      <td>6183.95</td>\n",
       "      <td>5986.26</td>\n",
       "      <td>197.69</td>\n",
       "      <td>0.00</td>\n",
       "      <td>conventional</td>\n",
       "      <td>2015</td>\n",
       "      <td>Albany</td>\n",
       "    </tr>\n",
       "    <tr>\n",
       "      <th>...</th>\n",
       "      <td>...</td>\n",
       "      <td>...</td>\n",
       "      <td>...</td>\n",
       "      <td>...</td>\n",
       "      <td>...</td>\n",
       "      <td>...</td>\n",
       "      <td>...</td>\n",
       "      <td>...</td>\n",
       "      <td>...</td>\n",
       "      <td>...</td>\n",
       "      <td>...</td>\n",
       "      <td>...</td>\n",
       "      <td>...</td>\n",
       "      <td>...</td>\n",
       "    </tr>\n",
       "    <tr>\n",
       "      <th>1512</th>\n",
       "      <td>October</td>\n",
       "      <td>2016-10-16</td>\n",
       "      <td>1.39</td>\n",
       "      <td>190846.01</td>\n",
       "      <td>57529.11</td>\n",
       "      <td>56366.66</td>\n",
       "      <td>17531.78</td>\n",
       "      <td>59418.46</td>\n",
       "      <td>48823.53</td>\n",
       "      <td>10354.65</td>\n",
       "      <td>240.28</td>\n",
       "      <td>conventional</td>\n",
       "      <td>2016</td>\n",
       "      <td>Charlotte</td>\n",
       "    </tr>\n",
       "    <tr>\n",
       "      <th>1513</th>\n",
       "      <td>September</td>\n",
       "      <td>2016-09-10</td>\n",
       "      <td>1.51</td>\n",
       "      <td>178235.75</td>\n",
       "      <td>43325.87</td>\n",
       "      <td>52189.61</td>\n",
       "      <td>19419.57</td>\n",
       "      <td>63300.70</td>\n",
       "      <td>54704.14</td>\n",
       "      <td>8596.56</td>\n",
       "      <td>0.00</td>\n",
       "      <td>conventional</td>\n",
       "      <td>2016</td>\n",
       "      <td>Charlotte</td>\n",
       "    </tr>\n",
       "    <tr>\n",
       "      <th>1514</th>\n",
       "      <td>February</td>\n",
       "      <td>2016-02-10</td>\n",
       "      <td>1.48</td>\n",
       "      <td>178410.82</td>\n",
       "      <td>46364.75</td>\n",
       "      <td>52893.38</td>\n",
       "      <td>16736.92</td>\n",
       "      <td>62415.77</td>\n",
       "      <td>53332.61</td>\n",
       "      <td>8258.16</td>\n",
       "      <td>825.00</td>\n",
       "      <td>conventional</td>\n",
       "      <td>2016</td>\n",
       "      <td>Charlotte</td>\n",
       "    </tr>\n",
       "    <tr>\n",
       "      <th>1515</th>\n",
       "      <td>September</td>\n",
       "      <td>2016-09-25</td>\n",
       "      <td>1.47</td>\n",
       "      <td>189131.52</td>\n",
       "      <td>54110.79</td>\n",
       "      <td>53593.58</td>\n",
       "      <td>17495.42</td>\n",
       "      <td>63931.73</td>\n",
       "      <td>55653.47</td>\n",
       "      <td>8278.26</td>\n",
       "      <td>0.00</td>\n",
       "      <td>conventional</td>\n",
       "      <td>2016</td>\n",
       "      <td>Charlotte</td>\n",
       "    </tr>\n",
       "    <tr>\n",
       "      <th>1516</th>\n",
       "      <td>September</td>\n",
       "      <td>2016-09-18</td>\n",
       "      <td>1.43</td>\n",
       "      <td>182978.30</td>\n",
       "      <td>43116.41</td>\n",
       "      <td>54193.42</td>\n",
       "      <td>16563.91</td>\n",
       "      <td>69104.56</td>\n",
       "      <td>57456.21</td>\n",
       "      <td>11648.35</td>\n",
       "      <td>0.00</td>\n",
       "      <td>conventional</td>\n",
       "      <td>2016</td>\n",
       "      <td>Charlotte</td>\n",
       "    </tr>\n",
       "  </tbody>\n",
       "</table>\n",
       "<p>1517 rows × 14 columns</p>\n",
       "</div>"
      ],
      "text/plain": [
       "          month       Date  AveragePrice  Total Volume      4046       4225  \\\n",
       "0      December 2015-12-27          1.33      64236.62   1036.74   54454.85   \n",
       "1      December 2015-12-20          1.35      54876.98    674.28   44638.81   \n",
       "2      December 2015-12-13          0.93     118220.22    794.70  109149.67   \n",
       "3          June 2015-06-12          1.08      78992.15   1132.00   71976.41   \n",
       "4      November 2015-11-29          1.28      51039.60    941.48   43838.39   \n",
       "...         ...        ...           ...           ...       ...        ...   \n",
       "1512    October 2016-10-16          1.39     190846.01  57529.11   56366.66   \n",
       "1513  September 2016-09-10          1.51     178235.75  43325.87   52189.61   \n",
       "1514   February 2016-02-10          1.48     178410.82  46364.75   52893.38   \n",
       "1515  September 2016-09-25          1.47     189131.52  54110.79   53593.58   \n",
       "1516  September 2016-09-18          1.43     182978.30  43116.41   54193.42   \n",
       "\n",
       "          4770  Total Bags  Small Bags  Large Bags  XLarge Bags          type  \\\n",
       "0        48.16     8696.87     8603.62       93.25         0.00  conventional   \n",
       "1        58.33     9505.56     9408.07       97.49         0.00  conventional   \n",
       "2       130.50     8145.35     8042.21      103.14         0.00  conventional   \n",
       "3        72.58     5811.16     5677.40      133.76         0.00  conventional   \n",
       "4        75.78     6183.95     5986.26      197.69         0.00  conventional   \n",
       "...        ...         ...         ...         ...          ...           ...   \n",
       "1512  17531.78    59418.46    48823.53    10354.65       240.28  conventional   \n",
       "1513  19419.57    63300.70    54704.14     8596.56         0.00  conventional   \n",
       "1514  16736.92    62415.77    53332.61     8258.16       825.00  conventional   \n",
       "1515  17495.42    63931.73    55653.47     8278.26         0.00  conventional   \n",
       "1516  16563.91    69104.56    57456.21    11648.35         0.00  conventional   \n",
       "\n",
       "      year     region  \n",
       "0     2015     Albany  \n",
       "1     2015     Albany  \n",
       "2     2015     Albany  \n",
       "3     2015     Albany  \n",
       "4     2015     Albany  \n",
       "...    ...        ...  \n",
       "1512  2016  Charlotte  \n",
       "1513  2016  Charlotte  \n",
       "1514  2016  Charlotte  \n",
       "1515  2016  Charlotte  \n",
       "1516  2016  Charlotte  \n",
       "\n",
       "[1517 rows x 14 columns]"
      ]
     },
     "execution_count": 20,
     "metadata": {},
     "output_type": "execute_result"
    }
   ],
   "source": [
    "#creating a new dataframe to visualize the total volume sales in each month\n",
    "ds_month=pd.DataFrame()\n",
    "ds_month['month']=ds['Date'].dt.month_name()\n",
    "ds_month_visualize=pd.concat([ds_month,ds],axis=1,ignore_index=False)\n",
    "ds_month_visualize"
   ]
  },
  {
   "cell_type": "code",
   "execution_count": 21,
   "metadata": {},
   "outputs": [
    {
     "data": {
      "image/png": "[encoded data removed]",
      "text/plain": [
       "<Figure size 720x720 with 1 Axes>"
      ]
     },
     "metadata": {
      "needs_background": "light"
     },
     "output_type": "display_data"
    }
   ],
   "source": [
    "plt.figure(figsize=(10,10))\n",
    "sns.set(style=\"whitegrid\")\n",
    "sns.barplot(x='month',y='Total Volume',hue='year',data=ds_month_visualize)\n",
    "plt.show()"
   ]
  },
  {
   "cell_type": "markdown",
   "metadata": {},
   "source": [
    "In the year 2015, maximum sales was in the month of May and minimum sales was in the month of September.\n",
    "\n",
    "In the year 2016, maximum sales was in the month of July and minimum sales was in the month of November."
   ]
  },
  {
   "cell_type": "code",
   "execution_count": 22,
   "metadata": {},
   "outputs": [
    {
     "data": {
      "text/html": [
       "<div>\n",
       "<style scoped>\n",
       "    .dataframe tbody tr th:only-of-type {\n",
       "        vertical-align: middle;\n",
       "    }\n",
       "\n",
       "    .dataframe tbody tr th {\n",
       "        vertical-align: top;\n",
       "    }\n",
       "\n",
       "    .dataframe thead th {\n",
       "        text-align: right;\n",
       "    }\n",
       "</style>\n",
       "<table border=\"1\" class=\"dataframe\">\n",
       "  <thead>\n",
       "    <tr style=\"text-align: right;\">\n",
       "      <th></th>\n",
       "      <th>Date</th>\n",
       "      <th>AveragePrice</th>\n",
       "      <th>Total Volume</th>\n",
       "      <th>4046</th>\n",
       "      <th>4225</th>\n",
       "      <th>4770</th>\n",
       "      <th>Total Bags</th>\n",
       "      <th>Small Bags</th>\n",
       "      <th>Large Bags</th>\n",
       "      <th>XLarge Bags</th>\n",
       "      <th>type</th>\n",
       "      <th>year</th>\n",
       "      <th>region</th>\n",
       "    </tr>\n",
       "  </thead>\n",
       "  <tbody>\n",
       "    <tr>\n",
       "      <th>0</th>\n",
       "      <td>2015-12-27</td>\n",
       "      <td>1.33</td>\n",
       "      <td>64236.62</td>\n",
       "      <td>1036.74</td>\n",
       "      <td>54454.85</td>\n",
       "      <td>48.16</td>\n",
       "      <td>8696.87</td>\n",
       "      <td>8603.62</td>\n",
       "      <td>93.25</td>\n",
       "      <td>0.00</td>\n",
       "      <td>conventional</td>\n",
       "      <td>2015</td>\n",
       "      <td>Albany</td>\n",
       "    </tr>\n",
       "    <tr>\n",
       "      <th>1</th>\n",
       "      <td>2015-12-20</td>\n",
       "      <td>1.35</td>\n",
       "      <td>54876.98</td>\n",
       "      <td>674.28</td>\n",
       "      <td>44638.81</td>\n",
       "      <td>58.33</td>\n",
       "      <td>9505.56</td>\n",
       "      <td>9408.07</td>\n",
       "      <td>97.49</td>\n",
       "      <td>0.00</td>\n",
       "      <td>conventional</td>\n",
       "      <td>2015</td>\n",
       "      <td>Albany</td>\n",
       "    </tr>\n",
       "    <tr>\n",
       "      <th>2</th>\n",
       "      <td>2015-12-13</td>\n",
       "      <td>0.93</td>\n",
       "      <td>118220.22</td>\n",
       "      <td>794.70</td>\n",
       "      <td>109149.67</td>\n",
       "      <td>130.50</td>\n",
       "      <td>8145.35</td>\n",
       "      <td>8042.21</td>\n",
       "      <td>103.14</td>\n",
       "      <td>0.00</td>\n",
       "      <td>conventional</td>\n",
       "      <td>2015</td>\n",
       "      <td>Albany</td>\n",
       "    </tr>\n",
       "    <tr>\n",
       "      <th>3</th>\n",
       "      <td>2015-06-12</td>\n",
       "      <td>1.08</td>\n",
       "      <td>78992.15</td>\n",
       "      <td>1132.00</td>\n",
       "      <td>71976.41</td>\n",
       "      <td>72.58</td>\n",
       "      <td>5811.16</td>\n",
       "      <td>5677.40</td>\n",
       "      <td>133.76</td>\n",
       "      <td>0.00</td>\n",
       "      <td>conventional</td>\n",
       "      <td>2015</td>\n",
       "      <td>Albany</td>\n",
       "    </tr>\n",
       "    <tr>\n",
       "      <th>4</th>\n",
       "      <td>2015-11-29</td>\n",
       "      <td>1.28</td>\n",
       "      <td>51039.60</td>\n",
       "      <td>941.48</td>\n",
       "      <td>43838.39</td>\n",
       "      <td>75.78</td>\n",
       "      <td>6183.95</td>\n",
       "      <td>5986.26</td>\n",
       "      <td>197.69</td>\n",
       "      <td>0.00</td>\n",
       "      <td>conventional</td>\n",
       "      <td>2015</td>\n",
       "      <td>Albany</td>\n",
       "    </tr>\n",
       "    <tr>\n",
       "      <th>...</th>\n",
       "      <td>...</td>\n",
       "      <td>...</td>\n",
       "      <td>...</td>\n",
       "      <td>...</td>\n",
       "      <td>...</td>\n",
       "      <td>...</td>\n",
       "      <td>...</td>\n",
       "      <td>...</td>\n",
       "      <td>...</td>\n",
       "      <td>...</td>\n",
       "      <td>...</td>\n",
       "      <td>...</td>\n",
       "      <td>...</td>\n",
       "    </tr>\n",
       "    <tr>\n",
       "      <th>1512</th>\n",
       "      <td>2016-10-16</td>\n",
       "      <td>1.39</td>\n",
       "      <td>190846.01</td>\n",
       "      <td>57529.11</td>\n",
       "      <td>56366.66</td>\n",
       "      <td>17531.78</td>\n",
       "      <td>59418.46</td>\n",
       "      <td>48823.53</td>\n",
       "      <td>10354.65</td>\n",
       "      <td>240.28</td>\n",
       "      <td>conventional</td>\n",
       "      <td>2016</td>\n",
       "      <td>Charlotte</td>\n",
       "    </tr>\n",
       "    <tr>\n",
       "      <th>1513</th>\n",
       "      <td>2016-09-10</td>\n",
       "      <td>1.51</td>\n",
       "      <td>178235.75</td>\n",
       "      <td>43325.87</td>\n",
       "      <td>52189.61</td>\n",
       "      <td>19419.57</td>\n",
       "      <td>63300.70</td>\n",
       "      <td>54704.14</td>\n",
       "      <td>8596.56</td>\n",
       "      <td>0.00</td>\n",
       "      <td>conventional</td>\n",
       "      <td>2016</td>\n",
       "      <td>Charlotte</td>\n",
       "    </tr>\n",
       "    <tr>\n",
       "      <th>1514</th>\n",
       "      <td>2016-02-10</td>\n",
       "      <td>1.48</td>\n",
       "      <td>178410.82</td>\n",
       "      <td>46364.75</td>\n",
       "      <td>52893.38</td>\n",
       "      <td>16736.92</td>\n",
       "      <td>62415.77</td>\n",
       "      <td>53332.61</td>\n",
       "      <td>8258.16</td>\n",
       "      <td>825.00</td>\n",
       "      <td>conventional</td>\n",
       "      <td>2016</td>\n",
       "      <td>Charlotte</td>\n",
       "    </tr>\n",
       "    <tr>\n",
       "      <th>1515</th>\n",
       "      <td>2016-09-25</td>\n",
       "      <td>1.47</td>\n",
       "      <td>189131.52</td>\n",
       "      <td>54110.79</td>\n",
       "      <td>53593.58</td>\n",
       "      <td>17495.42</td>\n",
       "      <td>63931.73</td>\n",
       "      <td>55653.47</td>\n",
       "      <td>8278.26</td>\n",
       "      <td>0.00</td>\n",
       "      <td>conventional</td>\n",
       "      <td>2016</td>\n",
       "      <td>Charlotte</td>\n",
       "    </tr>\n",
       "    <tr>\n",
       "      <th>1516</th>\n",
       "      <td>2016-09-18</td>\n",
       "      <td>1.43</td>\n",
       "      <td>182978.30</td>\n",
       "      <td>43116.41</td>\n",
       "      <td>54193.42</td>\n",
       "      <td>16563.91</td>\n",
       "      <td>69104.56</td>\n",
       "      <td>57456.21</td>\n",
       "      <td>11648.35</td>\n",
       "      <td>0.00</td>\n",
       "      <td>conventional</td>\n",
       "      <td>2016</td>\n",
       "      <td>Charlotte</td>\n",
       "    </tr>\n",
       "  </tbody>\n",
       "</table>\n",
       "<p>1517 rows × 13 columns</p>\n",
       "</div>"
      ],
      "text/plain": [
       "           Date  AveragePrice  Total Volume      4046       4225      4770  \\\n",
       "0    2015-12-27          1.33      64236.62   1036.74   54454.85     48.16   \n",
       "1    2015-12-20          1.35      54876.98    674.28   44638.81     58.33   \n",
       "2    2015-12-13          0.93     118220.22    794.70  109149.67    130.50   \n",
       "3    2015-06-12          1.08      78992.15   1132.00   71976.41     72.58   \n",
       "4    2015-11-29          1.28      51039.60    941.48   43838.39     75.78   \n",
       "...         ...           ...           ...       ...        ...       ...   \n",
       "1512 2016-10-16          1.39     190846.01  57529.11   56366.66  17531.78   \n",
       "1513 2016-09-10          1.51     178235.75  43325.87   52189.61  19419.57   \n",
       "1514 2016-02-10          1.48     178410.82  46364.75   52893.38  16736.92   \n",
       "1515 2016-09-25          1.47     189131.52  54110.79   53593.58  17495.42   \n",
       "1516 2016-09-18          1.43     182978.30  43116.41   54193.42  16563.91   \n",
       "\n",
       "      Total Bags  Small Bags  Large Bags  XLarge Bags          type  year  \\\n",
       "0        8696.87     8603.62       93.25         0.00  conventional  2015   \n",
       "1        9505.56     9408.07       97.49         0.00  conventional  2015   \n",
       "2        8145.35     8042.21      103.14         0.00  conventional  2015   \n",
       "3        5811.16     5677.40      133.76         0.00  conventional  2015   \n",
       "4        6183.95     5986.26      197.69         0.00  conventional  2015   \n",
       "...          ...         ...         ...          ...           ...   ...   \n",
       "1512    59418.46    48823.53    10354.65       240.28  conventional  2016   \n",
       "1513    63300.70    54704.14     8596.56         0.00  conventional  2016   \n",
       "1514    62415.77    53332.61     8258.16       825.00  conventional  2016   \n",
       "1515    63931.73    55653.47     8278.26         0.00  conventional  2016   \n",
       "1516    69104.56    57456.21    11648.35         0.00  conventional  2016   \n",
       "\n",
       "         region  \n",
       "0        Albany  \n",
       "1        Albany  \n",
       "2        Albany  \n",
       "3        Albany  \n",
       "4        Albany  \n",
       "...         ...  \n",
       "1512  Charlotte  \n",
       "1513  Charlotte  \n",
       "1514  Charlotte  \n",
       "1515  Charlotte  \n",
       "1516  Charlotte  \n",
       "\n",
       "[1517 rows x 13 columns]"
      ]
     },
     "execution_count": 22,
     "metadata": {},
     "output_type": "execute_result"
    }
   ],
   "source": [
    "ds"
   ]
  },
  {
   "cell_type": "code",
   "execution_count": 23,
   "metadata": {},
   "outputs": [
    {
     "data": {
      "text/html": [
       "<div>\n",
       "<style scoped>\n",
       "    .dataframe tbody tr th:only-of-type {\n",
       "        vertical-align: middle;\n",
       "    }\n",
       "\n",
       "    .dataframe tbody tr th {\n",
       "        vertical-align: top;\n",
       "    }\n",
       "\n",
       "    .dataframe thead th {\n",
       "        text-align: right;\n",
       "    }\n",
       "</style>\n",
       "<table border=\"1\" class=\"dataframe\">\n",
       "  <thead>\n",
       "    <tr style=\"text-align: right;\">\n",
       "      <th></th>\n",
       "      <th>AveragePrice</th>\n",
       "      <th>Total Volume</th>\n",
       "      <th>4046</th>\n",
       "      <th>4225</th>\n",
       "      <th>4770</th>\n",
       "      <th>Total Bags</th>\n",
       "      <th>Small Bags</th>\n",
       "      <th>Large Bags</th>\n",
       "      <th>XLarge Bags</th>\n",
       "      <th>year</th>\n",
       "      <th>region</th>\n",
       "    </tr>\n",
       "  </thead>\n",
       "  <tbody>\n",
       "    <tr>\n",
       "      <th>0</th>\n",
       "      <td>1.33</td>\n",
       "      <td>64236.62</td>\n",
       "      <td>1036.74</td>\n",
       "      <td>54454.85</td>\n",
       "      <td>48.16</td>\n",
       "      <td>8696.87</td>\n",
       "      <td>8603.62</td>\n",
       "      <td>93.25</td>\n",
       "      <td>0.00</td>\n",
       "      <td>2015</td>\n",
       "      <td>Albany</td>\n",
       "    </tr>\n",
       "    <tr>\n",
       "      <th>1</th>\n",
       "      <td>1.35</td>\n",
       "      <td>54876.98</td>\n",
       "      <td>674.28</td>\n",
       "      <td>44638.81</td>\n",
       "      <td>58.33</td>\n",
       "      <td>9505.56</td>\n",
       "      <td>9408.07</td>\n",
       "      <td>97.49</td>\n",
       "      <td>0.00</td>\n",
       "      <td>2015</td>\n",
       "      <td>Albany</td>\n",
       "    </tr>\n",
       "    <tr>\n",
       "      <th>2</th>\n",
       "      <td>0.93</td>\n",
       "      <td>118220.22</td>\n",
       "      <td>794.70</td>\n",
       "      <td>109149.67</td>\n",
       "      <td>130.50</td>\n",
       "      <td>8145.35</td>\n",
       "      <td>8042.21</td>\n",
       "      <td>103.14</td>\n",
       "      <td>0.00</td>\n",
       "      <td>2015</td>\n",
       "      <td>Albany</td>\n",
       "    </tr>\n",
       "    <tr>\n",
       "      <th>3</th>\n",
       "      <td>1.08</td>\n",
       "      <td>78992.15</td>\n",
       "      <td>1132.00</td>\n",
       "      <td>71976.41</td>\n",
       "      <td>72.58</td>\n",
       "      <td>5811.16</td>\n",
       "      <td>5677.40</td>\n",
       "      <td>133.76</td>\n",
       "      <td>0.00</td>\n",
       "      <td>2015</td>\n",
       "      <td>Albany</td>\n",
       "    </tr>\n",
       "    <tr>\n",
       "      <th>4</th>\n",
       "      <td>1.28</td>\n",
       "      <td>51039.60</td>\n",
       "      <td>941.48</td>\n",
       "      <td>43838.39</td>\n",
       "      <td>75.78</td>\n",
       "      <td>6183.95</td>\n",
       "      <td>5986.26</td>\n",
       "      <td>197.69</td>\n",
       "      <td>0.00</td>\n",
       "      <td>2015</td>\n",
       "      <td>Albany</td>\n",
       "    </tr>\n",
       "    <tr>\n",
       "      <th>...</th>\n",
       "      <td>...</td>\n",
       "      <td>...</td>\n",
       "      <td>...</td>\n",
       "      <td>...</td>\n",
       "      <td>...</td>\n",
       "      <td>...</td>\n",
       "      <td>...</td>\n",
       "      <td>...</td>\n",
       "      <td>...</td>\n",
       "      <td>...</td>\n",
       "      <td>...</td>\n",
       "    </tr>\n",
       "    <tr>\n",
       "      <th>1512</th>\n",
       "      <td>1.39</td>\n",
       "      <td>190846.01</td>\n",
       "      <td>57529.11</td>\n",
       "      <td>56366.66</td>\n",
       "      <td>17531.78</td>\n",
       "      <td>59418.46</td>\n",
       "      <td>48823.53</td>\n",
       "      <td>10354.65</td>\n",
       "      <td>240.28</td>\n",
       "      <td>2016</td>\n",
       "      <td>Charlotte</td>\n",
       "    </tr>\n",
       "    <tr>\n",
       "      <th>1513</th>\n",
       "      <td>1.51</td>\n",
       "      <td>178235.75</td>\n",
       "      <td>43325.87</td>\n",
       "      <td>52189.61</td>\n",
       "      <td>19419.57</td>\n",
       "      <td>63300.70</td>\n",
       "      <td>54704.14</td>\n",
       "      <td>8596.56</td>\n",
       "      <td>0.00</td>\n",
       "      <td>2016</td>\n",
       "      <td>Charlotte</td>\n",
       "    </tr>\n",
       "    <tr>\n",
       "      <th>1514</th>\n",
       "      <td>1.48</td>\n",
       "      <td>178410.82</td>\n",
       "      <td>46364.75</td>\n",
       "      <td>52893.38</td>\n",
       "      <td>16736.92</td>\n",
       "      <td>62415.77</td>\n",
       "      <td>53332.61</td>\n",
       "      <td>8258.16</td>\n",
       "      <td>825.00</td>\n",
       "      <td>2016</td>\n",
       "      <td>Charlotte</td>\n",
       "    </tr>\n",
       "    <tr>\n",
       "      <th>1515</th>\n",
       "      <td>1.47</td>\n",
       "      <td>189131.52</td>\n",
       "      <td>54110.79</td>\n",
       "      <td>53593.58</td>\n",
       "      <td>17495.42</td>\n",
       "      <td>63931.73</td>\n",
       "      <td>55653.47</td>\n",
       "      <td>8278.26</td>\n",
       "      <td>0.00</td>\n",
       "      <td>2016</td>\n",
       "      <td>Charlotte</td>\n",
       "    </tr>\n",
       "    <tr>\n",
       "      <th>1516</th>\n",
       "      <td>1.43</td>\n",
       "      <td>182978.30</td>\n",
       "      <td>43116.41</td>\n",
       "      <td>54193.42</td>\n",
       "      <td>16563.91</td>\n",
       "      <td>69104.56</td>\n",
       "      <td>57456.21</td>\n",
       "      <td>11648.35</td>\n",
       "      <td>0.00</td>\n",
       "      <td>2016</td>\n",
       "      <td>Charlotte</td>\n",
       "    </tr>\n",
       "  </tbody>\n",
       "</table>\n",
       "<p>1517 rows × 11 columns</p>\n",
       "</div>"
      ],
      "text/plain": [
       "      AveragePrice  Total Volume      4046       4225      4770  Total Bags  \\\n",
       "0             1.33      64236.62   1036.74   54454.85     48.16     8696.87   \n",
       "1             1.35      54876.98    674.28   44638.81     58.33     9505.56   \n",
       "2             0.93     118220.22    794.70  109149.67    130.50     8145.35   \n",
       "3             1.08      78992.15   1132.00   71976.41     72.58     5811.16   \n",
       "4             1.28      51039.60    941.48   43838.39     75.78     6183.95   \n",
       "...            ...           ...       ...        ...       ...         ...   \n",
       "1512          1.39     190846.01  57529.11   56366.66  17531.78    59418.46   \n",
       "1513          1.51     178235.75  43325.87   52189.61  19419.57    63300.70   \n",
       "1514          1.48     178410.82  46364.75   52893.38  16736.92    62415.77   \n",
       "1515          1.47     189131.52  54110.79   53593.58  17495.42    63931.73   \n",
       "1516          1.43     182978.30  43116.41   54193.42  16563.91    69104.56   \n",
       "\n",
       "      Small Bags  Large Bags  XLarge Bags  year     region  \n",
       "0        8603.62       93.25         0.00  2015     Albany  \n",
       "1        9408.07       97.49         0.00  2015     Albany  \n",
       "2        8042.21      103.14         0.00  2015     Albany  \n",
       "3        5677.40      133.76         0.00  2015     Albany  \n",
       "4        5986.26      197.69         0.00  2015     Albany  \n",
       "...          ...         ...          ...   ...        ...  \n",
       "1512    48823.53    10354.65       240.28  2016  Charlotte  \n",
       "1513    54704.14     8596.56         0.00  2016  Charlotte  \n",
       "1514    53332.61     8258.16       825.00  2016  Charlotte  \n",
       "1515    55653.47     8278.26         0.00  2016  Charlotte  \n",
       "1516    57456.21    11648.35         0.00  2016  Charlotte  \n",
       "\n",
       "[1517 rows x 11 columns]"
      ]
     },
     "execution_count": 23,
     "metadata": {},
     "output_type": "execute_result"
    }
   ],
   "source": [
    "#since type is common for all data points.we can drop it\n",
    "#Also date is not much an useful attribute in studying the summary statistics and correlation with other attributes,we can drop it.\n",
    "ds.drop(columns='type',axis=1,inplace=True)\n",
    "ds.drop(columns='Date',axis=1,inplace=True)\n",
    "ds"
   ]
  },
  {
   "cell_type": "code",
   "execution_count": 24,
   "metadata": {},
   "outputs": [],
   "source": [
    "#Now let us encode the categorical data \n",
    "from sklearn.preprocessing import LabelEncoder\n",
    "list=['year','region']\n",
    "le=LabelEncoder()\n",
    "for i in list:\n",
    "    ds[i]=le.fit_transform(ds[i])\n"
   ]
  },
  {
   "cell_type": "code",
   "execution_count": 25,
   "metadata": {},
   "outputs": [
    {
     "data": {
      "text/html": [
       "<div>\n",
       "<style scoped>\n",
       "    .dataframe tbody tr th:only-of-type {\n",
       "        vertical-align: middle;\n",
       "    }\n",
       "\n",
       "    .dataframe tbody tr th {\n",
       "        vertical-align: top;\n",
       "    }\n",
       "\n",
       "    .dataframe thead th {\n",
       "        text-align: right;\n",
       "    }\n",
       "</style>\n",
       "<table border=\"1\" class=\"dataframe\">\n",
       "  <thead>\n",
       "    <tr style=\"text-align: right;\">\n",
       "      <th></th>\n",
       "      <th>AveragePrice</th>\n",
       "      <th>Total Volume</th>\n",
       "      <th>4046</th>\n",
       "      <th>4225</th>\n",
       "      <th>4770</th>\n",
       "      <th>Total Bags</th>\n",
       "      <th>Small Bags</th>\n",
       "      <th>Large Bags</th>\n",
       "      <th>XLarge Bags</th>\n",
       "      <th>year</th>\n",
       "      <th>region</th>\n",
       "    </tr>\n",
       "  </thead>\n",
       "  <tbody>\n",
       "    <tr>\n",
       "      <th>0</th>\n",
       "      <td>1.33</td>\n",
       "      <td>64236.62</td>\n",
       "      <td>1036.74</td>\n",
       "      <td>54454.85</td>\n",
       "      <td>48.16</td>\n",
       "      <td>8696.87</td>\n",
       "      <td>8603.62</td>\n",
       "      <td>93.25</td>\n",
       "      <td>0.00</td>\n",
       "      <td>0</td>\n",
       "      <td>0</td>\n",
       "    </tr>\n",
       "    <tr>\n",
       "      <th>1</th>\n",
       "      <td>1.35</td>\n",
       "      <td>54876.98</td>\n",
       "      <td>674.28</td>\n",
       "      <td>44638.81</td>\n",
       "      <td>58.33</td>\n",
       "      <td>9505.56</td>\n",
       "      <td>9408.07</td>\n",
       "      <td>97.49</td>\n",
       "      <td>0.00</td>\n",
       "      <td>0</td>\n",
       "      <td>0</td>\n",
       "    </tr>\n",
       "    <tr>\n",
       "      <th>2</th>\n",
       "      <td>0.93</td>\n",
       "      <td>118220.22</td>\n",
       "      <td>794.70</td>\n",
       "      <td>109149.67</td>\n",
       "      <td>130.50</td>\n",
       "      <td>8145.35</td>\n",
       "      <td>8042.21</td>\n",
       "      <td>103.14</td>\n",
       "      <td>0.00</td>\n",
       "      <td>0</td>\n",
       "      <td>0</td>\n",
       "    </tr>\n",
       "    <tr>\n",
       "      <th>3</th>\n",
       "      <td>1.08</td>\n",
       "      <td>78992.15</td>\n",
       "      <td>1132.00</td>\n",
       "      <td>71976.41</td>\n",
       "      <td>72.58</td>\n",
       "      <td>5811.16</td>\n",
       "      <td>5677.40</td>\n",
       "      <td>133.76</td>\n",
       "      <td>0.00</td>\n",
       "      <td>0</td>\n",
       "      <td>0</td>\n",
       "    </tr>\n",
       "    <tr>\n",
       "      <th>4</th>\n",
       "      <td>1.28</td>\n",
       "      <td>51039.60</td>\n",
       "      <td>941.48</td>\n",
       "      <td>43838.39</td>\n",
       "      <td>75.78</td>\n",
       "      <td>6183.95</td>\n",
       "      <td>5986.26</td>\n",
       "      <td>197.69</td>\n",
       "      <td>0.00</td>\n",
       "      <td>0</td>\n",
       "      <td>0</td>\n",
       "    </tr>\n",
       "    <tr>\n",
       "      <th>...</th>\n",
       "      <td>...</td>\n",
       "      <td>...</td>\n",
       "      <td>...</td>\n",
       "      <td>...</td>\n",
       "      <td>...</td>\n",
       "      <td>...</td>\n",
       "      <td>...</td>\n",
       "      <td>...</td>\n",
       "      <td>...</td>\n",
       "      <td>...</td>\n",
       "      <td>...</td>\n",
       "    </tr>\n",
       "    <tr>\n",
       "      <th>1512</th>\n",
       "      <td>1.39</td>\n",
       "      <td>190846.01</td>\n",
       "      <td>57529.11</td>\n",
       "      <td>56366.66</td>\n",
       "      <td>17531.78</td>\n",
       "      <td>59418.46</td>\n",
       "      <td>48823.53</td>\n",
       "      <td>10354.65</td>\n",
       "      <td>240.28</td>\n",
       "      <td>1</td>\n",
       "      <td>7</td>\n",
       "    </tr>\n",
       "    <tr>\n",
       "      <th>1513</th>\n",
       "      <td>1.51</td>\n",
       "      <td>178235.75</td>\n",
       "      <td>43325.87</td>\n",
       "      <td>52189.61</td>\n",
       "      <td>19419.57</td>\n",
       "      <td>63300.70</td>\n",
       "      <td>54704.14</td>\n",
       "      <td>8596.56</td>\n",
       "      <td>0.00</td>\n",
       "      <td>1</td>\n",
       "      <td>7</td>\n",
       "    </tr>\n",
       "    <tr>\n",
       "      <th>1514</th>\n",
       "      <td>1.48</td>\n",
       "      <td>178410.82</td>\n",
       "      <td>46364.75</td>\n",
       "      <td>52893.38</td>\n",
       "      <td>16736.92</td>\n",
       "      <td>62415.77</td>\n",
       "      <td>53332.61</td>\n",
       "      <td>8258.16</td>\n",
       "      <td>825.00</td>\n",
       "      <td>1</td>\n",
       "      <td>7</td>\n",
       "    </tr>\n",
       "    <tr>\n",
       "      <th>1515</th>\n",
       "      <td>1.47</td>\n",
       "      <td>189131.52</td>\n",
       "      <td>54110.79</td>\n",
       "      <td>53593.58</td>\n",
       "      <td>17495.42</td>\n",
       "      <td>63931.73</td>\n",
       "      <td>55653.47</td>\n",
       "      <td>8278.26</td>\n",
       "      <td>0.00</td>\n",
       "      <td>1</td>\n",
       "      <td>7</td>\n",
       "    </tr>\n",
       "    <tr>\n",
       "      <th>1516</th>\n",
       "      <td>1.43</td>\n",
       "      <td>182978.30</td>\n",
       "      <td>43116.41</td>\n",
       "      <td>54193.42</td>\n",
       "      <td>16563.91</td>\n",
       "      <td>69104.56</td>\n",
       "      <td>57456.21</td>\n",
       "      <td>11648.35</td>\n",
       "      <td>0.00</td>\n",
       "      <td>1</td>\n",
       "      <td>7</td>\n",
       "    </tr>\n",
       "  </tbody>\n",
       "</table>\n",
       "<p>1517 rows × 11 columns</p>\n",
       "</div>"
      ],
      "text/plain": [
       "      AveragePrice  Total Volume      4046       4225      4770  Total Bags  \\\n",
       "0             1.33      64236.62   1036.74   54454.85     48.16     8696.87   \n",
       "1             1.35      54876.98    674.28   44638.81     58.33     9505.56   \n",
       "2             0.93     118220.22    794.70  109149.67    130.50     8145.35   \n",
       "3             1.08      78992.15   1132.00   71976.41     72.58     5811.16   \n",
       "4             1.28      51039.60    941.48   43838.39     75.78     6183.95   \n",
       "...            ...           ...       ...        ...       ...         ...   \n",
       "1512          1.39     190846.01  57529.11   56366.66  17531.78    59418.46   \n",
       "1513          1.51     178235.75  43325.87   52189.61  19419.57    63300.70   \n",
       "1514          1.48     178410.82  46364.75   52893.38  16736.92    62415.77   \n",
       "1515          1.47     189131.52  54110.79   53593.58  17495.42    63931.73   \n",
       "1516          1.43     182978.30  43116.41   54193.42  16563.91    69104.56   \n",
       "\n",
       "      Small Bags  Large Bags  XLarge Bags  year  region  \n",
       "0        8603.62       93.25         0.00     0       0  \n",
       "1        9408.07       97.49         0.00     0       0  \n",
       "2        8042.21      103.14         0.00     0       0  \n",
       "3        5677.40      133.76         0.00     0       0  \n",
       "4        5986.26      197.69         0.00     0       0  \n",
       "...          ...         ...          ...   ...     ...  \n",
       "1512    48823.53    10354.65       240.28     1       7  \n",
       "1513    54704.14     8596.56         0.00     1       7  \n",
       "1514    53332.61     8258.16       825.00     1       7  \n",
       "1515    55653.47     8278.26         0.00     1       7  \n",
       "1516    57456.21    11648.35         0.00     1       7  \n",
       "\n",
       "[1517 rows x 11 columns]"
      ]
     },
     "execution_count": 25,
     "metadata": {},
     "output_type": "execute_result"
    }
   ],
   "source": [
    "#checking the dataset\n",
    "ds"
   ]
  },
  {
   "cell_type": "code",
   "execution_count": 26,
   "metadata": {},
   "outputs": [
    {
     "data": {
      "text/html": [
       "<div>\n",
       "<style scoped>\n",
       "    .dataframe tbody tr th:only-of-type {\n",
       "        vertical-align: middle;\n",
       "    }\n",
       "\n",
       "    .dataframe tbody tr th {\n",
       "        vertical-align: top;\n",
       "    }\n",
       "\n",
       "    .dataframe thead th {\n",
       "        text-align: right;\n",
       "    }\n",
       "</style>\n",
       "<table border=\"1\" class=\"dataframe\">\n",
       "  <thead>\n",
       "    <tr style=\"text-align: right;\">\n",
       "      <th></th>\n",
       "      <th>AveragePrice</th>\n",
       "      <th>Total Volume</th>\n",
       "      <th>4046</th>\n",
       "      <th>4225</th>\n",
       "      <th>4770</th>\n",
       "      <th>Total Bags</th>\n",
       "      <th>Small Bags</th>\n",
       "      <th>Large Bags</th>\n",
       "      <th>XLarge Bags</th>\n",
       "      <th>year</th>\n",
       "      <th>region</th>\n",
       "    </tr>\n",
       "  </thead>\n",
       "  <tbody>\n",
       "    <tr>\n",
       "      <th>count</th>\n",
       "      <td>1517.000000</td>\n",
       "      <td>1.517000e+03</td>\n",
       "      <td>1.517000e+03</td>\n",
       "      <td>1.517000e+03</td>\n",
       "      <td>1.517000e+03</td>\n",
       "      <td>1.517000e+03</td>\n",
       "      <td>1.517000e+03</td>\n",
       "      <td>1.517000e+03</td>\n",
       "      <td>1517.000000</td>\n",
       "      <td>1517.000000</td>\n",
       "      <td>1517.000000</td>\n",
       "    </tr>\n",
       "    <tr>\n",
       "      <th>mean</th>\n",
       "      <td>1.074990</td>\n",
       "      <td>1.601879e+06</td>\n",
       "      <td>6.464387e+05</td>\n",
       "      <td>6.114375e+05</td>\n",
       "      <td>5.040550e+04</td>\n",
       "      <td>2.935974e+05</td>\n",
       "      <td>2.487736e+05</td>\n",
       "      <td>4.264205e+04</td>\n",
       "      <td>2181.771074</td>\n",
       "      <td>0.162821</td>\n",
       "      <td>21.196440</td>\n",
       "    </tr>\n",
       "    <tr>\n",
       "      <th>std</th>\n",
       "      <td>0.188891</td>\n",
       "      <td>4.433143e+06</td>\n",
       "      <td>1.947614e+06</td>\n",
       "      <td>1.672906e+06</td>\n",
       "      <td>1.377812e+05</td>\n",
       "      <td>7.579765e+05</td>\n",
       "      <td>6.474765e+05</td>\n",
       "      <td>1.182157e+05</td>\n",
       "      <td>7455.712144</td>\n",
       "      <td>0.369324</td>\n",
       "      <td>16.132398</td>\n",
       "    </tr>\n",
       "    <tr>\n",
       "      <th>min</th>\n",
       "      <td>0.490000</td>\n",
       "      <td>3.875074e+04</td>\n",
       "      <td>4.677200e+02</td>\n",
       "      <td>1.783770e+03</td>\n",
       "      <td>0.000000e+00</td>\n",
       "      <td>3.311770e+03</td>\n",
       "      <td>3.311770e+03</td>\n",
       "      <td>0.000000e+00</td>\n",
       "      <td>0.000000</td>\n",
       "      <td>0.000000</td>\n",
       "      <td>0.000000</td>\n",
       "    </tr>\n",
       "    <tr>\n",
       "      <th>25%</th>\n",
       "      <td>0.980000</td>\n",
       "      <td>1.474700e+05</td>\n",
       "      <td>2.040034e+04</td>\n",
       "      <td>4.147606e+04</td>\n",
       "      <td>9.112500e+02</td>\n",
       "      <td>3.620689e+04</td>\n",
       "      <td>2.972722e+04</td>\n",
       "      <td>5.407400e+02</td>\n",
       "      <td>0.000000</td>\n",
       "      <td>0.000000</td>\n",
       "      <td>6.000000</td>\n",
       "    </tr>\n",
       "    <tr>\n",
       "      <th>50%</th>\n",
       "      <td>1.080000</td>\n",
       "      <td>4.027919e+05</td>\n",
       "      <td>8.175117e+04</td>\n",
       "      <td>1.186649e+05</td>\n",
       "      <td>7.688170e+03</td>\n",
       "      <td>7.397906e+04</td>\n",
       "      <td>6.237569e+04</td>\n",
       "      <td>5.044350e+03</td>\n",
       "      <td>0.000000</td>\n",
       "      <td>0.000000</td>\n",
       "      <td>19.000000</td>\n",
       "    </tr>\n",
       "    <tr>\n",
       "      <th>75%</th>\n",
       "      <td>1.190000</td>\n",
       "      <td>9.819751e+05</td>\n",
       "      <td>3.775785e+05</td>\n",
       "      <td>4.851503e+05</td>\n",
       "      <td>2.916730e+04</td>\n",
       "      <td>1.576097e+05</td>\n",
       "      <td>1.461994e+05</td>\n",
       "      <td>2.926767e+04</td>\n",
       "      <td>401.480000</td>\n",
       "      <td>0.000000</td>\n",
       "      <td>35.000000</td>\n",
       "    </tr>\n",
       "    <tr>\n",
       "      <th>max</th>\n",
       "      <td>1.680000</td>\n",
       "      <td>4.465546e+07</td>\n",
       "      <td>1.893304e+07</td>\n",
       "      <td>1.895648e+07</td>\n",
       "      <td>1.381516e+06</td>\n",
       "      <td>6.736304e+06</td>\n",
       "      <td>5.893642e+06</td>\n",
       "      <td>1.121076e+06</td>\n",
       "      <td>108072.790000</td>\n",
       "      <td>1.000000</td>\n",
       "      <td>50.000000</td>\n",
       "    </tr>\n",
       "  </tbody>\n",
       "</table>\n",
       "</div>"
      ],
      "text/plain": [
       "       AveragePrice  Total Volume          4046          4225          4770  \\\n",
       "count   1517.000000  1.517000e+03  1.517000e+03  1.517000e+03  1.517000e+03   \n",
       "mean       1.074990  1.601879e+06  6.464387e+05  6.114375e+05  5.040550e+04   \n",
       "std        0.188891  4.433143e+06  1.947614e+06  1.672906e+06  1.377812e+05   \n",
       "min        0.490000  3.875074e+04  4.677200e+02  1.783770e+03  0.000000e+00   \n",
       "25%        0.980000  1.474700e+05  2.040034e+04  4.147606e+04  9.112500e+02   \n",
       "50%        1.080000  4.027919e+05  8.175117e+04  1.186649e+05  7.688170e+03   \n",
       "75%        1.190000  9.819751e+05  3.775785e+05  4.851503e+05  2.916730e+04   \n",
       "max        1.680000  4.465546e+07  1.893304e+07  1.895648e+07  1.381516e+06   \n",
       "\n",
       "         Total Bags    Small Bags    Large Bags    XLarge Bags         year  \\\n",
       "count  1.517000e+03  1.517000e+03  1.517000e+03    1517.000000  1517.000000   \n",
       "mean   2.935974e+05  2.487736e+05  4.264205e+04    2181.771074     0.162821   \n",
       "std    7.579765e+05  6.474765e+05  1.182157e+05    7455.712144     0.369324   \n",
       "min    3.311770e+03  3.311770e+03  0.000000e+00       0.000000     0.000000   \n",
       "25%    3.620689e+04  2.972722e+04  5.407400e+02       0.000000     0.000000   \n",
       "50%    7.397906e+04  6.237569e+04  5.044350e+03       0.000000     0.000000   \n",
       "75%    1.576097e+05  1.461994e+05  2.926767e+04     401.480000     0.000000   \n",
       "max    6.736304e+06  5.893642e+06  1.121076e+06  108072.790000     1.000000   \n",
       "\n",
       "            region  \n",
       "count  1517.000000  \n",
       "mean     21.196440  \n",
       "std      16.132398  \n",
       "min       0.000000  \n",
       "25%       6.000000  \n",
       "50%      19.000000  \n",
       "75%      35.000000  \n",
       "max      50.000000  "
      ]
     },
     "execution_count": 26,
     "metadata": {},
     "output_type": "execute_result"
    }
   ],
   "source": [
    "#summary statistics\n",
    "ds.describe()"
   ]
  },
  {
   "cell_type": "markdown",
   "metadata": {},
   "source": [
    "Mean is greater than median for all columns except average price.\n",
    "\n",
    "There is a high standard deviation for total volume,total bags,small bags\n",
    "\n",
    "Except for year,region and average price there is a large difference between the 75th percentile max value,hence outliers are present in the data  "
   ]
  },
  {
   "cell_type": "code",
   "execution_count": 27,
   "metadata": {},
   "outputs": [
    {
     "data": {
      "text/html": [
       "<div>\n",
       "<style scoped>\n",
       "    .dataframe tbody tr th:only-of-type {\n",
       "        vertical-align: middle;\n",
       "    }\n",
       "\n",
       "    .dataframe tbody tr th {\n",
       "        vertical-align: top;\n",
       "    }\n",
       "\n",
       "    .dataframe thead th {\n",
       "        text-align: right;\n",
       "    }\n",
       "</style>\n",
       "<table border=\"1\" class=\"dataframe\">\n",
       "  <thead>\n",
       "    <tr style=\"text-align: right;\">\n",
       "      <th></th>\n",
       "      <th>AveragePrice</th>\n",
       "      <th>Total Volume</th>\n",
       "      <th>4046</th>\n",
       "      <th>4225</th>\n",
       "      <th>4770</th>\n",
       "      <th>Total Bags</th>\n",
       "      <th>Small Bags</th>\n",
       "      <th>Large Bags</th>\n",
       "      <th>XLarge Bags</th>\n",
       "      <th>year</th>\n",
       "      <th>region</th>\n",
       "    </tr>\n",
       "  </thead>\n",
       "  <tbody>\n",
       "    <tr>\n",
       "      <th>AveragePrice</th>\n",
       "      <td>1.000000</td>\n",
       "      <td>-0.140470</td>\n",
       "      <td>-0.190096</td>\n",
       "      <td>-0.092084</td>\n",
       "      <td>-0.100567</td>\n",
       "      <td>-0.111597</td>\n",
       "      <td>-0.097682</td>\n",
       "      <td>-0.177480</td>\n",
       "      <td>-0.048284</td>\n",
       "      <td>0.178683</td>\n",
       "      <td>-0.229408</td>\n",
       "    </tr>\n",
       "    <tr>\n",
       "      <th>Total Volume</th>\n",
       "      <td>-0.140470</td>\n",
       "      <td>1.000000</td>\n",
       "      <td>0.985568</td>\n",
       "      <td>0.987154</td>\n",
       "      <td>0.934347</td>\n",
       "      <td>0.967689</td>\n",
       "      <td>0.960642</td>\n",
       "      <td>0.910226</td>\n",
       "      <td>0.521717</td>\n",
       "      <td>-0.004189</td>\n",
       "      <td>0.236579</td>\n",
       "    </tr>\n",
       "    <tr>\n",
       "      <th>4046</th>\n",
       "      <td>-0.190096</td>\n",
       "      <td>0.985568</td>\n",
       "      <td>1.000000</td>\n",
       "      <td>0.951952</td>\n",
       "      <td>0.898570</td>\n",
       "      <td>0.930395</td>\n",
       "      <td>0.922278</td>\n",
       "      <td>0.884229</td>\n",
       "      <td>0.474063</td>\n",
       "      <td>-0.040439</td>\n",
       "      <td>0.269481</td>\n",
       "    </tr>\n",
       "    <tr>\n",
       "      <th>4225</th>\n",
       "      <td>-0.092084</td>\n",
       "      <td>0.987154</td>\n",
       "      <td>0.951952</td>\n",
       "      <td>1.000000</td>\n",
       "      <td>0.927757</td>\n",
       "      <td>0.951779</td>\n",
       "      <td>0.943988</td>\n",
       "      <td>0.900496</td>\n",
       "      <td>0.504718</td>\n",
       "      <td>-0.007254</td>\n",
       "      <td>0.215733</td>\n",
       "    </tr>\n",
       "    <tr>\n",
       "      <th>4770</th>\n",
       "      <td>-0.100567</td>\n",
       "      <td>0.934347</td>\n",
       "      <td>0.898570</td>\n",
       "      <td>0.927757</td>\n",
       "      <td>1.000000</td>\n",
       "      <td>0.926405</td>\n",
       "      <td>0.923607</td>\n",
       "      <td>0.840523</td>\n",
       "      <td>0.646053</td>\n",
       "      <td>0.029222</td>\n",
       "      <td>0.138092</td>\n",
       "    </tr>\n",
       "    <tr>\n",
       "      <th>Total Bags</th>\n",
       "      <td>-0.111597</td>\n",
       "      <td>0.967689</td>\n",
       "      <td>0.930395</td>\n",
       "      <td>0.951779</td>\n",
       "      <td>0.926405</td>\n",
       "      <td>1.000000</td>\n",
       "      <td>0.997341</td>\n",
       "      <td>0.911336</td>\n",
       "      <td>0.601856</td>\n",
       "      <td>0.090108</td>\n",
       "      <td>0.190001</td>\n",
       "    </tr>\n",
       "    <tr>\n",
       "      <th>Small Bags</th>\n",
       "      <td>-0.097682</td>\n",
       "      <td>0.960642</td>\n",
       "      <td>0.922278</td>\n",
       "      <td>0.943988</td>\n",
       "      <td>0.923607</td>\n",
       "      <td>0.997341</td>\n",
       "      <td>1.000000</td>\n",
       "      <td>0.879131</td>\n",
       "      <td>0.611300</td>\n",
       "      <td>0.106382</td>\n",
       "      <td>0.168650</td>\n",
       "    </tr>\n",
       "    <tr>\n",
       "      <th>Large Bags</th>\n",
       "      <td>-0.177480</td>\n",
       "      <td>0.910226</td>\n",
       "      <td>0.884229</td>\n",
       "      <td>0.900496</td>\n",
       "      <td>0.840523</td>\n",
       "      <td>0.911336</td>\n",
       "      <td>0.879131</td>\n",
       "      <td>1.000000</td>\n",
       "      <td>0.447779</td>\n",
       "      <td>-0.018678</td>\n",
       "      <td>0.297452</td>\n",
       "    </tr>\n",
       "    <tr>\n",
       "      <th>XLarge Bags</th>\n",
       "      <td>-0.048284</td>\n",
       "      <td>0.521717</td>\n",
       "      <td>0.474063</td>\n",
       "      <td>0.504718</td>\n",
       "      <td>0.646053</td>\n",
       "      <td>0.601856</td>\n",
       "      <td>0.611300</td>\n",
       "      <td>0.447779</td>\n",
       "      <td>1.000000</td>\n",
       "      <td>0.218342</td>\n",
       "      <td>-0.046144</td>\n",
       "    </tr>\n",
       "    <tr>\n",
       "      <th>year</th>\n",
       "      <td>0.178683</td>\n",
       "      <td>-0.004189</td>\n",
       "      <td>-0.040439</td>\n",
       "      <td>-0.007254</td>\n",
       "      <td>0.029222</td>\n",
       "      <td>0.090108</td>\n",
       "      <td>0.106382</td>\n",
       "      <td>-0.018678</td>\n",
       "      <td>0.218342</td>\n",
       "      <td>1.000000</td>\n",
       "      <td>-0.470472</td>\n",
       "    </tr>\n",
       "    <tr>\n",
       "      <th>region</th>\n",
       "      <td>-0.229408</td>\n",
       "      <td>0.236579</td>\n",
       "      <td>0.269481</td>\n",
       "      <td>0.215733</td>\n",
       "      <td>0.138092</td>\n",
       "      <td>0.190001</td>\n",
       "      <td>0.168650</td>\n",
       "      <td>0.297452</td>\n",
       "      <td>-0.046144</td>\n",
       "      <td>-0.470472</td>\n",
       "      <td>1.000000</td>\n",
       "    </tr>\n",
       "  </tbody>\n",
       "</table>\n",
       "</div>"
      ],
      "text/plain": [
       "              AveragePrice  Total Volume      4046      4225      4770  \\\n",
       "AveragePrice      1.000000     -0.140470 -0.190096 -0.092084 -0.100567   \n",
       "Total Volume     -0.140470      1.000000  0.985568  0.987154  0.934347   \n",
       "4046             -0.190096      0.985568  1.000000  0.951952  0.898570   \n",
       "4225             -0.092084      0.987154  0.951952  1.000000  0.927757   \n",
       "4770             -0.100567      0.934347  0.898570  0.927757  1.000000   \n",
       "Total Bags       -0.111597      0.967689  0.930395  0.951779  0.926405   \n",
       "Small Bags       -0.097682      0.960642  0.922278  0.943988  0.923607   \n",
       "Large Bags       -0.177480      0.910226  0.884229  0.900496  0.840523   \n",
       "XLarge Bags      -0.048284      0.521717  0.474063  0.504718  0.646053   \n",
       "year              0.178683     -0.004189 -0.040439 -0.007254  0.029222   \n",
       "region           -0.229408      0.236579  0.269481  0.215733  0.138092   \n",
       "\n",
       "              Total Bags  Small Bags  Large Bags  XLarge Bags      year  \\\n",
       "AveragePrice   -0.111597   -0.097682   -0.177480    -0.048284  0.178683   \n",
       "Total Volume    0.967689    0.960642    0.910226     0.521717 -0.004189   \n",
       "4046            0.930395    0.922278    0.884229     0.474063 -0.040439   \n",
       "4225            0.951779    0.943988    0.900496     0.504718 -0.007254   \n",
       "4770            0.926405    0.923607    0.840523     0.646053  0.029222   \n",
       "Total Bags      1.000000    0.997341    0.911336     0.601856  0.090108   \n",
       "Small Bags      0.997341    1.000000    0.879131     0.611300  0.106382   \n",
       "Large Bags      0.911336    0.879131    1.000000     0.447779 -0.018678   \n",
       "XLarge Bags     0.601856    0.611300    0.447779     1.000000  0.218342   \n",
       "year            0.090108    0.106382   -0.018678     0.218342  1.000000   \n",
       "region          0.190001    0.168650    0.297452    -0.046144 -0.470472   \n",
       "\n",
       "                region  \n",
       "AveragePrice -0.229408  \n",
       "Total Volume  0.236579  \n",
       "4046          0.269481  \n",
       "4225          0.215733  \n",
       "4770          0.138092  \n",
       "Total Bags    0.190001  \n",
       "Small Bags    0.168650  \n",
       "Large Bags    0.297452  \n",
       "XLarge Bags  -0.046144  \n",
       "year         -0.470472  \n",
       "region        1.000000  "
      ]
     },
     "execution_count": 27,
     "metadata": {},
     "output_type": "execute_result"
    }
   ],
   "source": [
    "#lets check for correlation\n",
    "ds.corr()"
   ]
  },
  {
   "cell_type": "code",
   "execution_count": 28,
   "metadata": {},
   "outputs": [
    {
     "data": {
      "text/plain": [
       "<matplotlib.axes._subplots.AxesSubplot at 0x29b45011d90>"
      ]
     },
     "execution_count": 28,
     "metadata": {},
     "output_type": "execute_result"
    },
    {
     "data": {
      "image/png": "[encoded data removed]",
      "text/plain": [
       "<Figure size 432x288 with 2 Axes>"
      ]
     },
     "metadata": {},
     "output_type": "display_data"
    }
   ],
   "source": [
    "#graphical visualiztion of correlation\n",
    "sns.heatmap(ds.corr())"
   ]
  },
  {
   "cell_type": "markdown",
   "metadata": {},
   "source": [
    "The lighter shades in the graph shows positive correlation with the corresponding other attributes."
   ]
  },
  {
   "cell_type": "markdown",
   "metadata": {},
   "source": [
    "Our major concerns is to find the region and the average price which are highly negatively correlated to each other.\n",
    " "
   ]
  },
  {
   "cell_type": "markdown",
   "metadata": {},
   "source": [
    "## Treating outliers and skewness"
   ]
  },
  {
   "cell_type": "code",
   "execution_count": 29,
   "metadata": {},
   "outputs": [
    {
     "data": {
      "image/png": "[encoded data removed]",
      "text/plain": [
       "<Figure size 432x288 with 1 Axes>"
      ]
     },
     "metadata": {},
     "output_type": "display_data"
    },
    {
     "data": {
      "image/png": "[encoded data removed]",
      "text/plain": [
       "<Figure size 432x288 with 1 Axes>"
      ]
     },
     "metadata": {},
     "output_type": "display_data"
    },
    {
     "data": {
      "image/png": "[encoded data removed]",
      "text/plain": [
       "<Figure size 432x288 with 1 Axes>"
      ]
     },
     "metadata": {},
     "output_type": "display_data"
    },
    {
     "data": {
      "image/png": "[encoded data removed]",
      "text/plain": [
       "<Figure size 432x288 with 1 Axes>"
      ]
     },
     "metadata": {},
     "output_type": "display_data"
    },
    {
     "data": {
      "image/png": "[encoded data removed]",
      "text/plain": [
       "<Figure size 432x288 with 1 Axes>"
      ]
     },
     "metadata": {},
     "output_type": "display_data"
    },
    {
     "data": {
      "image/png": "[encoded data removed]",
      "text/plain": [
       "<Figure size 432x288 with 1 Axes>"
      ]
     },
     "metadata": {},
     "output_type": "display_data"
    },
    {
     "data": {
      "image/png": "[encoded data removed]",
      "text/plain": [
       "<Figure size 432x288 with 1 Axes>"
      ]
     },
     "metadata": {},
     "output_type": "display_data"
    },
    {
     "data": {
      "image/png": "[encoded data removed]",
      "text/plain": [
       "<Figure size 432x288 with 1 Axes>"
      ]
     },
     "metadata": {},
     "output_type": "display_data"
    },
    {
     "data": {
      "image/png": "[encoded data removed]",
      "text/plain": [
       "<Figure size 432x288 with 1 Axes>"
      ]
     },
     "metadata": {},
     "output_type": "display_data"
    },
    {
     "data": {
      "image/png": "[encoded data removed]",
      "text/plain": [
       "<Figure size 432x288 with 1 Axes>"
      ]
     },
     "metadata": {},
     "output_type": "display_data"
    },
    {
     "data": {
      "image/png": "[encoded data removed]",
      "text/plain": [
       "<Figure size 432x288 with 1 Axes>"
      ]
     },
     "metadata": {},
     "output_type": "display_data"
    }
   ],
   "source": [
    "#plotting the boxplot for all attributes to check the outliers\n",
    "for i in ds.columns:\n",
    "    plt.figure()\n",
    "    sns.boxplot(ds[i],orient=\"v\")"
   ]
  },
  {
   "cell_type": "code",
   "execution_count": 30,
   "metadata": {},
   "outputs": [
    {
     "name": "stdout",
     "output_type": "stream",
     "text": [
      "(1517, 11)\n",
      "(1436, 11)\n"
     ]
    }
   ],
   "source": [
    "#removing the outliers\n",
    "from scipy.stats import zscore\n",
    "z_score=abs(zscore(ds))\n",
    "print(ds.shape)\n",
    "\n",
    "ds_final=ds.loc[(z_score<3).all(axis=1)]\n",
    "print(ds_final.shape)"
   ]
  },
  {
   "cell_type": "code",
   "execution_count": 31,
   "metadata": {},
   "outputs": [],
   "source": [
    "ds=ds_final"
   ]
  },
  {
   "cell_type": "code",
   "execution_count": 32,
   "metadata": {},
   "outputs": [
    {
     "data": {
      "text/plain": [
       "AveragePrice   -0.184770\n",
       "Total Volume    2.704085\n",
       "4046            3.120756\n",
       "4225            2.367429\n",
       "4770            3.331191\n",
       "Total Bags      4.165747\n",
       "Small Bags      4.410267\n",
       "Large Bags      3.518056\n",
       "XLarge Bags     5.118965\n",
       "year            2.004439\n",
       "region          0.276276\n",
       "dtype: float64"
      ]
     },
     "execution_count": 32,
     "metadata": {},
     "output_type": "execute_result"
    }
   ],
   "source": [
    "#checking for skewness\n",
    "ds.skew()"
   ]
  },
  {
   "cell_type": "markdown",
   "metadata": {},
   "source": [
    "The datas are highly skewed except for average price and region.we can visualize them graphically by distplot."
   ]
  },
  {
   "cell_type": "code",
   "execution_count": 33,
   "metadata": {},
   "outputs": [
    {
     "data": {
      "image/png": "[encoded data removed]",
      "text/plain": [
       "<Figure size 432x288 with 1 Axes>"
      ]
     },
     "metadata": {},
     "output_type": "display_data"
    },
    {
     "data": {
      "image/png": "[encoded data removed]",
      "text/plain": [
       "<Figure size 432x288 with 1 Axes>"
      ]
     },
     "metadata": {},
     "output_type": "display_data"
    },
    {
     "data": {
      "image/png": "[encoded data removed]",
      "text/plain": [
       "<Figure size 432x288 with 1 Axes>"
      ]
     },
     "metadata": {},
     "output_type": "display_data"
    },
    {
     "data": {
      "image/png": "[encoded data removed]",
      "text/plain": [
       "<Figure size 432x288 with 1 Axes>"
      ]
     },
     "metadata": {},
     "output_type": "display_data"
    },
    {
     "data": {
      "image/png": "[encoded data removed]",
      "text/plain": [
       "<Figure size 432x288 with 1 Axes>"
      ]
     },
     "metadata": {},
     "output_type": "display_data"
    },
    {
     "data": {
      "image/png": "[encoded data removed]",
      "text/plain": [
       "<Figure size 432x288 with 1 Axes>"
      ]
     },
     "metadata": {},
     "output_type": "display_data"
    },
    {
     "data": {
      "image/png": "[encoded data removed]",
      "text/plain": [
       "<Figure size 432x288 with 1 Axes>"
      ]
     },
     "metadata": {},
     "output_type": "display_data"
    },
    {
     "data": {
      "image/png": "[encoded data removed]",
      "text/plain": [
       "<Figure size 432x288 with 1 Axes>"
      ]
     },
     "metadata": {},
     "output_type": "display_data"
    },
    {
     "data": {
      "image/png": "[encoded data removed]",
      "text/plain": [
       "<Figure size 432x288 with 1 Axes>"
      ]
     },
     "metadata": {},
     "output_type": "display_data"
    },
    {
     "data": {
      "image/png": "[encoded data removed]",
      "text/plain": [
       "<Figure size 432x288 with 1 Axes>"
      ]
     },
     "metadata": {},
     "output_type": "display_data"
    },
    {
     "data": {
      "image/png": "[encoded data removed]",
      "text/plain": [
       "<Figure size 432x288 with 1 Axes>"
      ]
     },
     "metadata": {},
     "output_type": "display_data"
    }
   ],
   "source": [
    "#graphical visualiztion of skewness \n",
    "for i in ds.columns:\n",
    "    plt.figure()\n",
    "    sns.distplot(ds[i])"
   ]
  },
  {
   "cell_type": "code",
   "execution_count": 34,
   "metadata": {},
   "outputs": [],
   "source": [
    "#treating skewness using log\n",
    "for col in ds.columns:\n",
    "    if ds.skew().loc[col]>0.55:\n",
    "        ds[col]=np.log1p(ds[col])"
   ]
  },
  {
   "cell_type": "code",
   "execution_count": 35,
   "metadata": {},
   "outputs": [
    {
     "data": {
      "text/plain": [
       "AveragePrice   -0.184770\n",
       "Total Volume    0.462899\n",
       "4046           -0.270283\n",
       "4225            0.011359\n",
       "4770           -0.449713\n",
       "Total Bags      0.378673\n",
       "Small Bags      0.420856\n",
       "Large Bags     -0.979047\n",
       "XLarge Bags     0.851740\n",
       "year            2.004439\n",
       "region          0.276276\n",
       "dtype: float64"
      ]
     },
     "execution_count": 35,
     "metadata": {},
     "output_type": "execute_result"
    }
   ],
   "source": [
    "ds.skew()"
   ]
  },
  {
   "cell_type": "markdown",
   "metadata": {},
   "source": [
    "we have reduced the skewness to an extent."
   ]
  },
  {
   "cell_type": "markdown",
   "metadata": {},
   "source": [
    "# 1. Finding the average price"
   ]
  },
  {
   "cell_type": "markdown",
   "metadata": {},
   "source": [
    "For finding the average price we need to create a regression model.For this we consider average price as the output variable and rest other attributes as input data. "
   ]
  },
  {
   "cell_type": "code",
   "execution_count": 36,
   "metadata": {},
   "outputs": [
    {
     "data": {
      "text/plain": [
       "(1436, 11)"
      ]
     },
     "execution_count": 36,
     "metadata": {},
     "output_type": "execute_result"
    }
   ],
   "source": [
    "#lets take a seperate dataframe\n",
    "ds_reg=ds\n",
    "ds_reg.shape"
   ]
  },
  {
   "cell_type": "code",
   "execution_count": 37,
   "metadata": {},
   "outputs": [
    {
     "data": {
      "text/html": [
       "<div>\n",
       "<style scoped>\n",
       "    .dataframe tbody tr th:only-of-type {\n",
       "        vertical-align: middle;\n",
       "    }\n",
       "\n",
       "    .dataframe tbody tr th {\n",
       "        vertical-align: top;\n",
       "    }\n",
       "\n",
       "    .dataframe thead th {\n",
       "        text-align: right;\n",
       "    }\n",
       "</style>\n",
       "<table border=\"1\" class=\"dataframe\">\n",
       "  <thead>\n",
       "    <tr style=\"text-align: right;\">\n",
       "      <th></th>\n",
       "      <th>AveragePrice</th>\n",
       "      <th>Total Volume</th>\n",
       "      <th>4046</th>\n",
       "      <th>4225</th>\n",
       "      <th>4770</th>\n",
       "      <th>Total Bags</th>\n",
       "      <th>Small Bags</th>\n",
       "      <th>Large Bags</th>\n",
       "      <th>XLarge Bags</th>\n",
       "      <th>year</th>\n",
       "      <th>region</th>\n",
       "    </tr>\n",
       "  </thead>\n",
       "  <tbody>\n",
       "    <tr>\n",
       "      <th>0</th>\n",
       "      <td>1.33</td>\n",
       "      <td>11.070344</td>\n",
       "      <td>6.944801</td>\n",
       "      <td>10.905146</td>\n",
       "      <td>3.895080</td>\n",
       "      <td>9.070833</td>\n",
       "      <td>9.060055</td>\n",
       "      <td>4.545951</td>\n",
       "      <td>0.000000</td>\n",
       "      <td>0.000000</td>\n",
       "      <td>0</td>\n",
       "    </tr>\n",
       "    <tr>\n",
       "      <th>1</th>\n",
       "      <td>1.35</td>\n",
       "      <td>10.912867</td>\n",
       "      <td>6.515127</td>\n",
       "      <td>10.706381</td>\n",
       "      <td>4.083115</td>\n",
       "      <td>9.159737</td>\n",
       "      <td>9.149429</td>\n",
       "      <td>4.589955</td>\n",
       "      <td>0.000000</td>\n",
       "      <td>0.000000</td>\n",
       "      <td>0</td>\n",
       "    </tr>\n",
       "    <tr>\n",
       "      <th>2</th>\n",
       "      <td>0.93</td>\n",
       "      <td>11.680313</td>\n",
       "      <td>6.679222</td>\n",
       "      <td>11.600485</td>\n",
       "      <td>4.879007</td>\n",
       "      <td>9.005325</td>\n",
       "      <td>8.992584</td>\n",
       "      <td>4.645736</td>\n",
       "      <td>0.000000</td>\n",
       "      <td>0.000000</td>\n",
       "      <td>0</td>\n",
       "    </tr>\n",
       "    <tr>\n",
       "      <th>3</th>\n",
       "      <td>1.08</td>\n",
       "      <td>11.277116</td>\n",
       "      <td>7.032624</td>\n",
       "      <td>11.184108</td>\n",
       "      <td>4.298373</td>\n",
       "      <td>8.667708</td>\n",
       "      <td>8.644425</td>\n",
       "      <td>4.903495</td>\n",
       "      <td>0.000000</td>\n",
       "      <td>0.000000</td>\n",
       "      <td>0</td>\n",
       "    </tr>\n",
       "    <tr>\n",
       "      <th>4</th>\n",
       "      <td>1.28</td>\n",
       "      <td>10.840377</td>\n",
       "      <td>6.848515</td>\n",
       "      <td>10.688288</td>\n",
       "      <td>4.340944</td>\n",
       "      <td>8.729874</td>\n",
       "      <td>8.697389</td>\n",
       "      <td>5.291746</td>\n",
       "      <td>0.000000</td>\n",
       "      <td>0.000000</td>\n",
       "      <td>0</td>\n",
       "    </tr>\n",
       "    <tr>\n",
       "      <th>...</th>\n",
       "      <td>...</td>\n",
       "      <td>...</td>\n",
       "      <td>...</td>\n",
       "      <td>...</td>\n",
       "      <td>...</td>\n",
       "      <td>...</td>\n",
       "      <td>...</td>\n",
       "      <td>...</td>\n",
       "      <td>...</td>\n",
       "      <td>...</td>\n",
       "      <td>...</td>\n",
       "    </tr>\n",
       "    <tr>\n",
       "      <th>1512</th>\n",
       "      <td>1.39</td>\n",
       "      <td>12.159227</td>\n",
       "      <td>10.960064</td>\n",
       "      <td>10.939651</td>\n",
       "      <td>9.771828</td>\n",
       "      <td>10.992377</td>\n",
       "      <td>10.795988</td>\n",
       "      <td>9.245288</td>\n",
       "      <td>5.485958</td>\n",
       "      <td>0.693147</td>\n",
       "      <td>7</td>\n",
       "    </tr>\n",
       "    <tr>\n",
       "      <th>1513</th>\n",
       "      <td>1.51</td>\n",
       "      <td>12.090868</td>\n",
       "      <td>10.676528</td>\n",
       "      <td>10.862658</td>\n",
       "      <td>9.874088</td>\n",
       "      <td>11.055667</td>\n",
       "      <td>10.909713</td>\n",
       "      <td>9.059234</td>\n",
       "      <td>0.000000</td>\n",
       "      <td>0.693147</td>\n",
       "      <td>7</td>\n",
       "    </tr>\n",
       "    <tr>\n",
       "      <th>1514</th>\n",
       "      <td>1.48</td>\n",
       "      <td>12.091850</td>\n",
       "      <td>10.744316</td>\n",
       "      <td>10.876052</td>\n",
       "      <td>9.725432</td>\n",
       "      <td>11.041589</td>\n",
       "      <td>10.884322</td>\n",
       "      <td>9.019078</td>\n",
       "      <td>6.716595</td>\n",
       "      <td>0.693147</td>\n",
       "      <td>7</td>\n",
       "    </tr>\n",
       "    <tr>\n",
       "      <th>1515</th>\n",
       "      <td>1.47</td>\n",
       "      <td>12.150203</td>\n",
       "      <td>10.898807</td>\n",
       "      <td>10.889203</td>\n",
       "      <td>9.769752</td>\n",
       "      <td>11.065587</td>\n",
       "      <td>10.926918</td>\n",
       "      <td>9.021509</td>\n",
       "      <td>0.000000</td>\n",
       "      <td>0.693147</td>\n",
       "      <td>7</td>\n",
       "    </tr>\n",
       "    <tr>\n",
       "      <th>1516</th>\n",
       "      <td>1.43</td>\n",
       "      <td>12.117128</td>\n",
       "      <td>10.671682</td>\n",
       "      <td>10.900333</td>\n",
       "      <td>9.715042</td>\n",
       "      <td>11.143390</td>\n",
       "      <td>10.958796</td>\n",
       "      <td>9.363006</td>\n",
       "      <td>0.000000</td>\n",
       "      <td>0.693147</td>\n",
       "      <td>7</td>\n",
       "    </tr>\n",
       "  </tbody>\n",
       "</table>\n",
       "<p>1436 rows × 11 columns</p>\n",
       "</div>"
      ],
      "text/plain": [
       "      AveragePrice  Total Volume       4046       4225      4770  Total Bags  \\\n",
       "0             1.33     11.070344   6.944801  10.905146  3.895080    9.070833   \n",
       "1             1.35     10.912867   6.515127  10.706381  4.083115    9.159737   \n",
       "2             0.93     11.680313   6.679222  11.600485  4.879007    9.005325   \n",
       "3             1.08     11.277116   7.032624  11.184108  4.298373    8.667708   \n",
       "4             1.28     10.840377   6.848515  10.688288  4.340944    8.729874   \n",
       "...            ...           ...        ...        ...       ...         ...   \n",
       "1512          1.39     12.159227  10.960064  10.939651  9.771828   10.992377   \n",
       "1513          1.51     12.090868  10.676528  10.862658  9.874088   11.055667   \n",
       "1514          1.48     12.091850  10.744316  10.876052  9.725432   11.041589   \n",
       "1515          1.47     12.150203  10.898807  10.889203  9.769752   11.065587   \n",
       "1516          1.43     12.117128  10.671682  10.900333  9.715042   11.143390   \n",
       "\n",
       "      Small Bags  Large Bags  XLarge Bags      year  region  \n",
       "0       9.060055    4.545951     0.000000  0.000000       0  \n",
       "1       9.149429    4.589955     0.000000  0.000000       0  \n",
       "2       8.992584    4.645736     0.000000  0.000000       0  \n",
       "3       8.644425    4.903495     0.000000  0.000000       0  \n",
       "4       8.697389    5.291746     0.000000  0.000000       0  \n",
       "...          ...         ...          ...       ...     ...  \n",
       "1512   10.795988    9.245288     5.485958  0.693147       7  \n",
       "1513   10.909713    9.059234     0.000000  0.693147       7  \n",
       "1514   10.884322    9.019078     6.716595  0.693147       7  \n",
       "1515   10.926918    9.021509     0.000000  0.693147       7  \n",
       "1516   10.958796    9.363006     0.000000  0.693147       7  \n",
       "\n",
       "[1436 rows x 11 columns]"
      ]
     },
     "execution_count": 37,
     "metadata": {},
     "output_type": "execute_result"
    }
   ],
   "source": [
    "ds_reg"
   ]
  },
  {
   "cell_type": "code",
   "execution_count": 38,
   "metadata": {},
   "outputs": [
    {
     "data": {
      "text/plain": [
       "0    1.33\n",
       "1    1.35\n",
       "2    0.93\n",
       "3    1.08\n",
       "4    1.28\n",
       "Name: AveragePrice, dtype: float64"
      ]
     },
     "execution_count": 38,
     "metadata": {},
     "output_type": "execute_result"
    }
   ],
   "source": [
    "#seperating dependent variable from the dataframe\n",
    "y=ds_reg.iloc[:,0]\n",
    "y.head()"
   ]
  },
  {
   "cell_type": "code",
   "execution_count": 39,
   "metadata": {},
   "outputs": [
    {
     "data": {
      "text/html": [
       "<div>\n",
       "<style scoped>\n",
       "    .dataframe tbody tr th:only-of-type {\n",
       "        vertical-align: middle;\n",
       "    }\n",
       "\n",
       "    .dataframe tbody tr th {\n",
       "        vertical-align: top;\n",
       "    }\n",
       "\n",
       "    .dataframe thead th {\n",
       "        text-align: right;\n",
       "    }\n",
       "</style>\n",
       "<table border=\"1\" class=\"dataframe\">\n",
       "  <thead>\n",
       "    <tr style=\"text-align: right;\">\n",
       "      <th></th>\n",
       "      <th>Total Volume</th>\n",
       "      <th>4046</th>\n",
       "      <th>4225</th>\n",
       "      <th>4770</th>\n",
       "      <th>Total Bags</th>\n",
       "      <th>Small Bags</th>\n",
       "      <th>Large Bags</th>\n",
       "      <th>XLarge Bags</th>\n",
       "      <th>year</th>\n",
       "      <th>region</th>\n",
       "    </tr>\n",
       "  </thead>\n",
       "  <tbody>\n",
       "    <tr>\n",
       "      <th>0</th>\n",
       "      <td>11.070344</td>\n",
       "      <td>6.944801</td>\n",
       "      <td>10.905146</td>\n",
       "      <td>3.895080</td>\n",
       "      <td>9.070833</td>\n",
       "      <td>9.060055</td>\n",
       "      <td>4.545951</td>\n",
       "      <td>0.0</td>\n",
       "      <td>0.0</td>\n",
       "      <td>0</td>\n",
       "    </tr>\n",
       "    <tr>\n",
       "      <th>1</th>\n",
       "      <td>10.912867</td>\n",
       "      <td>6.515127</td>\n",
       "      <td>10.706381</td>\n",
       "      <td>4.083115</td>\n",
       "      <td>9.159737</td>\n",
       "      <td>9.149429</td>\n",
       "      <td>4.589955</td>\n",
       "      <td>0.0</td>\n",
       "      <td>0.0</td>\n",
       "      <td>0</td>\n",
       "    </tr>\n",
       "    <tr>\n",
       "      <th>2</th>\n",
       "      <td>11.680313</td>\n",
       "      <td>6.679222</td>\n",
       "      <td>11.600485</td>\n",
       "      <td>4.879007</td>\n",
       "      <td>9.005325</td>\n",
       "      <td>8.992584</td>\n",
       "      <td>4.645736</td>\n",
       "      <td>0.0</td>\n",
       "      <td>0.0</td>\n",
       "      <td>0</td>\n",
       "    </tr>\n",
       "    <tr>\n",
       "      <th>3</th>\n",
       "      <td>11.277116</td>\n",
       "      <td>7.032624</td>\n",
       "      <td>11.184108</td>\n",
       "      <td>4.298373</td>\n",
       "      <td>8.667708</td>\n",
       "      <td>8.644425</td>\n",
       "      <td>4.903495</td>\n",
       "      <td>0.0</td>\n",
       "      <td>0.0</td>\n",
       "      <td>0</td>\n",
       "    </tr>\n",
       "    <tr>\n",
       "      <th>4</th>\n",
       "      <td>10.840377</td>\n",
       "      <td>6.848515</td>\n",
       "      <td>10.688288</td>\n",
       "      <td>4.340944</td>\n",
       "      <td>8.729874</td>\n",
       "      <td>8.697389</td>\n",
       "      <td>5.291746</td>\n",
       "      <td>0.0</td>\n",
       "      <td>0.0</td>\n",
       "      <td>0</td>\n",
       "    </tr>\n",
       "  </tbody>\n",
       "</table>\n",
       "</div>"
      ],
      "text/plain": [
       "   Total Volume      4046       4225      4770  Total Bags  Small Bags  \\\n",
       "0     11.070344  6.944801  10.905146  3.895080    9.070833    9.060055   \n",
       "1     10.912867  6.515127  10.706381  4.083115    9.159737    9.149429   \n",
       "2     11.680313  6.679222  11.600485  4.879007    9.005325    8.992584   \n",
       "3     11.277116  7.032624  11.184108  4.298373    8.667708    8.644425   \n",
       "4     10.840377  6.848515  10.688288  4.340944    8.729874    8.697389   \n",
       "\n",
       "   Large Bags  XLarge Bags  year  region  \n",
       "0    4.545951          0.0   0.0       0  \n",
       "1    4.589955          0.0   0.0       0  \n",
       "2    4.645736          0.0   0.0       0  \n",
       "3    4.903495          0.0   0.0       0  \n",
       "4    5.291746          0.0   0.0       0  "
      ]
     },
     "execution_count": 39,
     "metadata": {},
     "output_type": "execute_result"
    }
   ],
   "source": [
    "#seperating independent variables from the dataframe\n",
    "ds_reg_x=ds_reg.iloc[:,1:]\n",
    "ds_reg_x.head()"
   ]
  },
  {
   "cell_type": "code",
   "execution_count": 40,
   "metadata": {},
   "outputs": [],
   "source": [
    "#Now we need to standardize the input data.we use standard scaler for the purpose.\n",
    "from sklearn.preprocessing import StandardScaler\n",
    "sc_reg=StandardScaler()\n",
    "x=sc_reg.fit_transform(ds_reg_x)\n",
    "x=pd.DataFrame(x,columns=ds_reg_x.columns)"
   ]
  },
  {
   "cell_type": "code",
   "execution_count": 41,
   "metadata": {},
   "outputs": [
    {
     "data": {
      "text/html": [
       "<div>\n",
       "<style scoped>\n",
       "    .dataframe tbody tr th:only-of-type {\n",
       "        vertical-align: middle;\n",
       "    }\n",
       "\n",
       "    .dataframe tbody tr th {\n",
       "        vertical-align: top;\n",
       "    }\n",
       "\n",
       "    .dataframe thead th {\n",
       "        text-align: right;\n",
       "    }\n",
       "</style>\n",
       "<table border=\"1\" class=\"dataframe\">\n",
       "  <thead>\n",
       "    <tr style=\"text-align: right;\">\n",
       "      <th></th>\n",
       "      <th>Total Volume</th>\n",
       "      <th>4046</th>\n",
       "      <th>4225</th>\n",
       "      <th>4770</th>\n",
       "      <th>Total Bags</th>\n",
       "      <th>Small Bags</th>\n",
       "      <th>Large Bags</th>\n",
       "      <th>XLarge Bags</th>\n",
       "      <th>year</th>\n",
       "      <th>region</th>\n",
       "    </tr>\n",
       "  </thead>\n",
       "  <tbody>\n",
       "    <tr>\n",
       "      <th>0</th>\n",
       "      <td>-1.410935</td>\n",
       "      <td>-1.847345</td>\n",
       "      <td>-0.507917</td>\n",
       "      <td>-1.815979</td>\n",
       "      <td>-1.822359</td>\n",
       "      <td>-1.648547</td>\n",
       "      <td>-0.917419</td>\n",
       "      <td>-0.775528</td>\n",
       "      <td>-0.413870</td>\n",
       "      <td>-1.322817</td>\n",
       "    </tr>\n",
       "    <tr>\n",
       "      <th>1</th>\n",
       "      <td>-1.535660</td>\n",
       "      <td>-2.042823</td>\n",
       "      <td>-0.635183</td>\n",
       "      <td>-1.739119</td>\n",
       "      <td>-1.746806</td>\n",
       "      <td>-1.573622</td>\n",
       "      <td>-0.904196</td>\n",
       "      <td>-0.775528</td>\n",
       "      <td>-0.413870</td>\n",
       "      <td>-1.322817</td>\n",
       "    </tr>\n",
       "    <tr>\n",
       "      <th>2</th>\n",
       "      <td>-0.927830</td>\n",
       "      <td>-1.968169</td>\n",
       "      <td>-0.062698</td>\n",
       "      <td>-1.413794</td>\n",
       "      <td>-1.878029</td>\n",
       "      <td>-1.705109</td>\n",
       "      <td>-0.887434</td>\n",
       "      <td>-0.775528</td>\n",
       "      <td>-0.413870</td>\n",
       "      <td>-1.322817</td>\n",
       "    </tr>\n",
       "    <tr>\n",
       "      <th>3</th>\n",
       "      <td>-1.247168</td>\n",
       "      <td>-1.807390</td>\n",
       "      <td>-0.329300</td>\n",
       "      <td>-1.651131</td>\n",
       "      <td>-2.164946</td>\n",
       "      <td>-1.996977</td>\n",
       "      <td>-0.809976</td>\n",
       "      <td>-0.775528</td>\n",
       "      <td>-0.413870</td>\n",
       "      <td>-1.322817</td>\n",
       "    </tr>\n",
       "    <tr>\n",
       "      <th>4</th>\n",
       "      <td>-1.593074</td>\n",
       "      <td>-1.891150</td>\n",
       "      <td>-0.646768</td>\n",
       "      <td>-1.633730</td>\n",
       "      <td>-2.112115</td>\n",
       "      <td>-1.952576</td>\n",
       "      <td>-0.693305</td>\n",
       "      <td>-0.775528</td>\n",
       "      <td>-0.413870</td>\n",
       "      <td>-1.322817</td>\n",
       "    </tr>\n",
       "    <tr>\n",
       "      <th>...</th>\n",
       "      <td>...</td>\n",
       "      <td>...</td>\n",
       "      <td>...</td>\n",
       "      <td>...</td>\n",
       "      <td>...</td>\n",
       "      <td>...</td>\n",
       "      <td>...</td>\n",
       "      <td>...</td>\n",
       "      <td>...</td>\n",
       "      <td>...</td>\n",
       "    </tr>\n",
       "    <tr>\n",
       "      <th>1431</th>\n",
       "      <td>-0.548521</td>\n",
       "      <td>-0.020619</td>\n",
       "      <td>-0.485823</td>\n",
       "      <td>0.586167</td>\n",
       "      <td>-0.189379</td>\n",
       "      <td>-0.193283</td>\n",
       "      <td>0.494754</td>\n",
       "      <td>0.946229</td>\n",
       "      <td>2.416215</td>\n",
       "      <td>-0.879305</td>\n",
       "    </tr>\n",
       "    <tr>\n",
       "      <th>1432</th>\n",
       "      <td>-0.602663</td>\n",
       "      <td>-0.149612</td>\n",
       "      <td>-0.535121</td>\n",
       "      <td>0.627966</td>\n",
       "      <td>-0.135593</td>\n",
       "      <td>-0.097945</td>\n",
       "      <td>0.438844</td>\n",
       "      <td>-0.775528</td>\n",
       "      <td>2.416215</td>\n",
       "      <td>-0.879305</td>\n",
       "    </tr>\n",
       "    <tr>\n",
       "      <th>1433</th>\n",
       "      <td>-0.601885</td>\n",
       "      <td>-0.118772</td>\n",
       "      <td>-0.526545</td>\n",
       "      <td>0.567203</td>\n",
       "      <td>-0.147557</td>\n",
       "      <td>-0.119231</td>\n",
       "      <td>0.426777</td>\n",
       "      <td>1.332463</td>\n",
       "      <td>2.416215</td>\n",
       "      <td>-0.879305</td>\n",
       "    </tr>\n",
       "    <tr>\n",
       "      <th>1434</th>\n",
       "      <td>-0.555668</td>\n",
       "      <td>-0.048487</td>\n",
       "      <td>-0.518124</td>\n",
       "      <td>0.585318</td>\n",
       "      <td>-0.127164</td>\n",
       "      <td>-0.083522</td>\n",
       "      <td>0.427507</td>\n",
       "      <td>-0.775528</td>\n",
       "      <td>2.416215</td>\n",
       "      <td>-0.879305</td>\n",
       "    </tr>\n",
       "    <tr>\n",
       "      <th>1435</th>\n",
       "      <td>-0.581864</td>\n",
       "      <td>-0.151817</td>\n",
       "      <td>-0.510998</td>\n",
       "      <td>0.562955</td>\n",
       "      <td>-0.061044</td>\n",
       "      <td>-0.056798</td>\n",
       "      <td>0.530128</td>\n",
       "      <td>-0.775528</td>\n",
       "      <td>2.416215</td>\n",
       "      <td>-0.879305</td>\n",
       "    </tr>\n",
       "  </tbody>\n",
       "</table>\n",
       "<p>1436 rows × 10 columns</p>\n",
       "</div>"
      ],
      "text/plain": [
       "      Total Volume      4046      4225      4770  Total Bags  Small Bags  \\\n",
       "0        -1.410935 -1.847345 -0.507917 -1.815979   -1.822359   -1.648547   \n",
       "1        -1.535660 -2.042823 -0.635183 -1.739119   -1.746806   -1.573622   \n",
       "2        -0.927830 -1.968169 -0.062698 -1.413794   -1.878029   -1.705109   \n",
       "3        -1.247168 -1.807390 -0.329300 -1.651131   -2.164946   -1.996977   \n",
       "4        -1.593074 -1.891150 -0.646768 -1.633730   -2.112115   -1.952576   \n",
       "...            ...       ...       ...       ...         ...         ...   \n",
       "1431     -0.548521 -0.020619 -0.485823  0.586167   -0.189379   -0.193283   \n",
       "1432     -0.602663 -0.149612 -0.535121  0.627966   -0.135593   -0.097945   \n",
       "1433     -0.601885 -0.118772 -0.526545  0.567203   -0.147557   -0.119231   \n",
       "1434     -0.555668 -0.048487 -0.518124  0.585318   -0.127164   -0.083522   \n",
       "1435     -0.581864 -0.151817 -0.510998  0.562955   -0.061044   -0.056798   \n",
       "\n",
       "      Large Bags  XLarge Bags      year    region  \n",
       "0      -0.917419    -0.775528 -0.413870 -1.322817  \n",
       "1      -0.904196    -0.775528 -0.413870 -1.322817  \n",
       "2      -0.887434    -0.775528 -0.413870 -1.322817  \n",
       "3      -0.809976    -0.775528 -0.413870 -1.322817  \n",
       "4      -0.693305    -0.775528 -0.413870 -1.322817  \n",
       "...          ...          ...       ...       ...  \n",
       "1431    0.494754     0.946229  2.416215 -0.879305  \n",
       "1432    0.438844    -0.775528  2.416215 -0.879305  \n",
       "1433    0.426777     1.332463  2.416215 -0.879305  \n",
       "1434    0.427507    -0.775528  2.416215 -0.879305  \n",
       "1435    0.530128    -0.775528  2.416215 -0.879305  \n",
       "\n",
       "[1436 rows x 10 columns]"
      ]
     },
     "execution_count": 41,
     "metadata": {},
     "output_type": "execute_result"
    }
   ],
   "source": [
    "x          #standardized input datas."
   ]
  },
  {
   "cell_type": "code",
   "execution_count": 42,
   "metadata": {},
   "outputs": [
    {
     "data": {
      "text/plain": [
       "(1436, 10)"
      ]
     },
     "execution_count": 42,
     "metadata": {},
     "output_type": "execute_result"
    }
   ],
   "source": [
    "x.shape"
   ]
  },
  {
   "cell_type": "code",
   "execution_count": 43,
   "metadata": {},
   "outputs": [
    {
     "data": {
      "text/plain": [
       "(1436,)"
      ]
     },
     "execution_count": 43,
     "metadata": {},
     "output_type": "execute_result"
    }
   ],
   "source": [
    "y.shape"
   ]
  },
  {
   "cell_type": "code",
   "execution_count": 44,
   "metadata": {},
   "outputs": [
    {
     "name": "stdout",
     "output_type": "stream",
     "text": [
      "(1120, 10) \t (316, 10)\n"
     ]
    }
   ],
   "source": [
    "#splitting the input and target variable into test and train data\n",
    "from sklearn.model_selection import train_test_split\n",
    "x_train,x_test,y_train,y_test=train_test_split(x,y,test_size=.22,random_state=42)\n",
    "print(x_train.shape,'\\t',x_test.shape)"
   ]
  },
  {
   "cell_type": "code",
   "execution_count": 45,
   "metadata": {},
   "outputs": [
    {
     "name": "stdout",
     "output_type": "stream",
     "text": [
      "(1120,) \t (316,)\n"
     ]
    }
   ],
   "source": [
    "print(y_train.shape,'\\t',y_test.shape)"
   ]
  },
  {
   "cell_type": "code",
   "execution_count": 46,
   "metadata": {},
   "outputs": [],
   "source": [
    "#importing libraries for models and error metrics\n",
    "from sklearn.linear_model import LinearRegression,Lasso,Ridge,ElasticNet\n",
    "from sklearn.svm import SVR\n",
    "from sklearn.neighbors import KNeighborsRegressor\n",
    "from sklearn.tree import DecisionTreeRegressor\n",
    "from sklearn.metrics import mean_absolute_error,mean_squared_error,r2_score"
   ]
  },
  {
   "cell_type": "code",
   "execution_count": 47,
   "metadata": {},
   "outputs": [
    {
     "name": "stdout",
     "output_type": "stream",
     "text": [
      "score of  LinearRegression() is: 0.3892500590449597\n",
      "Metrics:\n",
      "mean absolute error: 0.11341059939541923\n",
      "mean squared error: 0.020588156291327594\n",
      "r2 score: 0.42695639950144704\n",
      "END OF THE MODEL----------------------------------- \n",
      "\n",
      "\n",
      "score of  Lasso() is: 0.0\n",
      "Metrics:\n",
      "mean absolute error: 0.14404746835443039\n",
      "mean squared error: 0.035970870055379744\n",
      "r2 score: -0.0012007193807448413\n",
      "END OF THE MODEL----------------------------------- \n",
      "\n",
      "\n",
      "score of  Ridge() is: 0.38911866486210445\n",
      "Metrics:\n",
      "mean absolute error: 0.1132417046650618\n",
      "mean squared error: 0.020612345414235633\n",
      "r2 score: 0.4262831278452588\n",
      "END OF THE MODEL----------------------------------- \n",
      "\n",
      "\n",
      "score of  ElasticNet() is: 0.0\n",
      "Metrics:\n",
      "mean absolute error: 0.14404746835443039\n",
      "mean squared error: 0.035970870055379744\n",
      "r2 score: -0.0012007193807448413\n",
      "END OF THE MODEL----------------------------------- \n",
      "\n",
      "\n",
      "score of  SVR() is: 0.8092183170876103\n",
      "Metrics:\n",
      "mean absolute error: 0.07166261688927458\n",
      "mean squared error: 0.008361708000466032\n",
      "r2 score: 0.7672631200627227\n",
      "END OF THE MODEL----------------------------------- \n",
      "\n",
      "\n",
      "score of  KNeighborsRegressor() is: 0.8683930122559108\n",
      "Metrics:\n",
      "mean absolute error: 0.0615126582278481\n",
      "mean squared error: 0.006544594936708861\n",
      "r2 score: 0.8178400147508104\n",
      "END OF THE MODEL----------------------------------- \n",
      "\n",
      "\n",
      "score of  DecisionTreeRegressor() is: 1.0\n",
      "Metrics:\n",
      "mean absolute error: 0.07050632911392403\n",
      "mean squared error: 0.010719620253164556\n",
      "r2 score: 0.701633808344549\n",
      "END OF THE MODEL----------------------------------- \n",
      "\n",
      "\n"
     ]
    }
   ],
   "source": [
    "#creating a for loop for all the models\n",
    "model=[LinearRegression(),Lasso(),Ridge(),ElasticNet(),SVR(),KNeighborsRegressor(),DecisionTreeRegressor()]\n",
    "for m in model:\n",
    "    m.fit(x_train,y_train)\n",
    "    print('score of ',m,'is:',m.score(x_train,y_train))\n",
    "    predm=m.predict(x_test)\n",
    "    print('Metrics:')\n",
    "    print('mean absolute error:',mean_absolute_error(y_test,predm))\n",
    "    print('mean squared error:',mean_squared_error(y_test,predm))\n",
    "    print('r2 score:',r2_score(y_test,predm))\n",
    "    print('END OF THE MODEL----------------------------------- ')\n",
    "    print('\\n')"
   ]
  },
  {
   "cell_type": "markdown",
   "metadata": {},
   "source": [
    "Of the above models,KNeighbors Regressor has the maximum r2 score and least mean squared error and mean absolute error. Thus this model can be considered as the best model and parameter tuning is to be done to improve the scores."
   ]
  },
  {
   "cell_type": "code",
   "execution_count": 48,
   "metadata": {},
   "outputs": [
    {
     "data": {
      "text/plain": [
       "{'n_neighbors': 3, 'weights': 'distance'}"
      ]
     },
     "execution_count": 48,
     "metadata": {},
     "output_type": "execute_result"
    }
   ],
   "source": [
    "#finding the best parameters for KNeighbors Regressor using GridSearchcv\n",
    "from sklearn.model_selection import GridSearchCV\n",
    "from sklearn.model_selection import KFold\n",
    "kneighbors=KNeighborsRegressor()\n",
    "kfold = KFold(n_splits=3, shuffle=True, random_state=42)\n",
    "parameters={'n_neighbors':[2,3,4,5,6],'weights':['uniform','distance']}\n",
    "clf=GridSearchCV(estimator=kneighbors,param_grid=parameters,cv=kfold,scoring='r2')\n",
    "clf.fit(x,y)\n",
    "clf.best_params_"
   ]
  },
  {
   "cell_type": "code",
   "execution_count": 49,
   "metadata": {},
   "outputs": [
    {
     "name": "stdout",
     "output_type": "stream",
     "text": [
      "score: 1.0\n",
      "\n",
      "\n",
      "mean absolute error: 0.054790159622620765\n",
      "mean squared error: 0.005892475137893813\n",
      "r2 score: 0.8359908910207161\n"
     ]
    }
   ],
   "source": [
    "#training the KNeighbors Regressor model with best parameters\n",
    "kneighbors=KNeighborsRegressor(n_neighbors=3,weights='distance')\n",
    "kneighbors.fit(x_train,y_train)\n",
    "print('score:',kneighbors.score(x_train,y_train))\n",
    "predknn=kneighbors.predict(x_test)\n",
    "print('\\n')\n",
    "print('mean absolute error:',mean_absolute_error(y_test,predknn))\n",
    "print('mean squared error:',mean_squared_error(y_test,predknn))\n",
    "print('r2 score:',r2_score(y_test,predknn))"
   ]
  },
  {
   "cell_type": "markdown",
   "metadata": {},
   "source": [
    "By parameter tuning the score has been improved from 0.817 to 0.835"
   ]
  },
  {
   "cell_type": "code",
   "execution_count": 50,
   "metadata": {},
   "outputs": [
    {
     "name": "stdout",
     "output_type": "stream",
     "text": [
      "Score: [-0.37991355  0.35702882  0.10736927  0.23366046 -1.87872265  0.20171455\n",
      " -0.97843934  0.24317651  0.04384209 -0.1208493 ]\n",
      "Mean Score: -0.21711331272439943\n",
      "Standard Deviation: 0.6685686157186058\n"
     ]
    }
   ],
   "source": [
    "#cross validating KNeighbors Regressor\n",
    "from sklearn.model_selection import cross_val_score\n",
    "score=cross_val_score(kneighbors,x,y,cv=10,scoring='r2')\n",
    "print('Score:',score)\n",
    "print('Mean Score:',score.mean())\n",
    "print('Standard Deviation:',score.std())"
   ]
  },
  {
   "cell_type": "markdown",
   "metadata": {},
   "source": [
    "## Ensemble methods"
   ]
  },
  {
   "cell_type": "code",
   "execution_count": 51,
   "metadata": {},
   "outputs": [
    {
     "name": "stdout",
     "output_type": "stream",
     "text": [
      "score: 0.9688947381888025\n",
      "\n",
      "\n",
      "mean absolute error: 0.05756329113924051\n",
      "mean squared error: 0.005900463607594938\n",
      "r2 score: 0.835768542726132\n"
     ]
    }
   ],
   "source": [
    "#using random forest regressor\n",
    "from sklearn.ensemble import RandomForestRegressor\n",
    "rf=RandomForestRegressor(n_estimators=20,random_state=42)\n",
    "rf.fit(x_train,y_train)\n",
    "print('score:',rf.score(x_train,y_train))\n",
    "predrf=rf.predict(x_test)\n",
    "print('\\n')\n",
    "print('mean absolute error:',mean_absolute_error(y_test,predrf))\n",
    "print('mean squared error:',mean_squared_error(y_test,predrf))\n",
    "print('r2 score:',r2_score(y_test,predrf))"
   ]
  },
  {
   "cell_type": "code",
   "execution_count": 52,
   "metadata": {},
   "outputs": [
    {
     "name": "stdout",
     "output_type": "stream",
     "text": [
      "score: 0.8929611385576145\n",
      "\n",
      "\n",
      "mean absolute error: 0.059335443037974674\n",
      "mean squared error: 0.006268620253164557\n",
      "r2 score: 0.8255213983612162\n"
     ]
    }
   ],
   "source": [
    "from sklearn.ensemble import AdaBoostRegressor\n",
    "knn=KNeighborsRegressor()\n",
    "adb=AdaBoostRegressor(base_estimator=knn,n_estimators=20,learning_rate=0.1,random_state=42)\n",
    "adb.fit(x_train,y_train)\n",
    "print('score:',adb.score(x_train,y_train))\n",
    "predadb=adb.predict(x_test)\n",
    "print('\\n')\n",
    "print('mean absolute error:',mean_absolute_error(y_test,predadb))\n",
    "print('mean squared error:',mean_squared_error(y_test,predadb))\n",
    "print('r2 score:',r2_score(y_test,predadb))"
   ]
  },
  {
   "cell_type": "markdown",
   "metadata": {},
   "source": [
    "KNeighbors Regressor has the best r2 score than the ensemble methods and any other models used so far. Hence we can save KNeighbors Regressor as the best model to train this data "
   ]
  },
  {
   "cell_type": "code",
   "execution_count": 53,
   "metadata": {},
   "outputs": [
    {
     "data": {
      "image/png": "[encoded data removed]",
      "text/plain": [
       "<Figure size 432x288 with 1 Axes>"
      ]
     },
     "metadata": {},
     "output_type": "display_data"
    }
   ],
   "source": [
    "#plotting scatter plot between the test data and predicted data for knn\n",
    "plt.scatter(y_test,predknn)\n",
    "plt.xlabel('y_test')\n",
    "plt.ylabel('Predicted Y')\n",
    "plt.title('Scatter plot between test data and predicted data')\n",
    "plt.show()"
   ]
  },
  {
   "cell_type": "markdown",
   "metadata": {},
   "source": [
    "Most of the average price is between 0.9 to 1.3 "
   ]
  },
  {
   "cell_type": "markdown",
   "metadata": {},
   "source": [
    "## Saving the model and result"
   ]
  },
  {
   "cell_type": "code",
   "execution_count": 54,
   "metadata": {},
   "outputs": [
    {
     "data": {
      "text/plain": [
       "['Average_Price.pkl']"
      ]
     },
     "execution_count": 54,
     "metadata": {},
     "output_type": "execute_result"
    }
   ],
   "source": [
    "#saving the knn model\n",
    "import joblib\n",
    "joblib.dump(kneighbors,'Average_Price.pkl')"
   ]
  },
  {
   "cell_type": "code",
   "execution_count": 55,
   "metadata": {},
   "outputs": [],
   "source": [
    "#saving the output to csv file\n",
    "predicted_OP=pd.DataFrame(predknn)\n",
    "predicted_OP.to_csv('Average_Price_Prediction.csv')"
   ]
  },
  {
   "cell_type": "markdown",
   "metadata": {},
   "source": [
    "# 2. Finding the City or Region"
   ]
  },
  {
   "cell_type": "markdown",
   "metadata": {},
   "source": [
    "For finding the city or region we need to create a classifier model. For this we consider Region as the dependent variable and rest other attributes as independent variables."
   ]
  },
  {
   "cell_type": "code",
   "execution_count": 56,
   "metadata": {},
   "outputs": [
    {
     "data": {
      "text/plain": [
       "(1436, 11)"
      ]
     },
     "execution_count": 56,
     "metadata": {},
     "output_type": "execute_result"
    }
   ],
   "source": [
    "#lets take a seperate dataframe\n",
    "ds_class=ds\n",
    "ds_class.shape"
   ]
  },
  {
   "cell_type": "code",
   "execution_count": 57,
   "metadata": {},
   "outputs": [
    {
     "data": {
      "text/html": [
       "<div>\n",
       "<style scoped>\n",
       "    .dataframe tbody tr th:only-of-type {\n",
       "        vertical-align: middle;\n",
       "    }\n",
       "\n",
       "    .dataframe tbody tr th {\n",
       "        vertical-align: top;\n",
       "    }\n",
       "\n",
       "    .dataframe thead th {\n",
       "        text-align: right;\n",
       "    }\n",
       "</style>\n",
       "<table border=\"1\" class=\"dataframe\">\n",
       "  <thead>\n",
       "    <tr style=\"text-align: right;\">\n",
       "      <th></th>\n",
       "      <th>AveragePrice</th>\n",
       "      <th>Total Volume</th>\n",
       "      <th>4046</th>\n",
       "      <th>4225</th>\n",
       "      <th>4770</th>\n",
       "      <th>Total Bags</th>\n",
       "      <th>Small Bags</th>\n",
       "      <th>Large Bags</th>\n",
       "      <th>XLarge Bags</th>\n",
       "      <th>year</th>\n",
       "      <th>region</th>\n",
       "    </tr>\n",
       "  </thead>\n",
       "  <tbody>\n",
       "    <tr>\n",
       "      <th>0</th>\n",
       "      <td>1.33</td>\n",
       "      <td>11.070344</td>\n",
       "      <td>6.944801</td>\n",
       "      <td>10.905146</td>\n",
       "      <td>3.895080</td>\n",
       "      <td>9.070833</td>\n",
       "      <td>9.060055</td>\n",
       "      <td>4.545951</td>\n",
       "      <td>0.000000</td>\n",
       "      <td>0.000000</td>\n",
       "      <td>0</td>\n",
       "    </tr>\n",
       "    <tr>\n",
       "      <th>1</th>\n",
       "      <td>1.35</td>\n",
       "      <td>10.912867</td>\n",
       "      <td>6.515127</td>\n",
       "      <td>10.706381</td>\n",
       "      <td>4.083115</td>\n",
       "      <td>9.159737</td>\n",
       "      <td>9.149429</td>\n",
       "      <td>4.589955</td>\n",
       "      <td>0.000000</td>\n",
       "      <td>0.000000</td>\n",
       "      <td>0</td>\n",
       "    </tr>\n",
       "    <tr>\n",
       "      <th>2</th>\n",
       "      <td>0.93</td>\n",
       "      <td>11.680313</td>\n",
       "      <td>6.679222</td>\n",
       "      <td>11.600485</td>\n",
       "      <td>4.879007</td>\n",
       "      <td>9.005325</td>\n",
       "      <td>8.992584</td>\n",
       "      <td>4.645736</td>\n",
       "      <td>0.000000</td>\n",
       "      <td>0.000000</td>\n",
       "      <td>0</td>\n",
       "    </tr>\n",
       "    <tr>\n",
       "      <th>3</th>\n",
       "      <td>1.08</td>\n",
       "      <td>11.277116</td>\n",
       "      <td>7.032624</td>\n",
       "      <td>11.184108</td>\n",
       "      <td>4.298373</td>\n",
       "      <td>8.667708</td>\n",
       "      <td>8.644425</td>\n",
       "      <td>4.903495</td>\n",
       "      <td>0.000000</td>\n",
       "      <td>0.000000</td>\n",
       "      <td>0</td>\n",
       "    </tr>\n",
       "    <tr>\n",
       "      <th>4</th>\n",
       "      <td>1.28</td>\n",
       "      <td>10.840377</td>\n",
       "      <td>6.848515</td>\n",
       "      <td>10.688288</td>\n",
       "      <td>4.340944</td>\n",
       "      <td>8.729874</td>\n",
       "      <td>8.697389</td>\n",
       "      <td>5.291746</td>\n",
       "      <td>0.000000</td>\n",
       "      <td>0.000000</td>\n",
       "      <td>0</td>\n",
       "    </tr>\n",
       "    <tr>\n",
       "      <th>...</th>\n",
       "      <td>...</td>\n",
       "      <td>...</td>\n",
       "      <td>...</td>\n",
       "      <td>...</td>\n",
       "      <td>...</td>\n",
       "      <td>...</td>\n",
       "      <td>...</td>\n",
       "      <td>...</td>\n",
       "      <td>...</td>\n",
       "      <td>...</td>\n",
       "      <td>...</td>\n",
       "    </tr>\n",
       "    <tr>\n",
       "      <th>1512</th>\n",
       "      <td>1.39</td>\n",
       "      <td>12.159227</td>\n",
       "      <td>10.960064</td>\n",
       "      <td>10.939651</td>\n",
       "      <td>9.771828</td>\n",
       "      <td>10.992377</td>\n",
       "      <td>10.795988</td>\n",
       "      <td>9.245288</td>\n",
       "      <td>5.485958</td>\n",
       "      <td>0.693147</td>\n",
       "      <td>7</td>\n",
       "    </tr>\n",
       "    <tr>\n",
       "      <th>1513</th>\n",
       "      <td>1.51</td>\n",
       "      <td>12.090868</td>\n",
       "      <td>10.676528</td>\n",
       "      <td>10.862658</td>\n",
       "      <td>9.874088</td>\n",
       "      <td>11.055667</td>\n",
       "      <td>10.909713</td>\n",
       "      <td>9.059234</td>\n",
       "      <td>0.000000</td>\n",
       "      <td>0.693147</td>\n",
       "      <td>7</td>\n",
       "    </tr>\n",
       "    <tr>\n",
       "      <th>1514</th>\n",
       "      <td>1.48</td>\n",
       "      <td>12.091850</td>\n",
       "      <td>10.744316</td>\n",
       "      <td>10.876052</td>\n",
       "      <td>9.725432</td>\n",
       "      <td>11.041589</td>\n",
       "      <td>10.884322</td>\n",
       "      <td>9.019078</td>\n",
       "      <td>6.716595</td>\n",
       "      <td>0.693147</td>\n",
       "      <td>7</td>\n",
       "    </tr>\n",
       "    <tr>\n",
       "      <th>1515</th>\n",
       "      <td>1.47</td>\n",
       "      <td>12.150203</td>\n",
       "      <td>10.898807</td>\n",
       "      <td>10.889203</td>\n",
       "      <td>9.769752</td>\n",
       "      <td>11.065587</td>\n",
       "      <td>10.926918</td>\n",
       "      <td>9.021509</td>\n",
       "      <td>0.000000</td>\n",
       "      <td>0.693147</td>\n",
       "      <td>7</td>\n",
       "    </tr>\n",
       "    <tr>\n",
       "      <th>1516</th>\n",
       "      <td>1.43</td>\n",
       "      <td>12.117128</td>\n",
       "      <td>10.671682</td>\n",
       "      <td>10.900333</td>\n",
       "      <td>9.715042</td>\n",
       "      <td>11.143390</td>\n",
       "      <td>10.958796</td>\n",
       "      <td>9.363006</td>\n",
       "      <td>0.000000</td>\n",
       "      <td>0.693147</td>\n",
       "      <td>7</td>\n",
       "    </tr>\n",
       "  </tbody>\n",
       "</table>\n",
       "<p>1436 rows × 11 columns</p>\n",
       "</div>"
      ],
      "text/plain": [
       "      AveragePrice  Total Volume       4046       4225      4770  Total Bags  \\\n",
       "0             1.33     11.070344   6.944801  10.905146  3.895080    9.070833   \n",
       "1             1.35     10.912867   6.515127  10.706381  4.083115    9.159737   \n",
       "2             0.93     11.680313   6.679222  11.600485  4.879007    9.005325   \n",
       "3             1.08     11.277116   7.032624  11.184108  4.298373    8.667708   \n",
       "4             1.28     10.840377   6.848515  10.688288  4.340944    8.729874   \n",
       "...            ...           ...        ...        ...       ...         ...   \n",
       "1512          1.39     12.159227  10.960064  10.939651  9.771828   10.992377   \n",
       "1513          1.51     12.090868  10.676528  10.862658  9.874088   11.055667   \n",
       "1514          1.48     12.091850  10.744316  10.876052  9.725432   11.041589   \n",
       "1515          1.47     12.150203  10.898807  10.889203  9.769752   11.065587   \n",
       "1516          1.43     12.117128  10.671682  10.900333  9.715042   11.143390   \n",
       "\n",
       "      Small Bags  Large Bags  XLarge Bags      year  region  \n",
       "0       9.060055    4.545951     0.000000  0.000000       0  \n",
       "1       9.149429    4.589955     0.000000  0.000000       0  \n",
       "2       8.992584    4.645736     0.000000  0.000000       0  \n",
       "3       8.644425    4.903495     0.000000  0.000000       0  \n",
       "4       8.697389    5.291746     0.000000  0.000000       0  \n",
       "...          ...         ...          ...       ...     ...  \n",
       "1512   10.795988    9.245288     5.485958  0.693147       7  \n",
       "1513   10.909713    9.059234     0.000000  0.693147       7  \n",
       "1514   10.884322    9.019078     6.716595  0.693147       7  \n",
       "1515   10.926918    9.021509     0.000000  0.693147       7  \n",
       "1516   10.958796    9.363006     0.000000  0.693147       7  \n",
       "\n",
       "[1436 rows x 11 columns]"
      ]
     },
     "execution_count": 57,
     "metadata": {},
     "output_type": "execute_result"
    }
   ],
   "source": [
    "ds_class"
   ]
  },
  {
   "cell_type": "code",
   "execution_count": 58,
   "metadata": {},
   "outputs": [
    {
     "data": {
      "text/plain": [
       "0    0\n",
       "1    0\n",
       "2    0\n",
       "3    0\n",
       "4    0\n",
       "Name: region, dtype: int32"
      ]
     },
     "execution_count": 58,
     "metadata": {},
     "output_type": "execute_result"
    }
   ],
   "source": [
    "#seperating dependent variable from the dataframe\n",
    "y=ds_class.iloc[:,-1]\n",
    "y.head()"
   ]
  },
  {
   "cell_type": "code",
   "execution_count": 59,
   "metadata": {},
   "outputs": [
    {
     "data": {
      "text/html": [
       "<div>\n",
       "<style scoped>\n",
       "    .dataframe tbody tr th:only-of-type {\n",
       "        vertical-align: middle;\n",
       "    }\n",
       "\n",
       "    .dataframe tbody tr th {\n",
       "        vertical-align: top;\n",
       "    }\n",
       "\n",
       "    .dataframe thead th {\n",
       "        text-align: right;\n",
       "    }\n",
       "</style>\n",
       "<table border=\"1\" class=\"dataframe\">\n",
       "  <thead>\n",
       "    <tr style=\"text-align: right;\">\n",
       "      <th></th>\n",
       "      <th>AveragePrice</th>\n",
       "      <th>Total Volume</th>\n",
       "      <th>4046</th>\n",
       "      <th>4225</th>\n",
       "      <th>4770</th>\n",
       "      <th>Total Bags</th>\n",
       "      <th>Small Bags</th>\n",
       "      <th>Large Bags</th>\n",
       "      <th>XLarge Bags</th>\n",
       "      <th>year</th>\n",
       "    </tr>\n",
       "  </thead>\n",
       "  <tbody>\n",
       "    <tr>\n",
       "      <th>0</th>\n",
       "      <td>1.33</td>\n",
       "      <td>11.070344</td>\n",
       "      <td>6.944801</td>\n",
       "      <td>10.905146</td>\n",
       "      <td>3.895080</td>\n",
       "      <td>9.070833</td>\n",
       "      <td>9.060055</td>\n",
       "      <td>4.545951</td>\n",
       "      <td>0.0</td>\n",
       "      <td>0.0</td>\n",
       "    </tr>\n",
       "    <tr>\n",
       "      <th>1</th>\n",
       "      <td>1.35</td>\n",
       "      <td>10.912867</td>\n",
       "      <td>6.515127</td>\n",
       "      <td>10.706381</td>\n",
       "      <td>4.083115</td>\n",
       "      <td>9.159737</td>\n",
       "      <td>9.149429</td>\n",
       "      <td>4.589955</td>\n",
       "      <td>0.0</td>\n",
       "      <td>0.0</td>\n",
       "    </tr>\n",
       "    <tr>\n",
       "      <th>2</th>\n",
       "      <td>0.93</td>\n",
       "      <td>11.680313</td>\n",
       "      <td>6.679222</td>\n",
       "      <td>11.600485</td>\n",
       "      <td>4.879007</td>\n",
       "      <td>9.005325</td>\n",
       "      <td>8.992584</td>\n",
       "      <td>4.645736</td>\n",
       "      <td>0.0</td>\n",
       "      <td>0.0</td>\n",
       "    </tr>\n",
       "    <tr>\n",
       "      <th>3</th>\n",
       "      <td>1.08</td>\n",
       "      <td>11.277116</td>\n",
       "      <td>7.032624</td>\n",
       "      <td>11.184108</td>\n",
       "      <td>4.298373</td>\n",
       "      <td>8.667708</td>\n",
       "      <td>8.644425</td>\n",
       "      <td>4.903495</td>\n",
       "      <td>0.0</td>\n",
       "      <td>0.0</td>\n",
       "    </tr>\n",
       "    <tr>\n",
       "      <th>4</th>\n",
       "      <td>1.28</td>\n",
       "      <td>10.840377</td>\n",
       "      <td>6.848515</td>\n",
       "      <td>10.688288</td>\n",
       "      <td>4.340944</td>\n",
       "      <td>8.729874</td>\n",
       "      <td>8.697389</td>\n",
       "      <td>5.291746</td>\n",
       "      <td>0.0</td>\n",
       "      <td>0.0</td>\n",
       "    </tr>\n",
       "  </tbody>\n",
       "</table>\n",
       "</div>"
      ],
      "text/plain": [
       "   AveragePrice  Total Volume      4046       4225      4770  Total Bags  \\\n",
       "0          1.33     11.070344  6.944801  10.905146  3.895080    9.070833   \n",
       "1          1.35     10.912867  6.515127  10.706381  4.083115    9.159737   \n",
       "2          0.93     11.680313  6.679222  11.600485  4.879007    9.005325   \n",
       "3          1.08     11.277116  7.032624  11.184108  4.298373    8.667708   \n",
       "4          1.28     10.840377  6.848515  10.688288  4.340944    8.729874   \n",
       "\n",
       "   Small Bags  Large Bags  XLarge Bags  year  \n",
       "0    9.060055    4.545951          0.0   0.0  \n",
       "1    9.149429    4.589955          0.0   0.0  \n",
       "2    8.992584    4.645736          0.0   0.0  \n",
       "3    8.644425    4.903495          0.0   0.0  \n",
       "4    8.697389    5.291746          0.0   0.0  "
      ]
     },
     "execution_count": 59,
     "metadata": {},
     "output_type": "execute_result"
    }
   ],
   "source": [
    "#seperating independent variables from the dataframe\n",
    "ds_class_x=ds_class.iloc[:,0:-1]\n",
    "ds_class_x.head()"
   ]
  },
  {
   "cell_type": "code",
   "execution_count": 60,
   "metadata": {},
   "outputs": [],
   "source": [
    "#let us standardise the input variables\n",
    "sc_class=StandardScaler()\n",
    "x=sc_class.fit_transform(ds_class_x)\n",
    "x=pd.DataFrame(x,columns=ds_class_x.columns)"
   ]
  },
  {
   "cell_type": "code",
   "execution_count": 61,
   "metadata": {},
   "outputs": [
    {
     "name": "stdout",
     "output_type": "stream",
     "text": [
      "(1436, 10) \t (1436,)\n"
     ]
    }
   ],
   "source": [
    "print(x.shape,'\\t',y.shape)"
   ]
  },
  {
   "cell_type": "code",
   "execution_count": 62,
   "metadata": {},
   "outputs": [
    {
     "name": "stdout",
     "output_type": "stream",
     "text": [
      "(1120, 10) \t (316, 10)\n"
     ]
    }
   ],
   "source": [
    "#splitting the input and target variable into test and train data\n",
    "x_train,x_test,y_train,y_test=train_test_split(x,y,test_size=.22,random_state=42)\n",
    "print(x_train.shape,'\\t',x_test.shape)"
   ]
  },
  {
   "cell_type": "code",
   "execution_count": 63,
   "metadata": {},
   "outputs": [
    {
     "name": "stdout",
     "output_type": "stream",
     "text": [
      "(1120,) \t (316,)\n"
     ]
    }
   ],
   "source": [
    "print(y_train.shape,'\\t',y_test.shape)"
   ]
  },
  {
   "cell_type": "code",
   "execution_count": 64,
   "metadata": {},
   "outputs": [],
   "source": [
    "#importing libraries for models and error metrics\n",
    "from sklearn.linear_model import LogisticRegression\n",
    "from sklearn.naive_bayes import MultinomialNB\n",
    "from sklearn.svm import SVC\n",
    "from sklearn.tree import DecisionTreeClassifier\n",
    "from sklearn.neighbors import KNeighborsClassifier\n",
    "from sklearn.metrics import accuracy_score,confusion_matrix,classification_report\n"
   ]
  },
  {
   "cell_type": "code",
   "execution_count": 65,
   "metadata": {},
   "outputs": [
    {
     "name": "stdout",
     "output_type": "stream",
     "text": [
      "score of  LogisticRegression() is: 0.9482142857142857\n",
      "Metrics:\n",
      "Accuracy Score: 0.9145569620253164\n",
      "Confusion Matrix: [[14  0  0 ...  0  0  0]\n",
      " [ 0 14  0 ...  0  0  0]\n",
      " [ 0  0 12 ...  0  0  0]\n",
      " ...\n",
      " [ 0  0  0 ...  9  0  0]\n",
      " [ 0  0  0 ...  0  8  0]\n",
      " [ 0  0  0 ...  0  0  4]]\n",
      "Classification Report:               precision    recall  f1-score   support\n",
      "\n",
      "           0       1.00      0.93      0.97        15\n",
      "           1       0.93      1.00      0.97        14\n",
      "           2       1.00      1.00      1.00        12\n",
      "           3       1.00      1.00      1.00         7\n",
      "           4       1.00      0.89      0.94         9\n",
      "           5       1.00      1.00      1.00        12\n",
      "           6       1.00      1.00      1.00        11\n",
      "           7       0.83      1.00      0.91        10\n",
      "           8       1.00      1.00      1.00         6\n",
      "           9       0.73      1.00      0.85        11\n",
      "          10       0.80      0.80      0.80         5\n",
      "          11       1.00      1.00      1.00         4\n",
      "          12       0.93      1.00      0.97        14\n",
      "          13       1.00      1.00      1.00         5\n",
      "          14       1.00      1.00      1.00         1\n",
      "          15       1.00      1.00      1.00         5\n",
      "          16       0.67      1.00      0.80         2\n",
      "          17       0.57      1.00      0.73         4\n",
      "          18       1.00      1.00      1.00         2\n",
      "          19       0.78      1.00      0.88         7\n",
      "          20       0.00      0.00      0.00         2\n",
      "          22       0.89      1.00      0.94         8\n",
      "          23       1.00      0.50      0.67         2\n",
      "          24       1.00      1.00      1.00         4\n",
      "          25       1.00      0.62      0.77         8\n",
      "          26       1.00      1.00      1.00         7\n",
      "          28       0.83      0.83      0.83         6\n",
      "          29       1.00      0.33      0.50         3\n",
      "          30       1.00      1.00      1.00         4\n",
      "          31       1.00      0.87      0.93        15\n",
      "          32       1.00      0.83      0.91         6\n",
      "          33       1.00      1.00      1.00         2\n",
      "          34       0.50      0.50      0.50         4\n",
      "          35       1.00      0.25      0.40         4\n",
      "          36       1.00      0.78      0.88         9\n",
      "          37       1.00      1.00      1.00         4\n",
      "          38       0.70      0.88      0.78         8\n",
      "          39       1.00      1.00      1.00         2\n",
      "          40       1.00      0.33      0.50         3\n",
      "          41       0.83      1.00      0.91         5\n",
      "          42       0.89      1.00      0.94         8\n",
      "          43       1.00      1.00      1.00         2\n",
      "          44       1.00      0.93      0.96        14\n",
      "          45       1.00      1.00      1.00         6\n",
      "          46       0.67      1.00      0.80         2\n",
      "          47       0.90      1.00      0.95         9\n",
      "          49       1.00      0.89      0.94         9\n",
      "          50       0.80      1.00      0.89         4\n",
      "\n",
      "    accuracy                           0.91       316\n",
      "   macro avg       0.90      0.88      0.87       316\n",
      "weighted avg       0.92      0.91      0.91       316\n",
      "\n",
      "END OF THE MODEL----------------------------------- \n",
      "\n",
      "\n",
      "score of  SVC() is: 0.9419642857142857\n",
      "Metrics:\n",
      "Accuracy Score: 0.9208860759493671\n",
      "Confusion Matrix: [[15  0  0 ...  0  0  0]\n",
      " [ 0 14  0 ...  0  0  0]\n",
      " [ 0  0 12 ...  0  0  0]\n",
      " ...\n",
      " [ 0  0  0 ...  8  0  0]\n",
      " [ 0  0  0 ...  0  9  0]\n",
      " [ 0  0  0 ...  0  0  4]]\n",
      "Classification Report:               precision    recall  f1-score   support\n",
      "\n",
      "           0       1.00      1.00      1.00        15\n",
      "           1       0.93      1.00      0.97        14\n",
      "           2       1.00      1.00      1.00        12\n",
      "           3       1.00      1.00      1.00         7\n",
      "           4       1.00      1.00      1.00         9\n",
      "           5       1.00      1.00      1.00        12\n",
      "           6       1.00      1.00      1.00        11\n",
      "           7       0.73      0.80      0.76        10\n",
      "           8       1.00      1.00      1.00         6\n",
      "           9       0.69      1.00      0.81        11\n",
      "          10       1.00      0.80      0.89         5\n",
      "          11       1.00      1.00      1.00         4\n",
      "          12       1.00      1.00      1.00        14\n",
      "          13       1.00      1.00      1.00         5\n",
      "          14       1.00      1.00      1.00         1\n",
      "          15       1.00      1.00      1.00         5\n",
      "          16       0.67      1.00      0.80         2\n",
      "          17       0.67      1.00      0.80         4\n",
      "          18       1.00      1.00      1.00         2\n",
      "          19       1.00      1.00      1.00         7\n",
      "          20       0.00      0.00      0.00         2\n",
      "          22       0.89      1.00      0.94         8\n",
      "          23       0.00      0.00      0.00         2\n",
      "          24       1.00      1.00      1.00         4\n",
      "          25       1.00      0.38      0.55         8\n",
      "          26       1.00      1.00      1.00         7\n",
      "          28       1.00      0.83      0.91         6\n",
      "          29       0.67      0.67      0.67         3\n",
      "          30       1.00      1.00      1.00         4\n",
      "          31       1.00      0.87      0.93        15\n",
      "          32       1.00      0.83      0.91         6\n",
      "          33       1.00      1.00      1.00         2\n",
      "          34       0.57      1.00      0.73         4\n",
      "          35       0.33      0.25      0.29         4\n",
      "          36       1.00      1.00      1.00         9\n",
      "          37       1.00      1.00      1.00         4\n",
      "          38       0.78      0.88      0.82         8\n",
      "          39       1.00      1.00      1.00         2\n",
      "          40       0.00      0.00      0.00         3\n",
      "          41       1.00      1.00      1.00         5\n",
      "          42       1.00      1.00      1.00         8\n",
      "          43       1.00      1.00      1.00         2\n",
      "          44       1.00      1.00      1.00        14\n",
      "          45       1.00      1.00      1.00         6\n",
      "          46       1.00      1.00      1.00         2\n",
      "          47       0.80      0.89      0.84         9\n",
      "          49       1.00      1.00      1.00         9\n",
      "          50       0.67      1.00      0.80         4\n",
      "\n",
      "    accuracy                           0.92       316\n",
      "   macro avg       0.86      0.88      0.86       316\n",
      "weighted avg       0.91      0.92      0.91       316\n",
      "\n",
      "END OF THE MODEL----------------------------------- \n",
      "\n",
      "\n",
      "score of  KNeighborsClassifier() is: 0.9660714285714286\n",
      "Metrics:\n",
      "Accuracy Score: 0.9208860759493671\n",
      "Confusion Matrix: [[12  0  0 ...  0  0  0]\n",
      " [ 0 13  0 ...  1  0  0]\n",
      " [ 0  0 12 ...  0  0  0]\n",
      " ...\n",
      " [ 0  0  0 ...  5  0  0]\n",
      " [ 0  0  0 ...  0  9  0]\n",
      " [ 0  0  0 ...  0  0  4]]\n",
      "Classification Report:               precision    recall  f1-score   support\n",
      "\n",
      "           0       1.00      0.80      0.89        15\n",
      "           1       0.93      0.93      0.93        14\n",
      "           2       0.92      1.00      0.96        12\n",
      "           3       1.00      1.00      1.00         7\n",
      "           4       1.00      1.00      1.00         9\n",
      "           5       1.00      1.00      1.00        12\n",
      "           6       1.00      1.00      1.00        11\n",
      "           7       0.91      1.00      0.95        10\n",
      "           8       1.00      0.83      0.91         6\n",
      "           9       0.79      1.00      0.88        11\n",
      "          10       0.80      0.80      0.80         5\n",
      "          11       1.00      1.00      1.00         4\n",
      "          12       1.00      1.00      1.00        14\n",
      "          13       1.00      0.60      0.75         5\n",
      "          14       0.00      0.00      0.00         1\n",
      "          15       1.00      1.00      1.00         5\n",
      "          16       0.67      1.00      0.80         2\n",
      "          17       0.80      1.00      0.89         4\n",
      "          18       0.50      1.00      0.67         2\n",
      "          19       1.00      1.00      1.00         7\n",
      "          20       0.50      0.50      0.50         2\n",
      "          22       0.89      1.00      0.94         8\n",
      "          23       1.00      0.50      0.67         2\n",
      "          24       0.80      1.00      0.89         4\n",
      "          25       1.00      0.62      0.77         8\n",
      "          26       1.00      1.00      1.00         7\n",
      "          28       1.00      0.83      0.91         6\n",
      "          29       0.33      0.67      0.44         3\n",
      "          30       1.00      1.00      1.00         4\n",
      "          31       1.00      0.93      0.97        15\n",
      "          32       1.00      0.83      0.91         6\n",
      "          33       1.00      1.00      1.00         2\n",
      "          34       1.00      0.75      0.86         4\n",
      "          35       1.00      0.75      0.86         4\n",
      "          36       0.89      0.89      0.89         9\n",
      "          37       1.00      1.00      1.00         4\n",
      "          38       1.00      1.00      1.00         8\n",
      "          39       1.00      1.00      1.00         2\n",
      "          40       1.00      1.00      1.00         3\n",
      "          41       1.00      1.00      1.00         5\n",
      "          42       1.00      1.00      1.00         8\n",
      "          43       1.00      1.00      1.00         2\n",
      "          44       1.00      1.00      1.00        14\n",
      "          45       1.00      1.00      1.00         6\n",
      "          46       0.40      1.00      0.57         2\n",
      "          47       0.71      0.56      0.63         9\n",
      "          49       1.00      1.00      1.00         9\n",
      "          50       0.80      1.00      0.89         4\n",
      "\n",
      "    accuracy                           0.92       316\n",
      "   macro avg       0.89      0.89      0.88       316\n",
      "weighted avg       0.94      0.92      0.92       316\n",
      "\n",
      "END OF THE MODEL----------------------------------- \n",
      "\n",
      "\n",
      "score of  DecisionTreeClassifier() is: 1.0\n",
      "Metrics:\n",
      "Accuracy Score: 0.8670886075949367\n",
      "Confusion Matrix: [[14  0  0 ...  0  0  0]\n",
      " [ 0 13  0 ...  0  0  0]\n",
      " [ 0  0 12 ...  0  0  0]\n",
      " ...\n",
      " [ 0  0  0 ...  6  0  0]\n",
      " [ 0  0  0 ...  0  7  0]\n",
      " [ 0  0  0 ...  0  0  2]]\n",
      "Classification Report:               precision    recall  f1-score   support\n",
      "\n",
      "           0       1.00      0.93      0.97        15\n",
      "           1       1.00      0.93      0.96        14\n",
      "           2       0.86      1.00      0.92        12\n",
      "           3       1.00      0.86      0.92         7\n",
      "           4       0.90      1.00      0.95         9\n",
      "           5       0.92      1.00      0.96        12\n",
      "           6       0.79      1.00      0.88        11\n",
      "           7       0.90      0.90      0.90        10\n",
      "           8       1.00      0.67      0.80         6\n",
      "           9       0.90      0.82      0.86        11\n",
      "          10       1.00      1.00      1.00         5\n",
      "          11       0.75      0.75      0.75         4\n",
      "          12       0.79      0.79      0.79        14\n",
      "          13       1.00      1.00      1.00         5\n",
      "          14       1.00      1.00      1.00         1\n",
      "          15       1.00      0.80      0.89         5\n",
      "          16       1.00      1.00      1.00         2\n",
      "          17       1.00      0.75      0.86         4\n",
      "          18       1.00      1.00      1.00         2\n",
      "          19       0.78      1.00      0.88         7\n",
      "          20       1.00      0.50      0.67         2\n",
      "          22       0.75      0.75      0.75         8\n",
      "          23       0.50      0.50      0.50         2\n",
      "          24       1.00      1.00      1.00         4\n",
      "          25       0.86      0.75      0.80         8\n",
      "          26       1.00      1.00      1.00         7\n",
      "          27       0.00      0.00      0.00         0\n",
      "          28       1.00      0.83      0.91         6\n",
      "          29       0.33      0.67      0.44         3\n",
      "          30       1.00      1.00      1.00         4\n",
      "          31       0.78      0.93      0.85        15\n",
      "          32       0.67      0.67      0.67         6\n",
      "          33       1.00      1.00      1.00         2\n",
      "          34       0.29      0.50      0.36         4\n",
      "          35       0.75      0.75      0.75         4\n",
      "          36       0.89      0.89      0.89         9\n",
      "          37       1.00      1.00      1.00         4\n",
      "          38       0.80      0.50      0.62         8\n",
      "          39       0.50      1.00      0.67         2\n",
      "          40       1.00      1.00      1.00         3\n",
      "          41       1.00      0.80      0.89         5\n",
      "          42       1.00      0.88      0.93         8\n",
      "          43       1.00      1.00      1.00         2\n",
      "          44       1.00      1.00      1.00        14\n",
      "          45       1.00      1.00      1.00         6\n",
      "          46       0.67      1.00      0.80         2\n",
      "          47       0.86      0.67      0.75         9\n",
      "          49       1.00      0.78      0.88         9\n",
      "          50       1.00      0.50      0.67         4\n",
      "\n",
      "    accuracy                           0.87       316\n",
      "   macro avg       0.86      0.84      0.84       316\n",
      "weighted avg       0.89      0.87      0.87       316\n",
      "\n",
      "END OF THE MODEL----------------------------------- \n",
      "\n",
      "\n"
     ]
    }
   ],
   "source": [
    "#creating a for loop for all the models\n",
    "model=[LogisticRegression(),SVC(),KNeighborsClassifier(),DecisionTreeClassifier()]\n",
    "for m in model:\n",
    "    m.fit(x_train,y_train)\n",
    "    print('score of ',m,'is:',m.score(x_train,y_train))\n",
    "    predm=m.predict(x_test)\n",
    "    print('Metrics:')\n",
    "    print('Accuracy Score:',accuracy_score(y_test,predm))\n",
    "    print('Confusion Matrix:',confusion_matrix(y_test,predm))\n",
    "    print('Classification Report:',classification_report(y_test,predm))\n",
    "    print('END OF THE MODEL----------------------------------- ')\n",
    "    print('\\n')"
   ]
  },
  {
   "cell_type": "code",
   "execution_count": 66,
   "metadata": {},
   "outputs": [
    {
     "name": "stdout",
     "output_type": "stream",
     "text": [
      "Accuracy score: 0.3575949367088608\n",
      "Confusion matrix:\n",
      " [[14  0  0 ...  0  0  0]\n",
      " [ 0  5  0 ...  1  0  0]\n",
      " [ 3  0  3 ...  0  0  0]\n",
      " ...\n",
      " [ 0  2  0 ...  5  0  0]\n",
      " [ 0  0  0 ...  0  0  0]\n",
      " [ 0  0  0 ...  0  0  3]]\n",
      "Classification report:\n",
      "               precision    recall  f1-score   support\n",
      "\n",
      "           0       0.29      0.93      0.44        15\n",
      "           1       0.71      0.36      0.48        14\n",
      "           2       0.14      0.25      0.18        12\n",
      "           3       0.50      0.57      0.53         7\n",
      "           4       0.50      0.11      0.18         9\n",
      "           5       1.00      0.42      0.59        12\n",
      "           6       0.62      0.45      0.53        11\n",
      "           7       1.00      0.40      0.57        10\n",
      "           8       0.00      0.00      0.00         6\n",
      "           9       0.22      1.00      0.37        11\n",
      "          10       0.00      0.00      0.00         5\n",
      "          11       0.00      0.00      0.00         4\n",
      "          12       1.00      0.43      0.60        14\n",
      "          13       0.00      0.00      0.00         5\n",
      "          14       0.00      0.00      0.00         1\n",
      "          15       0.00      0.00      0.00         5\n",
      "          16       0.00      0.00      0.00         2\n",
      "          17       0.38      0.75      0.50         4\n",
      "          18       0.00      0.00      0.00         2\n",
      "          19       0.35      1.00      0.52         7\n",
      "          20       0.00      0.00      0.00         2\n",
      "          22       0.54      0.88      0.67         8\n",
      "          23       0.00      0.00      0.00         2\n",
      "          24       0.00      0.00      0.00         4\n",
      "          25       0.00      0.00      0.00         8\n",
      "          26       0.50      0.14      0.22         7\n",
      "          28       0.50      0.17      0.25         6\n",
      "          29       0.00      0.00      0.00         3\n",
      "          30       0.00      0.00      0.00         4\n",
      "          31       0.18      0.13      0.15        15\n",
      "          32       1.00      0.33      0.50         6\n",
      "          33       0.00      0.00      0.00         2\n",
      "          34       0.33      0.25      0.29         4\n",
      "          35       0.00      0.00      0.00         4\n",
      "          36       0.00      0.00      0.00         9\n",
      "          37       0.00      0.00      0.00         4\n",
      "          38       0.25      0.62      0.36         8\n",
      "          39       0.00      0.00      0.00         2\n",
      "          40       0.50      0.67      0.57         3\n",
      "          41       0.00      0.00      0.00         5\n",
      "          42       0.41      0.88      0.56         8\n",
      "          43       0.00      0.00      0.00         2\n",
      "          44       0.32      0.64      0.43        14\n",
      "          45       0.00      0.00      0.00         6\n",
      "          46       0.00      0.00      0.00         2\n",
      "          47       0.62      0.56      0.59         9\n",
      "          49       0.00      0.00      0.00         9\n",
      "          50       0.17      0.75      0.27         4\n",
      "\n",
      "    accuracy                           0.36       316\n",
      "   macro avg       0.25      0.26      0.22       316\n",
      "weighted avg       0.35      0.36      0.30       316\n",
      "\n"
     ]
    }
   ],
   "source": [
    "#training using Multinomial NB\n",
    "x_train,x_test,y_train,y_test=train_test_split(ds_class_x,y,test_size=.22,random_state=42)\n",
    "mnb=MultinomialNB()\n",
    "mnb.fit(x_train,y_train)\n",
    "predmnb=mnb.predict(x_test)\n",
    "\n",
    "print('Accuracy score:',accuracy_score(y_test,predmnb))\n",
    "print('Confusion matrix:\\n',confusion_matrix(y_test,predmnb))\n",
    "print('Classification report:\\n',classification_report(y_test,predmnb))\n"
   ]
  },
  {
   "cell_type": "markdown",
   "metadata": {},
   "source": [
    "Of the above models,SVC and KNeighbors classifiers have the maximum accuracy score. These models can be considered as the best models and parameter tuning is to be done to improve the scores."
   ]
  },
  {
   "cell_type": "code",
   "execution_count": 67,
   "metadata": {},
   "outputs": [
    {
     "data": {
      "text/plain": [
       "{'n_neighbors': 2, 'weights': 'distance'}"
      ]
     },
     "execution_count": 67,
     "metadata": {},
     "output_type": "execute_result"
    }
   ],
   "source": [
    "#finding the best parameters for KNeighbors Classifier using GridSearchcv\n",
    "knnclass=KNeighborsClassifier()\n",
    "kfold = KFold(n_splits=3, shuffle=True, random_state=42)\n",
    "parameters={'n_neighbors':[2,3,4,5,6],'weights':['uniform','distance']}\n",
    "clf_class=GridSearchCV(estimator=knnclass,param_grid=parameters,cv=kfold,scoring='accuracy')\n",
    "clf_class.fit(x,y)\n",
    "clf_class.best_params_"
   ]
  },
  {
   "cell_type": "code",
   "execution_count": 68,
   "metadata": {},
   "outputs": [
    {
     "name": "stdout",
     "output_type": "stream",
     "text": [
      "score: 1.0\n",
      "\n",
      "\n",
      "Accuracy Score: 0.9367088607594937\n",
      "Confusion Matrix: [[13  0  0 ...  0  0  0]\n",
      " [ 0 12  0 ...  1  0  0]\n",
      " [ 0  0 12 ...  0  0  0]\n",
      " ...\n",
      " [ 0  0  0 ...  6  0  0]\n",
      " [ 0  0  0 ...  0  9  0]\n",
      " [ 0  0  0 ...  0  0  4]]\n",
      "Classification Report:               precision    recall  f1-score   support\n",
      "\n",
      "           0       1.00      0.87      0.93        15\n",
      "           1       1.00      0.86      0.92        14\n",
      "           2       1.00      1.00      1.00        12\n",
      "           3       0.88      1.00      0.93         7\n",
      "           4       1.00      0.78      0.88         9\n",
      "           5       1.00      1.00      1.00        12\n",
      "           6       0.92      1.00      0.96        11\n",
      "           7       1.00      1.00      1.00        10\n",
      "           8       1.00      1.00      1.00         6\n",
      "           9       0.85      1.00      0.92        11\n",
      "          10       1.00      1.00      1.00         5\n",
      "          11       1.00      1.00      1.00         4\n",
      "          12       1.00      1.00      1.00        14\n",
      "          13       0.83      1.00      0.91         5\n",
      "          14       1.00      1.00      1.00         1\n",
      "          15       1.00      1.00      1.00         5\n",
      "          16       1.00      1.00      1.00         2\n",
      "          17       1.00      1.00      1.00         4\n",
      "          18       1.00      1.00      1.00         2\n",
      "          19       1.00      1.00      1.00         7\n",
      "          20       1.00      0.50      0.67         2\n",
      "          22       1.00      1.00      1.00         8\n",
      "          23       0.67      1.00      0.80         2\n",
      "          24       1.00      1.00      1.00         4\n",
      "          25       1.00      0.62      0.77         8\n",
      "          26       1.00      1.00      1.00         7\n",
      "          28       0.86      1.00      0.92         6\n",
      "          29       0.40      0.67      0.50         3\n",
      "          30       1.00      1.00      1.00         4\n",
      "          31       1.00      0.87      0.93        15\n",
      "          32       1.00      1.00      1.00         6\n",
      "          33       1.00      1.00      1.00         2\n",
      "          34       0.67      1.00      0.80         4\n",
      "          35       1.00      1.00      1.00         4\n",
      "          36       0.89      0.89      0.89         9\n",
      "          37       1.00      1.00      1.00         4\n",
      "          38       1.00      0.88      0.93         8\n",
      "          39       1.00      1.00      1.00         2\n",
      "          40       1.00      1.00      1.00         3\n",
      "          41       1.00      1.00      1.00         5\n",
      "          42       1.00      0.75      0.86         8\n",
      "          43       1.00      1.00      1.00         2\n",
      "          44       1.00      1.00      1.00        14\n",
      "          45       1.00      1.00      1.00         6\n",
      "          46       0.50      1.00      0.67         2\n",
      "          47       0.75      0.67      0.71         9\n",
      "          49       0.90      1.00      0.95         9\n",
      "          50       0.67      1.00      0.80         4\n",
      "\n",
      "    accuracy                           0.94       316\n",
      "   macro avg       0.93      0.94      0.93       316\n",
      "weighted avg       0.95      0.94      0.94       316\n",
      "\n"
     ]
    }
   ],
   "source": [
    "#training the KNeighbors Classifier model with best parameters\n",
    "knnclass=KNeighborsClassifier(n_neighbors=2,weights='distance')\n",
    "knnclass.fit(x_train,y_train)\n",
    "print('score:',knnclass.score(x_train,y_train))\n",
    "predknn_class=knnclass.predict(x_test)\n",
    "print('\\n')\n",
    "print('Accuracy Score:',accuracy_score(y_test,predknn_class))\n",
    "print('Confusion Matrix:',confusion_matrix(y_test,predknn_class))\n",
    "print('Classification Report:',classification_report(y_test,predknn_class))"
   ]
  },
  {
   "cell_type": "markdown",
   "metadata": {},
   "source": [
    "By parameter tuning the accuracy score for KNeighbors Classifier has been improved from 0.920 to 0.936"
   ]
  },
  {
   "cell_type": "code",
   "execution_count": 69,
   "metadata": {},
   "outputs": [
    {
     "data": {
      "text/plain": [
       "{'C': 100, 'gamma': 0.1, 'kernel': 'rbf'}"
      ]
     },
     "execution_count": 69,
     "metadata": {},
     "output_type": "execute_result"
    }
   ],
   "source": [
    "#finding best parameters for SVM using gridsearch\n",
    "# defining parameter range\n",
    "svc=SVC()\n",
    "parameters = {'C': [0.1, 1, 10, 100, 1000],  \n",
    "              'gamma': [1, 0.1, 0.01, 0.001, 0.0001], \n",
    "              'kernel': ['rbf','linear','ploy']}  \n",
    "  \n",
    "grid = GridSearchCV(estimator=svc, param_grid=parameters,scoring='accuracy') \n",
    "  \n",
    "# fitting the model for grid search \n",
    "grid.fit(x, y) \n",
    "grid.best_params_"
   ]
  },
  {
   "cell_type": "code",
   "execution_count": 70,
   "metadata": {},
   "outputs": [
    {
     "name": "stdout",
     "output_type": "stream",
     "text": [
      "score: 1.0\n",
      "\n",
      "\n",
      "Accuracy Score: 0.9588607594936709\n",
      "Confusion Matrix: [[14  0  0 ...  0  0  0]\n",
      " [ 0 12  0 ...  1  0  0]\n",
      " [ 0  0 12 ...  0  0  0]\n",
      " ...\n",
      " [ 0  0  0 ...  8  0  0]\n",
      " [ 0  0  0 ...  0  8  0]\n",
      " [ 0  0  0 ...  0  0  4]]\n",
      "Classification Report:               precision    recall  f1-score   support\n",
      "\n",
      "           0       1.00      0.93      0.97        15\n",
      "           1       1.00      0.86      0.92        14\n",
      "           2       1.00      1.00      1.00        12\n",
      "           3       1.00      1.00      1.00         7\n",
      "           4       1.00      1.00      1.00         9\n",
      "           5       0.92      1.00      0.96        12\n",
      "           6       0.92      1.00      0.96        11\n",
      "           7       1.00      1.00      1.00        10\n",
      "           8       1.00      1.00      1.00         6\n",
      "           9       0.85      1.00      0.92        11\n",
      "          10       1.00      0.80      0.89         5\n",
      "          11       1.00      1.00      1.00         4\n",
      "          12       1.00      1.00      1.00        14\n",
      "          13       1.00      1.00      1.00         5\n",
      "          14       1.00      1.00      1.00         1\n",
      "          15       1.00      1.00      1.00         5\n",
      "          16       1.00      1.00      1.00         2\n",
      "          17       1.00      1.00      1.00         4\n",
      "          18       1.00      1.00      1.00         2\n",
      "          19       1.00      1.00      1.00         7\n",
      "          20       1.00      0.50      0.67         2\n",
      "          22       1.00      1.00      1.00         8\n",
      "          23       1.00      1.00      1.00         2\n",
      "          24       1.00      1.00      1.00         4\n",
      "          25       1.00      0.75      0.86         8\n",
      "          26       1.00      1.00      1.00         7\n",
      "          28       1.00      1.00      1.00         6\n",
      "          29       0.60      1.00      0.75         3\n",
      "          30       1.00      1.00      1.00         4\n",
      "          31       0.93      0.93      0.93        15\n",
      "          32       1.00      1.00      1.00         6\n",
      "          33       1.00      1.00      1.00         2\n",
      "          34       0.67      1.00      0.80         4\n",
      "          35       1.00      1.00      1.00         4\n",
      "          36       0.89      0.89      0.89         9\n",
      "          37       1.00      1.00      1.00         4\n",
      "          38       1.00      0.88      0.93         8\n",
      "          39       1.00      1.00      1.00         2\n",
      "          40       1.00      1.00      1.00         3\n",
      "          41       1.00      1.00      1.00         5\n",
      "          42       0.88      0.88      0.88         8\n",
      "          43       1.00      1.00      1.00         2\n",
      "          44       1.00      1.00      1.00        14\n",
      "          45       1.00      1.00      1.00         6\n",
      "          46       1.00      1.00      1.00         2\n",
      "          47       0.89      0.89      0.89         9\n",
      "          49       1.00      0.89      0.94         9\n",
      "          50       0.80      1.00      0.89         4\n",
      "\n",
      "    accuracy                           0.96       316\n",
      "   macro avg       0.97      0.96      0.96       316\n",
      "weighted avg       0.97      0.96      0.96       316\n",
      "\n"
     ]
    }
   ],
   "source": [
    "#training the svm model with best parameters\n",
    "svc=SVC(C=100,gamma=0.1,kernel='rbf')\n",
    "svc.fit(x_train,y_train)\n",
    "print('score:',svc.score(x_train,y_train))\n",
    "predsvc_class=svc.predict(x_test)\n",
    "print('\\n')\n",
    "print('Accuracy Score:',accuracy_score(y_test,predsvc_class))\n",
    "print('Confusion Matrix:',confusion_matrix(y_test,predsvc_class))\n",
    "print('Classification Report:',classification_report(y_test,predsvc_class))"
   ]
  },
  {
   "cell_type": "markdown",
   "metadata": {},
   "source": [
    "By parameter tuning of SVC accuracy scores have been improved from 0.920 to 0.958"
   ]
  },
  {
   "cell_type": "markdown",
   "metadata": {},
   "source": [
    "## Ensemble methods "
   ]
  },
  {
   "cell_type": "code",
   "execution_count": 71,
   "metadata": {},
   "outputs": [
    {
     "name": "stdout",
     "output_type": "stream",
     "text": [
      "score: 0.9991071428571429\n",
      "\n",
      "\n",
      "Accuracy Score: 0.9683544303797469\n",
      "Confusion Matrix: [[13  0  0 ...  0  0  0]\n",
      " [ 0 14  0 ...  0  0  0]\n",
      " [ 0  0 12 ...  0  0  0]\n",
      " ...\n",
      " [ 0  0  0 ...  9  0  0]\n",
      " [ 0  0  0 ...  0  8  0]\n",
      " [ 0  0  0 ...  0  0  4]]\n",
      "Classification Report:               precision    recall  f1-score   support\n",
      "\n",
      "           0       0.93      0.87      0.90        15\n",
      "           1       1.00      1.00      1.00        14\n",
      "           2       1.00      1.00      1.00        12\n",
      "           3       1.00      1.00      1.00         7\n",
      "           4       1.00      1.00      1.00         9\n",
      "           5       0.92      1.00      0.96        12\n",
      "           6       0.92      1.00      0.96        11\n",
      "           7       0.90      0.90      0.90        10\n",
      "           8       1.00      1.00      1.00         6\n",
      "           9       1.00      1.00      1.00        11\n",
      "          10       1.00      0.80      0.89         5\n",
      "          11       1.00      1.00      1.00         4\n",
      "          12       1.00      1.00      1.00        14\n",
      "          13       1.00      1.00      1.00         5\n",
      "          14       1.00      1.00      1.00         1\n",
      "          15       1.00      1.00      1.00         5\n",
      "          16       1.00      1.00      1.00         2\n",
      "          17       0.80      1.00      0.89         4\n",
      "          18       0.67      1.00      0.80         2\n",
      "          19       1.00      0.86      0.92         7\n",
      "          20       1.00      1.00      1.00         2\n",
      "          22       1.00      1.00      1.00         8\n",
      "          23       1.00      1.00      1.00         2\n",
      "          24       1.00      1.00      1.00         4\n",
      "          25       1.00      1.00      1.00         8\n",
      "          26       1.00      1.00      1.00         7\n",
      "          28       1.00      1.00      1.00         6\n",
      "          29       0.75      1.00      0.86         3\n",
      "          30       1.00      1.00      1.00         4\n",
      "          31       0.93      0.93      0.93        15\n",
      "          32       1.00      0.83      0.91         6\n",
      "          33       1.00      1.00      1.00         2\n",
      "          34       1.00      1.00      1.00         4\n",
      "          35       0.75      0.75      0.75         4\n",
      "          36       1.00      1.00      1.00         9\n",
      "          37       1.00      1.00      1.00         4\n",
      "          38       1.00      1.00      1.00         8\n",
      "          39       1.00      1.00      1.00         2\n",
      "          40       1.00      1.00      1.00         3\n",
      "          41       1.00      1.00      1.00         5\n",
      "          42       1.00      1.00      1.00         8\n",
      "          43       1.00      1.00      1.00         2\n",
      "          44       1.00      0.93      0.96        14\n",
      "          45       1.00      1.00      1.00         6\n",
      "          46       0.67      1.00      0.80         2\n",
      "          47       1.00      1.00      1.00         9\n",
      "          49       1.00      0.89      0.94         9\n",
      "          50       1.00      1.00      1.00         4\n",
      "\n",
      "    accuracy                           0.97       316\n",
      "   macro avg       0.96      0.97      0.97       316\n",
      "weighted avg       0.97      0.97      0.97       316\n",
      "\n"
     ]
    }
   ],
   "source": [
    "#using Random Forest Classifier\n",
    "#best model\n",
    "from sklearn.ensemble import RandomForestClassifier\n",
    "rfc=RandomForestClassifier(n_estimators=20,random_state=42)\n",
    "rfc.fit(x_train,y_train)\n",
    "print('score:',rfc.score(x_train,y_train))\n",
    "predrfc=rfc.predict(x_test)\n",
    "print('\\n')\n",
    "print('Accuracy Score:',accuracy_score(y_test,predrfc))\n",
    "print('Confusion Matrix:',confusion_matrix(y_test,predrfc))\n",
    "print('Classification Report:',classification_report(y_test,predrfc))"
   ]
  },
  {
   "cell_type": "code",
   "execution_count": 72,
   "metadata": {},
   "outputs": [
    {
     "name": "stdout",
     "output_type": "stream",
     "text": [
      "Score: [0.875      0.9375     0.92361111 0.97916667 0.95138889 1.\n",
      " 0.93006993 0.97202797 0.90909091 0.94405594]\n",
      "Mean Score: 0.9421911421911421\n",
      "Standard Deviation: 0.03436828344556587\n"
     ]
    }
   ],
   "source": [
    "#cross validating Random forest classifier\n",
    "from sklearn.model_selection import cross_val_score\n",
    "score=cross_val_score(rfc,x,y,cv=10,scoring='accuracy')\n",
    "print('Score:',score)\n",
    "print('Mean Score:',score.mean())\n",
    "print('Standard Deviation:',score.std())"
   ]
  },
  {
   "cell_type": "markdown",
   "metadata": {},
   "source": [
    "The mean score of cross validation is 0.94 which implies the model is performing well"
   ]
  },
  {
   "cell_type": "code",
   "execution_count": 73,
   "metadata": {},
   "outputs": [
    {
     "name": "stdout",
     "output_type": "stream",
     "text": [
      "score: 0.05178571428571429\n",
      "\n",
      "\n",
      "Accuracy Score: 0.022151898734177215\n",
      "Confusion Matrix: [[0 0 0 ... 0 0 0]\n",
      " [0 0 0 ... 0 0 0]\n",
      " [0 0 0 ... 0 0 0]\n",
      " ...\n",
      " [0 0 0 ... 0 0 0]\n",
      " [0 0 0 ... 0 0 0]\n",
      " [0 0 0 ... 0 0 0]]\n",
      "Classification Report:               precision    recall  f1-score   support\n",
      "\n",
      "           0       0.00      0.00      0.00        15\n",
      "           1       0.00      0.00      0.00        14\n",
      "           2       0.00      0.00      0.00        12\n",
      "           3       0.02      1.00      0.04         7\n",
      "           4       0.00      0.00      0.00         9\n",
      "           5       0.00      0.00      0.00        12\n",
      "           6       0.00      0.00      0.00        11\n",
      "           7       0.00      0.00      0.00        10\n",
      "           8       0.00      0.00      0.00         6\n",
      "           9       0.00      0.00      0.00        11\n",
      "          10       0.00      0.00      0.00         5\n",
      "          11       0.00      0.00      0.00         4\n",
      "          12       0.00      0.00      0.00        14\n",
      "          13       0.00      0.00      0.00         5\n",
      "          14       0.00      0.00      0.00         1\n",
      "          15       0.00      0.00      0.00         5\n",
      "          16       0.00      0.00      0.00         2\n",
      "          17       0.00      0.00      0.00         4\n",
      "          18       0.00      0.00      0.00         2\n",
      "          19       0.00      0.00      0.00         7\n",
      "          20       0.00      0.00      0.00         2\n",
      "          22       0.00      0.00      0.00         8\n",
      "          23       0.00      0.00      0.00         2\n",
      "          24       0.00      0.00      0.00         4\n",
      "          25       0.00      0.00      0.00         8\n",
      "          26       0.00      0.00      0.00         7\n",
      "          28       0.00      0.00      0.00         6\n",
      "          29       0.00      0.00      0.00         3\n",
      "          30       0.00      0.00      0.00         4\n",
      "          31       0.00      0.00      0.00        15\n",
      "          32       0.00      0.00      0.00         6\n",
      "          33       0.00      0.00      0.00         2\n",
      "          34       0.00      0.00      0.00         4\n",
      "          35       0.00      0.00      0.00         4\n",
      "          36       0.00      0.00      0.00         9\n",
      "          37       0.00      0.00      0.00         4\n",
      "          38       0.00      0.00      0.00         8\n",
      "          39       0.00      0.00      0.00         2\n",
      "          40       0.00      0.00      0.00         3\n",
      "          41       0.00      0.00      0.00         5\n",
      "          42       0.00      0.00      0.00         8\n",
      "          43       0.00      0.00      0.00         2\n",
      "          44       0.00      0.00      0.00        14\n",
      "          45       0.00      0.00      0.00         6\n",
      "          46       0.00      0.00      0.00         2\n",
      "          47       0.00      0.00      0.00         9\n",
      "          49       0.00      0.00      0.00         9\n",
      "          50       0.00      0.00      0.00         4\n",
      "\n",
      "    accuracy                           0.02       316\n",
      "   macro avg       0.00      0.02      0.00       316\n",
      "weighted avg       0.00      0.02      0.00       316\n",
      "\n"
     ]
    }
   ],
   "source": [
    "from sklearn.ensemble import AdaBoostClassifier\n",
    "svc_adb=SVC()\n",
    "adbc=AdaBoostClassifier(base_estimator=svc_adb,algorithm='SAMME',n_estimators=20,learning_rate=0.1,random_state=42)\n",
    "adbc.fit(x_train,y_train)\n",
    "print('score:',adbc.score(x_train,y_train))\n",
    "predadbc=adbc.predict(x_test)\n",
    "print('\\n')\n",
    "print('Accuracy Score:',accuracy_score(y_test,predadbc))\n",
    "print('Confusion Matrix:',confusion_matrix(y_test,predadbc))\n",
    "print('Classification Report:',classification_report(y_test,predadbc))"
   ]
  },
  {
   "cell_type": "markdown",
   "metadata": {},
   "source": [
    "The ensemble method of Random Forest Classifier has higher accuracy score of 0.968 than the tuned svm classifier. Hence we can consider Random Forest Classifier as the best model for training this data"
   ]
  },
  {
   "cell_type": "code",
   "execution_count": 74,
   "metadata": {},
   "outputs": [
    {
     "data": {
      "image/png": "[encoded data removed]",
      "text/plain": [
       "<Figure size 432x288 with 1 Axes>"
      ]
     },
     "metadata": {},
     "output_type": "display_data"
    }
   ],
   "source": [
    "#plotting scatter plot between the test data and predicted data for knn\n",
    "plt.scatter(y_test,predrfc)\n",
    "plt.xlabel('y_test')\n",
    "plt.ylabel('Predicted Y')\n",
    "plt.title('Scatter plot between test data and predicted data')\n",
    "plt.show()"
   ]
  },
  {
   "cell_type": "markdown",
   "metadata": {},
   "source": [
    "The actual vs predicted output shows a linear relationship and is not overfitted or underfitted."
   ]
  },
  {
   "cell_type": "markdown",
   "metadata": {},
   "source": [
    "## Saving the model and result"
   ]
  },
  {
   "cell_type": "code",
   "execution_count": 75,
   "metadata": {},
   "outputs": [
    {
     "data": {
      "text/plain": [
       "['City_or_Region.pkl']"
      ]
     },
     "execution_count": 75,
     "metadata": {},
     "output_type": "execute_result"
    }
   ],
   "source": [
    "#saving the RFC model\n",
    "import joblib\n",
    "joblib.dump(rfc,'City_or_Region.pkl')"
   ]
  },
  {
   "cell_type": "code",
   "execution_count": 76,
   "metadata": {},
   "outputs": [],
   "source": [
    "#saving the output to csv file\n",
    "pred_OP=pd.DataFrame(predrfc)\n",
    "pred_OP.to_csv('predicted_city_or_region.csv')"
   ]
  }
 ],
 "metadata": {
  "kernelspec": {
   "display_name": "Python 3",
   "language": "python",
   "name": "python3"
  },
  "language_info": {
   "codemirror_mode": {
    "name": "ipython",
    "version": 3
   },
   "file_extension": ".py",
   "mimetype": "text/x-python",
   "name": "python",
   "nbconvert_exporter": "python",
   "pygments_lexer": "ipython3",
   "version": "3.8.3"
  }
 },
 "nbformat": 4,
 "nbformat_minor": 4
}
